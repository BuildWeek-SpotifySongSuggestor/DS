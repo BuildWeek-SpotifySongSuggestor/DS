{
  "nbformat": 4,
  "nbformat_minor": 0,
  "metadata": {
    "colab": {
      "name": "NLP_AND_CNN.ipynb",
      "provenance": []
    },
    "kernelspec": {
      "name": "python3",
      "display_name": "Python 3"
    },
    "accelerator": "GPU"
  },
  "cells": [
    {
      "cell_type": "code",
      "metadata": {
        "id": "niXNlnBy_wGS",
        "colab_type": "code",
        "colab": {
          "base_uri": "https://localhost:8080/",
          "height": 436
        },
        "outputId": "bcf4a9f6-07a5-4043-9249-886062567f7b"
      },
      "source": [
        "#Spacey Load into Colab\n",
        "!python -m spacy download en_core_web_lg"
      ],
      "execution_count": 213,
      "outputs": [
        {
          "output_type": "stream",
          "text": [
            "Requirement already satisfied: en_core_web_lg==2.2.5 from https://github.com/explosion/spacy-models/releases/download/en_core_web_lg-2.2.5/en_core_web_lg-2.2.5.tar.gz#egg=en_core_web_lg==2.2.5 in /usr/local/lib/python3.6/dist-packages (2.2.5)\n",
            "Requirement already satisfied: spacy>=2.2.2 in /usr/local/lib/python3.6/dist-packages (from en_core_web_lg==2.2.5) (2.2.4)\n",
            "Requirement already satisfied: murmurhash<1.1.0,>=0.28.0 in /usr/local/lib/python3.6/dist-packages (from spacy>=2.2.2->en_core_web_lg==2.2.5) (1.0.2)\n",
            "Requirement already satisfied: cymem<2.1.0,>=2.0.2 in /usr/local/lib/python3.6/dist-packages (from spacy>=2.2.2->en_core_web_lg==2.2.5) (2.0.3)\n",
            "Requirement already satisfied: tqdm<5.0.0,>=4.38.0 in /usr/local/lib/python3.6/dist-packages (from spacy>=2.2.2->en_core_web_lg==2.2.5) (4.41.1)\n",
            "Requirement already satisfied: wasabi<1.1.0,>=0.4.0 in /usr/local/lib/python3.6/dist-packages (from spacy>=2.2.2->en_core_web_lg==2.2.5) (0.8.0)\n",
            "Requirement already satisfied: numpy>=1.15.0 in /usr/local/lib/python3.6/dist-packages (from spacy>=2.2.2->en_core_web_lg==2.2.5) (1.18.5)\n",
            "Requirement already satisfied: preshed<3.1.0,>=3.0.2 in /usr/local/lib/python3.6/dist-packages (from spacy>=2.2.2->en_core_web_lg==2.2.5) (3.0.2)\n",
            "Requirement already satisfied: requests<3.0.0,>=2.13.0 in /usr/local/lib/python3.6/dist-packages (from spacy>=2.2.2->en_core_web_lg==2.2.5) (2.23.0)\n",
            "Requirement already satisfied: blis<0.5.0,>=0.4.0 in /usr/local/lib/python3.6/dist-packages (from spacy>=2.2.2->en_core_web_lg==2.2.5) (0.4.1)\n",
            "Requirement already satisfied: setuptools in /usr/local/lib/python3.6/dist-packages (from spacy>=2.2.2->en_core_web_lg==2.2.5) (50.3.0)\n",
            "Requirement already satisfied: thinc==7.4.0 in /usr/local/lib/python3.6/dist-packages (from spacy>=2.2.2->en_core_web_lg==2.2.5) (7.4.0)\n",
            "Requirement already satisfied: catalogue<1.1.0,>=0.0.7 in /usr/local/lib/python3.6/dist-packages (from spacy>=2.2.2->en_core_web_lg==2.2.5) (1.0.0)\n",
            "Requirement already satisfied: srsly<1.1.0,>=1.0.2 in /usr/local/lib/python3.6/dist-packages (from spacy>=2.2.2->en_core_web_lg==2.2.5) (1.0.2)\n",
            "Requirement already satisfied: plac<1.2.0,>=0.9.6 in /usr/local/lib/python3.6/dist-packages (from spacy>=2.2.2->en_core_web_lg==2.2.5) (1.1.3)\n",
            "Requirement already satisfied: idna<3,>=2.5 in /usr/local/lib/python3.6/dist-packages (from requests<3.0.0,>=2.13.0->spacy>=2.2.2->en_core_web_lg==2.2.5) (2.10)\n",
            "Requirement already satisfied: chardet<4,>=3.0.2 in /usr/local/lib/python3.6/dist-packages (from requests<3.0.0,>=2.13.0->spacy>=2.2.2->en_core_web_lg==2.2.5) (3.0.4)\n",
            "Requirement already satisfied: certifi>=2017.4.17 in /usr/local/lib/python3.6/dist-packages (from requests<3.0.0,>=2.13.0->spacy>=2.2.2->en_core_web_lg==2.2.5) (2020.6.20)\n",
            "Requirement already satisfied: urllib3!=1.25.0,!=1.25.1,<1.26,>=1.21.1 in /usr/local/lib/python3.6/dist-packages (from requests<3.0.0,>=2.13.0->spacy>=2.2.2->en_core_web_lg==2.2.5) (1.24.3)\n",
            "Requirement already satisfied: importlib-metadata>=0.20; python_version < \"3.8\" in /usr/local/lib/python3.6/dist-packages (from catalogue<1.1.0,>=0.0.7->spacy>=2.2.2->en_core_web_lg==2.2.5) (1.7.0)\n",
            "Requirement already satisfied: zipp>=0.5 in /usr/local/lib/python3.6/dist-packages (from importlib-metadata>=0.20; python_version < \"3.8\"->catalogue<1.1.0,>=0.0.7->spacy>=2.2.2->en_core_web_lg==2.2.5) (3.1.0)\n",
            "\u001b[38;5;2m✔ Download and installation successful\u001b[0m\n",
            "You can now load the model via spacy.load('en_core_web_lg')\n"
          ],
          "name": "stdout"
        }
      ]
    },
    {
      "cell_type": "code",
      "metadata": {
        "id": "0L7k96lOAPgg",
        "colab_type": "code",
        "colab": {
          "base_uri": "https://localhost:8080/",
          "height": 139
        },
        "outputId": "9efa21a3-eb21-4fc3-8da1-3ae846d2a191"
      },
      "source": [
        "#Imports  all posible imports used or to be used\n",
        "#CNN,RNN imports \n",
        "%load_ext tensorboard\n",
        "%tensorflow_version 2.X\n",
        "import tensorflow as tf\n",
        "import pandas as pd\n",
        "import numpy as np\n",
        "import os\n",
        "import matplotlib.pyplot as plt\n",
        "from sklearn.utils import shuffle\n",
        "from tensorflow.keras.layers import Input,Embedding, Dense,LSTM, Conv2D,Conv1D, GlobalAveragePooling2D, MaxPooling2D,Flatten\n",
        "from tensorflow.keras.models import Model, Sequential\n",
        "from tensorflow.keras.callbacks import EarlyStopping, TensorBoard\n",
        "from sklearn.neighbors import NearestNeighbors,KNeighborsClassifier\n",
        "from sklearn.feature_extraction.text import CountVectorizer, TfidfVectorizer\n",
        "import re\n",
        "import string\n",
        "import spacy\n",
        "import requests\n",
        "from bs4 import BeautifulSoup\n",
        "from sklearn.preprocessing import LabelEncoder\n",
        "from sklearn.model_selection import train_test_split\n",
        "\n",
        "#NLP LOAD SPACY\n"
      ],
      "execution_count": 214,
      "outputs": [
        {
          "output_type": "stream",
          "text": [
            "The tensorboard extension is already loaded. To reload it, use:\n",
            "  %reload_ext tensorboard\n",
            "`%tensorflow_version` only switches the major version: 1.x or 2.x.\n",
            "You set: `2.X`. This will be interpreted as: `2.x`.\n",
            "\n",
            "\n",
            "TensorFlow is already loaded. Please restart the runtime to change versions.\n"
          ],
          "name": "stdout"
        }
      ]
    },
    {
      "cell_type": "code",
      "metadata": {
        "id": "r5kaxyNxMZ18",
        "colab_type": "code",
        "colab": {}
      },
      "source": [
        "nlp = spacy.load(\"en_core_web_lg\")"
      ],
      "execution_count": 215,
      "outputs": []
    },
    {
      "cell_type": "code",
      "metadata": {
        "id": "Kq0KFcI5AdRw",
        "colab_type": "code",
        "colab": {}
      },
      "source": [
        "#DATA PATH\n",
        "PATH = \"/content/drive/My Drive/spotifydata/\""
      ],
      "execution_count": 218,
      "outputs": []
    },
    {
      "cell_type": "code",
      "metadata": {
        "id": "fk3JO_cOA0I-",
        "colab_type": "code",
        "colab": {
          "base_uri": "https://localhost:8080/",
          "height": 87
        },
        "outputId": "6cb5535c-5d89-4ee3-a3f2-8c38324a0ef3"
      },
      "source": [
        "#ALL DATASET MOUNTS\n",
        "global_csv = pd.read_csv(PATH+'global.csv')\n",
        "data_csv = pd.read_csv(PATH+'data.csv')\n",
        "final_csv = pd.read_csv(PATH+'final_csv.csv')\n",
        "completed_csv = pd.read_csv(PATH+'Spotify_3Mil_Dataset.csv')\n",
        "print(\"Global\", global_csv.shape)\n",
        "print(\"Data\", data_csv.shape)\n",
        "print(\"Final\",final_csv.shape)\n",
        "print(\"Completed\",completed_csv.shape)"
      ],
      "execution_count": 219,
      "outputs": [
        {
          "output_type": "stream",
          "text": [
            "Global (72600, 22)\n",
            "Data (3111889, 22)\n",
            "Final (250053, 22)\n",
            "Completed (3183212, 24)\n"
          ],
          "name": "stdout"
        }
      ]
    },
    {
      "cell_type": "code",
      "metadata": {
        "id": "y-qZ5t3xCRE_",
        "colab_type": "code",
        "colab": {
          "base_uri": "https://localhost:8080/",
          "height": 35
        },
        "outputId": "cec6df17-3f72-4375-b4da-5822dd84078d"
      },
      "source": [
        "completed_csv.drop_duplicates(subset=['track_id'],inplace=True)\n",
        "completed_csv.shape"
      ],
      "execution_count": 220,
      "outputs": [
        {
          "output_type": "execute_result",
          "data": {
            "text/plain": [
              "(20116, 24)"
            ]
          },
          "metadata": {
            "tags": []
          },
          "execution_count": 220
        }
      ]
    },
    {
      "cell_type": "code",
      "metadata": {
        "id": "U_C32BCG1CXc",
        "colab_type": "code",
        "colab": {
          "base_uri": "https://localhost:8080/",
          "height": 35
        },
        "outputId": "d285f5d0-7c15-40b1-fffb-0653d3fccafc"
      },
      "source": [
        "#Merge with Genres DB\n",
        "real_final_csv = completed_csv.merge(final_csv,how='inner',on='track_name')\n",
        "real_final_csv.shape"
      ],
      "execution_count": 221,
      "outputs": [
        {
          "output_type": "execute_result",
          "data": {
            "text/plain": [
              "(498058, 45)"
            ]
          },
          "metadata": {
            "tags": []
          },
          "execution_count": 221
        }
      ]
    },
    {
      "cell_type": "code",
      "metadata": {
        "id": "F-wIAlQ97vZF",
        "colab_type": "code",
        "colab": {
          "base_uri": "https://localhost:8080/",
          "height": 208
        },
        "outputId": "9f4d9770-4409-4595-905e-ba4c57d29665"
      },
      "source": [
        "real_final_csv.columns"
      ],
      "execution_count": 222,
      "outputs": [
        {
          "output_type": "execute_result",
          "data": {
            "text/plain": [
              "Index(['Unnamed: 0', 'region_x', 'position_x', 'month_x', 'day_x', 'year',\n",
              "       'region.1', 'streams_x', 'artist_x', 'track_name', 'track_id',\n",
              "       'duration_ms_x', 'time_signature_x', 'danceability_x', 'energy_x',\n",
              "       'key', 'loudness_x', 'mode', 'speechiness_x', 'acousticness_x',\n",
              "       'instrumentalness_x', 'liveness_x', 'valence_x', 'tempo_x',\n",
              "       'position_y', 'artist_y', 'streams_y', 'url', 'Year', 'month_y',\n",
              "       'day_y', 'region_y', 'danceability_y', 'energy_y', 'loudness_y',\n",
              "       'speechiness_y', 'acousticness_y', 'instrumentalness_y', 'liveness_y',\n",
              "       'valence_y', 'tempo_y', 'duration_ms_y', 'time_signature_y',\n",
              "       'Artist Popularity', 'Genres_cleaned'],\n",
              "      dtype='object')"
            ]
          },
          "metadata": {
            "tags": []
          },
          "execution_count": 222
        }
      ]
    },
    {
      "cell_type": "code",
      "metadata": {
        "id": "Ny0m6Nog12JK",
        "colab_type": "code",
        "colab": {}
      },
      "source": [
        "columns = [ 'position_y', 'artist_y', 'streams_y', 'url', 'Year', 'month_y',\n",
        "           'day_y', 'region_y', 'danceability_y', 'energy_y', 'loudness_y',\n",
        "           'speechiness_y', 'acousticness_y', 'instrumentalness_y', 'liveness_y',\n",
        "           'valence_y', 'tempo_y', 'duration_ms_y', 'time_signature_y']"
      ],
      "execution_count": 228,
      "outputs": []
    },
    {
      "cell_type": "code",
      "metadata": {
        "id": "ezVle7tx2r2q",
        "colab_type": "code",
        "colab": {
          "base_uri": "https://localhost:8080/",
          "height": 329
        },
        "outputId": "82b3171b-d8cb-4533-b55d-33f049a68c3b"
      },
      "source": [
        "real_final_csv.drop(columns=columns,index=1,inplace=True)\n",
        "real_final_csv"
      ],
      "execution_count": 229,
      "outputs": [
        {
          "output_type": "error",
          "ename": "KeyError",
          "evalue": "ignored",
          "traceback": [
            "\u001b[0;31m---------------------------------------------------------------------------\u001b[0m",
            "\u001b[0;31mKeyError\u001b[0m                                  Traceback (most recent call last)",
            "\u001b[0;32m<ipython-input-229-c079289f772f>\u001b[0m in \u001b[0;36m<module>\u001b[0;34m()\u001b[0m\n\u001b[0;32m----> 1\u001b[0;31m \u001b[0mreal_final_csv\u001b[0m\u001b[0;34m.\u001b[0m\u001b[0mdrop\u001b[0m\u001b[0;34m(\u001b[0m\u001b[0mcolumns\u001b[0m\u001b[0;34m=\u001b[0m\u001b[0mcolumns\u001b[0m\u001b[0;34m,\u001b[0m\u001b[0mindex\u001b[0m\u001b[0;34m=\u001b[0m\u001b[0;36m1\u001b[0m\u001b[0;34m,\u001b[0m\u001b[0minplace\u001b[0m\u001b[0;34m=\u001b[0m\u001b[0;32mTrue\u001b[0m\u001b[0;34m)\u001b[0m\u001b[0;34m\u001b[0m\u001b[0;34m\u001b[0m\u001b[0m\n\u001b[0m\u001b[1;32m      2\u001b[0m \u001b[0mreal_final_csv\u001b[0m\u001b[0;34m\u001b[0m\u001b[0;34m\u001b[0m\u001b[0m\n",
            "\u001b[0;32m/usr/local/lib/python3.6/dist-packages/pandas/core/frame.py\u001b[0m in \u001b[0;36mdrop\u001b[0;34m(self, labels, axis, index, columns, level, inplace, errors)\u001b[0m\n\u001b[1;32m   3995\u001b[0m             \u001b[0mlevel\u001b[0m\u001b[0;34m=\u001b[0m\u001b[0mlevel\u001b[0m\u001b[0;34m,\u001b[0m\u001b[0;34m\u001b[0m\u001b[0;34m\u001b[0m\u001b[0m\n\u001b[1;32m   3996\u001b[0m             \u001b[0minplace\u001b[0m\u001b[0;34m=\u001b[0m\u001b[0minplace\u001b[0m\u001b[0;34m,\u001b[0m\u001b[0;34m\u001b[0m\u001b[0;34m\u001b[0m\u001b[0m\n\u001b[0;32m-> 3997\u001b[0;31m             \u001b[0merrors\u001b[0m\u001b[0;34m=\u001b[0m\u001b[0merrors\u001b[0m\u001b[0;34m,\u001b[0m\u001b[0;34m\u001b[0m\u001b[0;34m\u001b[0m\u001b[0m\n\u001b[0m\u001b[1;32m   3998\u001b[0m         )\n\u001b[1;32m   3999\u001b[0m \u001b[0;34m\u001b[0m\u001b[0m\n",
            "\u001b[0;32m/usr/local/lib/python3.6/dist-packages/pandas/core/generic.py\u001b[0m in \u001b[0;36mdrop\u001b[0;34m(self, labels, axis, index, columns, level, inplace, errors)\u001b[0m\n\u001b[1;32m   3934\u001b[0m         \u001b[0;32mfor\u001b[0m \u001b[0maxis\u001b[0m\u001b[0;34m,\u001b[0m \u001b[0mlabels\u001b[0m \u001b[0;32min\u001b[0m \u001b[0maxes\u001b[0m\u001b[0;34m.\u001b[0m\u001b[0mitems\u001b[0m\u001b[0;34m(\u001b[0m\u001b[0;34m)\u001b[0m\u001b[0;34m:\u001b[0m\u001b[0;34m\u001b[0m\u001b[0;34m\u001b[0m\u001b[0m\n\u001b[1;32m   3935\u001b[0m             \u001b[0;32mif\u001b[0m \u001b[0mlabels\u001b[0m \u001b[0;32mis\u001b[0m \u001b[0;32mnot\u001b[0m \u001b[0;32mNone\u001b[0m\u001b[0;34m:\u001b[0m\u001b[0;34m\u001b[0m\u001b[0;34m\u001b[0m\u001b[0m\n\u001b[0;32m-> 3936\u001b[0;31m                 \u001b[0mobj\u001b[0m \u001b[0;34m=\u001b[0m \u001b[0mobj\u001b[0m\u001b[0;34m.\u001b[0m\u001b[0m_drop_axis\u001b[0m\u001b[0;34m(\u001b[0m\u001b[0mlabels\u001b[0m\u001b[0;34m,\u001b[0m \u001b[0maxis\u001b[0m\u001b[0;34m,\u001b[0m \u001b[0mlevel\u001b[0m\u001b[0;34m=\u001b[0m\u001b[0mlevel\u001b[0m\u001b[0;34m,\u001b[0m \u001b[0merrors\u001b[0m\u001b[0;34m=\u001b[0m\u001b[0merrors\u001b[0m\u001b[0;34m)\u001b[0m\u001b[0;34m\u001b[0m\u001b[0;34m\u001b[0m\u001b[0m\n\u001b[0m\u001b[1;32m   3937\u001b[0m \u001b[0;34m\u001b[0m\u001b[0m\n\u001b[1;32m   3938\u001b[0m         \u001b[0;32mif\u001b[0m \u001b[0minplace\u001b[0m\u001b[0;34m:\u001b[0m\u001b[0;34m\u001b[0m\u001b[0;34m\u001b[0m\u001b[0m\n",
            "\u001b[0;32m/usr/local/lib/python3.6/dist-packages/pandas/core/generic.py\u001b[0m in \u001b[0;36m_drop_axis\u001b[0;34m(self, labels, axis, level, errors)\u001b[0m\n\u001b[1;32m   3968\u001b[0m                 \u001b[0mnew_axis\u001b[0m \u001b[0;34m=\u001b[0m \u001b[0maxis\u001b[0m\u001b[0;34m.\u001b[0m\u001b[0mdrop\u001b[0m\u001b[0;34m(\u001b[0m\u001b[0mlabels\u001b[0m\u001b[0;34m,\u001b[0m \u001b[0mlevel\u001b[0m\u001b[0;34m=\u001b[0m\u001b[0mlevel\u001b[0m\u001b[0;34m,\u001b[0m \u001b[0merrors\u001b[0m\u001b[0;34m=\u001b[0m\u001b[0merrors\u001b[0m\u001b[0;34m)\u001b[0m\u001b[0;34m\u001b[0m\u001b[0;34m\u001b[0m\u001b[0m\n\u001b[1;32m   3969\u001b[0m             \u001b[0;32melse\u001b[0m\u001b[0;34m:\u001b[0m\u001b[0;34m\u001b[0m\u001b[0;34m\u001b[0m\u001b[0m\n\u001b[0;32m-> 3970\u001b[0;31m                 \u001b[0mnew_axis\u001b[0m \u001b[0;34m=\u001b[0m \u001b[0maxis\u001b[0m\u001b[0;34m.\u001b[0m\u001b[0mdrop\u001b[0m\u001b[0;34m(\u001b[0m\u001b[0mlabels\u001b[0m\u001b[0;34m,\u001b[0m \u001b[0merrors\u001b[0m\u001b[0;34m=\u001b[0m\u001b[0merrors\u001b[0m\u001b[0;34m)\u001b[0m\u001b[0;34m\u001b[0m\u001b[0;34m\u001b[0m\u001b[0m\n\u001b[0m\u001b[1;32m   3971\u001b[0m             \u001b[0mresult\u001b[0m \u001b[0;34m=\u001b[0m \u001b[0mself\u001b[0m\u001b[0;34m.\u001b[0m\u001b[0mreindex\u001b[0m\u001b[0;34m(\u001b[0m\u001b[0;34m**\u001b[0m\u001b[0;34m{\u001b[0m\u001b[0maxis_name\u001b[0m\u001b[0;34m:\u001b[0m \u001b[0mnew_axis\u001b[0m\u001b[0;34m}\u001b[0m\u001b[0;34m)\u001b[0m\u001b[0;34m\u001b[0m\u001b[0;34m\u001b[0m\u001b[0m\n\u001b[1;32m   3972\u001b[0m \u001b[0;34m\u001b[0m\u001b[0m\n",
            "\u001b[0;32m/usr/local/lib/python3.6/dist-packages/pandas/core/indexes/base.py\u001b[0m in \u001b[0;36mdrop\u001b[0;34m(self, labels, errors)\u001b[0m\n\u001b[1;32m   5016\u001b[0m         \u001b[0;32mif\u001b[0m \u001b[0mmask\u001b[0m\u001b[0;34m.\u001b[0m\u001b[0many\u001b[0m\u001b[0;34m(\u001b[0m\u001b[0;34m)\u001b[0m\u001b[0;34m:\u001b[0m\u001b[0;34m\u001b[0m\u001b[0;34m\u001b[0m\u001b[0m\n\u001b[1;32m   5017\u001b[0m             \u001b[0;32mif\u001b[0m \u001b[0merrors\u001b[0m \u001b[0;34m!=\u001b[0m \u001b[0;34m\"ignore\"\u001b[0m\u001b[0;34m:\u001b[0m\u001b[0;34m\u001b[0m\u001b[0;34m\u001b[0m\u001b[0m\n\u001b[0;32m-> 5018\u001b[0;31m                 \u001b[0;32mraise\u001b[0m \u001b[0mKeyError\u001b[0m\u001b[0;34m(\u001b[0m\u001b[0;34mf\"{labels[mask]} not found in axis\"\u001b[0m\u001b[0;34m)\u001b[0m\u001b[0;34m\u001b[0m\u001b[0;34m\u001b[0m\u001b[0m\n\u001b[0m\u001b[1;32m   5019\u001b[0m             \u001b[0mindexer\u001b[0m \u001b[0;34m=\u001b[0m \u001b[0mindexer\u001b[0m\u001b[0;34m[\u001b[0m\u001b[0;34m~\u001b[0m\u001b[0mmask\u001b[0m\u001b[0;34m]\u001b[0m\u001b[0;34m\u001b[0m\u001b[0;34m\u001b[0m\u001b[0m\n\u001b[1;32m   5020\u001b[0m         \u001b[0;32mreturn\u001b[0m \u001b[0mself\u001b[0m\u001b[0;34m.\u001b[0m\u001b[0mdelete\u001b[0m\u001b[0;34m(\u001b[0m\u001b[0mindexer\u001b[0m\u001b[0;34m)\u001b[0m\u001b[0;34m\u001b[0m\u001b[0;34m\u001b[0m\u001b[0m\n",
            "\u001b[0;31mKeyError\u001b[0m: '[1] not found in axis'"
          ]
        }
      ]
    },
    {
      "cell_type": "code",
      "metadata": {
        "id": "nWgw9tMV20Jg",
        "colab_type": "code",
        "colab": {}
      },
      "source": [
        "real_final_csv.rename(columns={'region_x':'region', 'position_x':'position',\n",
        "                               'month_x':'month', 'day_x':'day','region.1':'region',\n",
        "                               'streams_x':'streams','artist_x':'artist','duration_ms_x':'duration_ms',\n",
        "                               'time_signature_x':'time_signature', 'danceability_x':'danceability',\n",
        "                               'energy_x':'energy', 'loudness_x':'loudness','speechiness_x':'speechiness',\n",
        "                               'acousticness_x':'acousticness',\n",
        "                               'instrumentalness_x':'instrumentalness', 'liveness_x':'liveness',\n",
        "                               'valence_x':'valence', 'tempo_x':'tempo'},inplace=True)"
      ],
      "execution_count": 230,
      "outputs": []
    },
    {
      "cell_type": "code",
      "metadata": {
        "id": "NutrjFnX8JZ3",
        "colab_type": "code",
        "colab": {
          "base_uri": "https://localhost:8080/",
          "height": 35
        },
        "outputId": "49fb68d0-d6ec-4058-aebb-5b7e278b199c"
      },
      "source": [
        "real_final_csv.shape"
      ],
      "execution_count": 231,
      "outputs": [
        {
          "output_type": "execute_result",
          "data": {
            "text/plain": [
              "(498057, 26)"
            ]
          },
          "metadata": {
            "tags": []
          },
          "execution_count": 231
        }
      ]
    },
    {
      "cell_type": "code",
      "metadata": {
        "id": "_S57W1Y49Qdc",
        "colab_type": "code",
        "colab": {}
      },
      "source": [
        "df_noduplicate = real_final_csv.drop_duplicates(subset=['track_id'])"
      ],
      "execution_count": 232,
      "outputs": []
    },
    {
      "cell_type": "code",
      "metadata": {
        "id": "ufOoH3nr9hxY",
        "colab_type": "code",
        "colab": {}
      },
      "source": [
        "df_noduplicates = df_noduplicate.reset_index()"
      ],
      "execution_count": 233,
      "outputs": []
    },
    {
      "cell_type": "code",
      "metadata": {
        "id": "TSnosC8R6L6C",
        "colab_type": "code",
        "colab": {}
      },
      "source": [
        "completed_csv = completed_csv.reset_index()"
      ],
      "execution_count": 234,
      "outputs": []
    },
    {
      "cell_type": "code",
      "metadata": {
        "id": "ZwhjaJbS-ZrK",
        "colab_type": "code",
        "colab": {}
      },
      "source": [
        "col_drop = ['index','Unnamed: 0']\n",
        "completed_csv.drop(columns=col_drop, axis=1, inplace=True)\n",
        "df_noduplicates.drop(columns=col_drop, axis=1, inplace=True)"
      ],
      "execution_count": 235,
      "outputs": []
    },
    {
      "cell_type": "code",
      "metadata": {
        "id": "b8EyZopL58X1",
        "colab_type": "code",
        "colab": {
          "base_uri": "https://localhost:8080/",
          "height": 661
        },
        "outputId": "36bfad1e-3a04-425a-8277-0494a8bdf49c"
      },
      "source": [
        "completed_csv"
      ],
      "execution_count": 236,
      "outputs": [
        {
          "output_type": "execute_result",
          "data": {
            "text/html": [
              "<div>\n",
              "<style scoped>\n",
              "    .dataframe tbody tr th:only-of-type {\n",
              "        vertical-align: middle;\n",
              "    }\n",
              "\n",
              "    .dataframe tbody tr th {\n",
              "        vertical-align: top;\n",
              "    }\n",
              "\n",
              "    .dataframe thead th {\n",
              "        text-align: right;\n",
              "    }\n",
              "</style>\n",
              "<table border=\"1\" class=\"dataframe\">\n",
              "  <thead>\n",
              "    <tr style=\"text-align: right;\">\n",
              "      <th></th>\n",
              "      <th>region</th>\n",
              "      <th>position</th>\n",
              "      <th>month</th>\n",
              "      <th>day</th>\n",
              "      <th>year</th>\n",
              "      <th>region.1</th>\n",
              "      <th>streams</th>\n",
              "      <th>artist</th>\n",
              "      <th>track_name</th>\n",
              "      <th>track_id</th>\n",
              "      <th>duration_ms</th>\n",
              "      <th>time_signature</th>\n",
              "      <th>danceability</th>\n",
              "      <th>energy</th>\n",
              "      <th>key</th>\n",
              "      <th>loudness</th>\n",
              "      <th>mode</th>\n",
              "      <th>speechiness</th>\n",
              "      <th>acousticness</th>\n",
              "      <th>instrumentalness</th>\n",
              "      <th>liveness</th>\n",
              "      <th>valence</th>\n",
              "      <th>tempo</th>\n",
              "    </tr>\n",
              "  </thead>\n",
              "  <tbody>\n",
              "    <tr>\n",
              "      <th>0</th>\n",
              "      <td>global</td>\n",
              "      <td>1</td>\n",
              "      <td>1</td>\n",
              "      <td>1</td>\n",
              "      <td>2017</td>\n",
              "      <td>global</td>\n",
              "      <td>3135625</td>\n",
              "      <td>The Weeknd</td>\n",
              "      <td>Starboy</td>\n",
              "      <td>5aAx2yezTd8zXrkmtKl66Z</td>\n",
              "      <td>230453</td>\n",
              "      <td>4</td>\n",
              "      <td>0.681</td>\n",
              "      <td>0.594</td>\n",
              "      <td>7</td>\n",
              "      <td>-7.028</td>\n",
              "      <td>1</td>\n",
              "      <td>0.2820</td>\n",
              "      <td>0.16500</td>\n",
              "      <td>0.000003</td>\n",
              "      <td>0.1340</td>\n",
              "      <td>0.535</td>\n",
              "      <td>186.054</td>\n",
              "    </tr>\n",
              "    <tr>\n",
              "      <th>1</th>\n",
              "      <td>global</td>\n",
              "      <td>2</td>\n",
              "      <td>1</td>\n",
              "      <td>1</td>\n",
              "      <td>2017</td>\n",
              "      <td>global</td>\n",
              "      <td>3015525</td>\n",
              "      <td>The Chainsmokers</td>\n",
              "      <td>Closer</td>\n",
              "      <td>7BKLCZ1jbUBVqRi2FVlTVw</td>\n",
              "      <td>244960</td>\n",
              "      <td>4</td>\n",
              "      <td>0.748</td>\n",
              "      <td>0.524</td>\n",
              "      <td>8</td>\n",
              "      <td>-5.599</td>\n",
              "      <td>1</td>\n",
              "      <td>0.0338</td>\n",
              "      <td>0.41400</td>\n",
              "      <td>0.000000</td>\n",
              "      <td>0.1110</td>\n",
              "      <td>0.661</td>\n",
              "      <td>95.010</td>\n",
              "    </tr>\n",
              "    <tr>\n",
              "      <th>2</th>\n",
              "      <td>global</td>\n",
              "      <td>3</td>\n",
              "      <td>1</td>\n",
              "      <td>1</td>\n",
              "      <td>2017</td>\n",
              "      <td>global</td>\n",
              "      <td>2545384</td>\n",
              "      <td>DJ Snake</td>\n",
              "      <td>Let Me Love You</td>\n",
              "      <td>4pdPtRcBmOSQDlJ3Fk945m</td>\n",
              "      <td>205947</td>\n",
              "      <td>4</td>\n",
              "      <td>0.476</td>\n",
              "      <td>0.718</td>\n",
              "      <td>8</td>\n",
              "      <td>-5.309</td>\n",
              "      <td>1</td>\n",
              "      <td>0.0576</td>\n",
              "      <td>0.07840</td>\n",
              "      <td>0.000010</td>\n",
              "      <td>0.1220</td>\n",
              "      <td>0.142</td>\n",
              "      <td>199.864</td>\n",
              "    </tr>\n",
              "    <tr>\n",
              "      <th>3</th>\n",
              "      <td>global</td>\n",
              "      <td>4</td>\n",
              "      <td>1</td>\n",
              "      <td>1</td>\n",
              "      <td>2017</td>\n",
              "      <td>global</td>\n",
              "      <td>2356604</td>\n",
              "      <td>Clean Bandit</td>\n",
              "      <td>Rockabye (feat. Sean Paul &amp; Anne-Marie)</td>\n",
              "      <td>5knuzwU65gJK7IF5yJsuaW</td>\n",
              "      <td>251088</td>\n",
              "      <td>4</td>\n",
              "      <td>0.720</td>\n",
              "      <td>0.763</td>\n",
              "      <td>9</td>\n",
              "      <td>-4.068</td>\n",
              "      <td>0</td>\n",
              "      <td>0.0523</td>\n",
              "      <td>0.40600</td>\n",
              "      <td>0.000000</td>\n",
              "      <td>0.1800</td>\n",
              "      <td>0.742</td>\n",
              "      <td>101.965</td>\n",
              "    </tr>\n",
              "    <tr>\n",
              "      <th>4</th>\n",
              "      <td>global</td>\n",
              "      <td>5</td>\n",
              "      <td>1</td>\n",
              "      <td>1</td>\n",
              "      <td>2017</td>\n",
              "      <td>global</td>\n",
              "      <td>2259887</td>\n",
              "      <td>Drake</td>\n",
              "      <td>One Dance</td>\n",
              "      <td>1xznGGDReH1oQq0xzbwXa3</td>\n",
              "      <td>173987</td>\n",
              "      <td>4</td>\n",
              "      <td>0.791</td>\n",
              "      <td>0.619</td>\n",
              "      <td>1</td>\n",
              "      <td>-5.886</td>\n",
              "      <td>1</td>\n",
              "      <td>0.0532</td>\n",
              "      <td>0.00784</td>\n",
              "      <td>0.004230</td>\n",
              "      <td>0.3510</td>\n",
              "      <td>0.371</td>\n",
              "      <td>103.989</td>\n",
              "    </tr>\n",
              "    <tr>\n",
              "      <th>...</th>\n",
              "      <td>...</td>\n",
              "      <td>...</td>\n",
              "      <td>...</td>\n",
              "      <td>...</td>\n",
              "      <td>...</td>\n",
              "      <td>...</td>\n",
              "      <td>...</td>\n",
              "      <td>...</td>\n",
              "      <td>...</td>\n",
              "      <td>...</td>\n",
              "      <td>...</td>\n",
              "      <td>...</td>\n",
              "      <td>...</td>\n",
              "      <td>...</td>\n",
              "      <td>...</td>\n",
              "      <td>...</td>\n",
              "      <td>...</td>\n",
              "      <td>...</td>\n",
              "      <td>...</td>\n",
              "      <td>...</td>\n",
              "      <td>...</td>\n",
              "      <td>...</td>\n",
              "      <td>...</td>\n",
              "    </tr>\n",
              "    <tr>\n",
              "      <th>20111</th>\n",
              "      <td>ph</td>\n",
              "      <td>97</td>\n",
              "      <td>12</td>\n",
              "      <td>24</td>\n",
              "      <td>2018</td>\n",
              "      <td>ph</td>\n",
              "      <td>42190</td>\n",
              "      <td>Maria Aragon</td>\n",
              "      <td>Da Best Ang Pasko Ng Pilipino</td>\n",
              "      <td>1xbJ8LIHgUclqlTx4cyEG9</td>\n",
              "      <td>274158</td>\n",
              "      <td>4</td>\n",
              "      <td>0.604</td>\n",
              "      <td>0.598</td>\n",
              "      <td>5</td>\n",
              "      <td>-6.334</td>\n",
              "      <td>1</td>\n",
              "      <td>0.0468</td>\n",
              "      <td>0.45900</td>\n",
              "      <td>0.000000</td>\n",
              "      <td>0.1070</td>\n",
              "      <td>0.493</td>\n",
              "      <td>135.747</td>\n",
              "    </tr>\n",
              "    <tr>\n",
              "      <th>20112</th>\n",
              "      <td>ph</td>\n",
              "      <td>54</td>\n",
              "      <td>12</td>\n",
              "      <td>31</td>\n",
              "      <td>2018</td>\n",
              "      <td>ph</td>\n",
              "      <td>62808</td>\n",
              "      <td>Karencitta</td>\n",
              "      <td>Cebuana - Muffin Remix</td>\n",
              "      <td>3K5iV064JlAqt9tYVZP2KF</td>\n",
              "      <td>284107</td>\n",
              "      <td>4</td>\n",
              "      <td>0.722</td>\n",
              "      <td>0.874</td>\n",
              "      <td>0</td>\n",
              "      <td>-4.282</td>\n",
              "      <td>0</td>\n",
              "      <td>0.0523</td>\n",
              "      <td>0.12500</td>\n",
              "      <td>0.060700</td>\n",
              "      <td>0.1890</td>\n",
              "      <td>0.682</td>\n",
              "      <td>98.022</td>\n",
              "    </tr>\n",
              "    <tr>\n",
              "      <th>20113</th>\n",
              "      <td>ph</td>\n",
              "      <td>57</td>\n",
              "      <td>12</td>\n",
              "      <td>31</td>\n",
              "      <td>2018</td>\n",
              "      <td>ph</td>\n",
              "      <td>62289</td>\n",
              "      <td>Jonas Blue</td>\n",
              "      <td>Mama</td>\n",
              "      <td>4UYYgQufzw5Ep8Vm4wMC61</td>\n",
              "      <td>184134</td>\n",
              "      <td>4</td>\n",
              "      <td>0.738</td>\n",
              "      <td>0.794</td>\n",
              "      <td>11</td>\n",
              "      <td>-4.118</td>\n",
              "      <td>0</td>\n",
              "      <td>0.0416</td>\n",
              "      <td>0.10100</td>\n",
              "      <td>0.000000</td>\n",
              "      <td>0.0533</td>\n",
              "      <td>0.566</td>\n",
              "      <td>104.014</td>\n",
              "    </tr>\n",
              "    <tr>\n",
              "      <th>20114</th>\n",
              "      <td>ph</td>\n",
              "      <td>69</td>\n",
              "      <td>12</td>\n",
              "      <td>31</td>\n",
              "      <td>2018</td>\n",
              "      <td>ph</td>\n",
              "      <td>53083</td>\n",
              "      <td>Cash Cash</td>\n",
              "      <td>Call You (feat. Nasri of MAGIC!)</td>\n",
              "      <td>1gdMKFGWrI34ZTO8k7Hfg6</td>\n",
              "      <td>219451</td>\n",
              "      <td>3</td>\n",
              "      <td>0.494</td>\n",
              "      <td>0.767</td>\n",
              "      <td>10</td>\n",
              "      <td>-4.101</td>\n",
              "      <td>1</td>\n",
              "      <td>0.0510</td>\n",
              "      <td>0.12000</td>\n",
              "      <td>0.000000</td>\n",
              "      <td>0.3740</td>\n",
              "      <td>0.112</td>\n",
              "      <td>125.506</td>\n",
              "    </tr>\n",
              "    <tr>\n",
              "      <th>20115</th>\n",
              "      <td>ph</td>\n",
              "      <td>96</td>\n",
              "      <td>12</td>\n",
              "      <td>31</td>\n",
              "      <td>2018</td>\n",
              "      <td>ph</td>\n",
              "      <td>40686</td>\n",
              "      <td>Karencitta</td>\n",
              "      <td>No Apology (Wala Akong Paki)</td>\n",
              "      <td>6G3tTLzjROxw2KpZjUvICy</td>\n",
              "      <td>166857</td>\n",
              "      <td>4</td>\n",
              "      <td>0.709</td>\n",
              "      <td>0.687</td>\n",
              "      <td>6</td>\n",
              "      <td>-5.695</td>\n",
              "      <td>1</td>\n",
              "      <td>0.1730</td>\n",
              "      <td>0.01260</td>\n",
              "      <td>0.000007</td>\n",
              "      <td>0.1700</td>\n",
              "      <td>0.620</td>\n",
              "      <td>104.876</td>\n",
              "    </tr>\n",
              "  </tbody>\n",
              "</table>\n",
              "<p>20116 rows × 23 columns</p>\n",
              "</div>"
            ],
            "text/plain": [
              "       region  position  month  ...  liveness  valence    tempo\n",
              "0      global         1      1  ...    0.1340    0.535  186.054\n",
              "1      global         2      1  ...    0.1110    0.661   95.010\n",
              "2      global         3      1  ...    0.1220    0.142  199.864\n",
              "3      global         4      1  ...    0.1800    0.742  101.965\n",
              "4      global         5      1  ...    0.3510    0.371  103.989\n",
              "...       ...       ...    ...  ...       ...      ...      ...\n",
              "20111      ph        97     12  ...    0.1070    0.493  135.747\n",
              "20112      ph        54     12  ...    0.1890    0.682   98.022\n",
              "20113      ph        57     12  ...    0.0533    0.566  104.014\n",
              "20114      ph        69     12  ...    0.3740    0.112  125.506\n",
              "20115      ph        96     12  ...    0.1700    0.620  104.876\n",
              "\n",
              "[20116 rows x 23 columns]"
            ]
          },
          "metadata": {
            "tags": []
          },
          "execution_count": 236
        }
      ]
    },
    {
      "cell_type": "code",
      "metadata": {
        "id": "T4xXhlbA_AGh",
        "colab_type": "code",
        "colab": {
          "base_uri": "https://localhost:8080/",
          "height": 609
        },
        "outputId": "beb8209c-142c-4bc7-e34a-0400c69c55da"
      },
      "source": [
        "df_noduplicates"
      ],
      "execution_count": 237,
      "outputs": [
        {
          "output_type": "execute_result",
          "data": {
            "text/html": [
              "<div>\n",
              "<style scoped>\n",
              "    .dataframe tbody tr th:only-of-type {\n",
              "        vertical-align: middle;\n",
              "    }\n",
              "\n",
              "    .dataframe tbody tr th {\n",
              "        vertical-align: top;\n",
              "    }\n",
              "\n",
              "    .dataframe thead th {\n",
              "        text-align: right;\n",
              "    }\n",
              "</style>\n",
              "<table border=\"1\" class=\"dataframe\">\n",
              "  <thead>\n",
              "    <tr style=\"text-align: right;\">\n",
              "      <th></th>\n",
              "      <th>region</th>\n",
              "      <th>position</th>\n",
              "      <th>month</th>\n",
              "      <th>day</th>\n",
              "      <th>year</th>\n",
              "      <th>region</th>\n",
              "      <th>streams</th>\n",
              "      <th>artist</th>\n",
              "      <th>track_name</th>\n",
              "      <th>track_id</th>\n",
              "      <th>duration_ms</th>\n",
              "      <th>time_signature</th>\n",
              "      <th>danceability</th>\n",
              "      <th>energy</th>\n",
              "      <th>key</th>\n",
              "      <th>loudness</th>\n",
              "      <th>mode</th>\n",
              "      <th>speechiness</th>\n",
              "      <th>acousticness</th>\n",
              "      <th>instrumentalness</th>\n",
              "      <th>liveness</th>\n",
              "      <th>valence</th>\n",
              "      <th>tempo</th>\n",
              "      <th>Artist Popularity</th>\n",
              "      <th>Genres_cleaned</th>\n",
              "    </tr>\n",
              "  </thead>\n",
              "  <tbody>\n",
              "    <tr>\n",
              "      <th>0</th>\n",
              "      <td>global</td>\n",
              "      <td>1</td>\n",
              "      <td>1</td>\n",
              "      <td>1</td>\n",
              "      <td>2017</td>\n",
              "      <td>global</td>\n",
              "      <td>3135625</td>\n",
              "      <td>The Weeknd</td>\n",
              "      <td>Starboy</td>\n",
              "      <td>5aAx2yezTd8zXrkmtKl66Z</td>\n",
              "      <td>230453</td>\n",
              "      <td>4</td>\n",
              "      <td>0.681</td>\n",
              "      <td>0.594</td>\n",
              "      <td>7</td>\n",
              "      <td>-7.028</td>\n",
              "      <td>1</td>\n",
              "      <td>0.2820</td>\n",
              "      <td>0.165</td>\n",
              "      <td>0.000003</td>\n",
              "      <td>0.134</td>\n",
              "      <td>0.535</td>\n",
              "      <td>186.054</td>\n",
              "      <td>63</td>\n",
              "      <td>'canadian contemporary r&amp;b','canadian pop','pop'</td>\n",
              "    </tr>\n",
              "    <tr>\n",
              "      <th>1</th>\n",
              "      <td>global</td>\n",
              "      <td>60</td>\n",
              "      <td>5</td>\n",
              "      <td>3</td>\n",
              "      <td>2017</td>\n",
              "      <td>global</td>\n",
              "      <td>1137153</td>\n",
              "      <td>The Weeknd</td>\n",
              "      <td>Starboy</td>\n",
              "      <td>7MXVkk9YMctZqd1Srtv4MB</td>\n",
              "      <td>230453</td>\n",
              "      <td>4</td>\n",
              "      <td>0.678</td>\n",
              "      <td>0.588</td>\n",
              "      <td>7</td>\n",
              "      <td>-7.015</td>\n",
              "      <td>1</td>\n",
              "      <td>0.2760</td>\n",
              "      <td>0.141</td>\n",
              "      <td>0.000006</td>\n",
              "      <td>0.137</td>\n",
              "      <td>0.486</td>\n",
              "      <td>186.005</td>\n",
              "      <td>63</td>\n",
              "      <td>'canadian contemporary r&amp;b','canadian pop','pop'</td>\n",
              "    </tr>\n",
              "    <tr>\n",
              "      <th>2</th>\n",
              "      <td>global</td>\n",
              "      <td>2</td>\n",
              "      <td>1</td>\n",
              "      <td>1</td>\n",
              "      <td>2017</td>\n",
              "      <td>global</td>\n",
              "      <td>3015525</td>\n",
              "      <td>The Chainsmokers</td>\n",
              "      <td>Closer</td>\n",
              "      <td>7BKLCZ1jbUBVqRi2FVlTVw</td>\n",
              "      <td>244960</td>\n",
              "      <td>4</td>\n",
              "      <td>0.748</td>\n",
              "      <td>0.524</td>\n",
              "      <td>8</td>\n",
              "      <td>-5.599</td>\n",
              "      <td>1</td>\n",
              "      <td>0.0338</td>\n",
              "      <td>0.414</td>\n",
              "      <td>0.000000</td>\n",
              "      <td>0.111</td>\n",
              "      <td>0.661</td>\n",
              "      <td>95.010</td>\n",
              "      <td>67</td>\n",
              "      <td>'dance pop','edm','electropop','pop','tropical...</td>\n",
              "    </tr>\n",
              "    <tr>\n",
              "      <th>3</th>\n",
              "      <td>lt</td>\n",
              "      <td>89</td>\n",
              "      <td>12</td>\n",
              "      <td>7</td>\n",
              "      <td>2018</td>\n",
              "      <td>lt</td>\n",
              "      <td>1131</td>\n",
              "      <td>Astrid S</td>\n",
              "      <td>Closer</td>\n",
              "      <td>0beQOSJ5aUkQky6XYlC8m6</td>\n",
              "      <td>183041</td>\n",
              "      <td>5</td>\n",
              "      <td>0.531</td>\n",
              "      <td>0.472</td>\n",
              "      <td>0</td>\n",
              "      <td>-7.347</td>\n",
              "      <td>0</td>\n",
              "      <td>0.0590</td>\n",
              "      <td>0.394</td>\n",
              "      <td>0.000000</td>\n",
              "      <td>0.139</td>\n",
              "      <td>0.445</td>\n",
              "      <td>127.480</td>\n",
              "      <td>67</td>\n",
              "      <td>'dance pop','edm','electropop','pop','tropical...</td>\n",
              "    </tr>\n",
              "    <tr>\n",
              "      <th>4</th>\n",
              "      <td>nz</td>\n",
              "      <td>71</td>\n",
              "      <td>10</td>\n",
              "      <td>26</td>\n",
              "      <td>2017</td>\n",
              "      <td>nz</td>\n",
              "      <td>9763</td>\n",
              "      <td>Six60</td>\n",
              "      <td>Closer</td>\n",
              "      <td>7wDjHY3hLrGt4NaXI7o7ck</td>\n",
              "      <td>196869</td>\n",
              "      <td>4</td>\n",
              "      <td>0.547</td>\n",
              "      <td>0.717</td>\n",
              "      <td>0</td>\n",
              "      <td>-6.546</td>\n",
              "      <td>1</td>\n",
              "      <td>0.2170</td>\n",
              "      <td>0.243</td>\n",
              "      <td>0.000011</td>\n",
              "      <td>0.148</td>\n",
              "      <td>0.621</td>\n",
              "      <td>97.884</td>\n",
              "      <td>67</td>\n",
              "      <td>'dance pop','edm','electropop','pop','tropical...</td>\n",
              "    </tr>\n",
              "    <tr>\n",
              "      <th>...</th>\n",
              "      <td>...</td>\n",
              "      <td>...</td>\n",
              "      <td>...</td>\n",
              "      <td>...</td>\n",
              "      <td>...</td>\n",
              "      <td>...</td>\n",
              "      <td>...</td>\n",
              "      <td>...</td>\n",
              "      <td>...</td>\n",
              "      <td>...</td>\n",
              "      <td>...</td>\n",
              "      <td>...</td>\n",
              "      <td>...</td>\n",
              "      <td>...</td>\n",
              "      <td>...</td>\n",
              "      <td>...</td>\n",
              "      <td>...</td>\n",
              "      <td>...</td>\n",
              "      <td>...</td>\n",
              "      <td>...</td>\n",
              "      <td>...</td>\n",
              "      <td>...</td>\n",
              "      <td>...</td>\n",
              "      <td>...</td>\n",
              "      <td>...</td>\n",
              "    </tr>\n",
              "    <tr>\n",
              "      <th>5598</th>\n",
              "      <td>ph</td>\n",
              "      <td>72</td>\n",
              "      <td>9</td>\n",
              "      <td>7</td>\n",
              "      <td>2018</td>\n",
              "      <td>ph</td>\n",
              "      <td>37652</td>\n",
              "      <td>No Rome</td>\n",
              "      <td>Narcissist</td>\n",
              "      <td>4Zft1h1zRfkBqlAo4qEPqp</td>\n",
              "      <td>195502</td>\n",
              "      <td>4</td>\n",
              "      <td>0.543</td>\n",
              "      <td>0.682</td>\n",
              "      <td>3</td>\n",
              "      <td>-5.810</td>\n",
              "      <td>1</td>\n",
              "      <td>0.1120</td>\n",
              "      <td>0.219</td>\n",
              "      <td>0.000002</td>\n",
              "      <td>0.085</td>\n",
              "      <td>0.424</td>\n",
              "      <td>179.972</td>\n",
              "      <td>67</td>\n",
              "      <td>'indie pop','indietronica','pinoy indie'</td>\n",
              "    </tr>\n",
              "    <tr>\n",
              "      <th>5599</th>\n",
              "      <td>ph</td>\n",
              "      <td>56</td>\n",
              "      <td>9</td>\n",
              "      <td>21</td>\n",
              "      <td>2018</td>\n",
              "      <td>ph</td>\n",
              "      <td>45273</td>\n",
              "      <td>Erik Santos</td>\n",
              "      <td>Kung Akin Ang Mundo</td>\n",
              "      <td>0W2kzUI1K0tT0RpggJZ4Js</td>\n",
              "      <td>210046</td>\n",
              "      <td>4</td>\n",
              "      <td>0.636</td>\n",
              "      <td>0.397</td>\n",
              "      <td>5</td>\n",
              "      <td>-9.477</td>\n",
              "      <td>1</td>\n",
              "      <td>0.0349</td>\n",
              "      <td>0.834</td>\n",
              "      <td>0.000040</td>\n",
              "      <td>0.096</td>\n",
              "      <td>0.328</td>\n",
              "      <td>135.875</td>\n",
              "      <td>61</td>\n",
              "      <td>'opm'</td>\n",
              "    </tr>\n",
              "    <tr>\n",
              "      <th>5600</th>\n",
              "      <td>ph</td>\n",
              "      <td>32</td>\n",
              "      <td>10</td>\n",
              "      <td>5</td>\n",
              "      <td>2018</td>\n",
              "      <td>ph</td>\n",
              "      <td>79216</td>\n",
              "      <td>LANY</td>\n",
              "      <td>Taking Me Back</td>\n",
              "      <td>6A9mMKHYdeUJGvQDKChC0C</td>\n",
              "      <td>194811</td>\n",
              "      <td>4</td>\n",
              "      <td>0.689</td>\n",
              "      <td>0.570</td>\n",
              "      <td>5</td>\n",
              "      <td>-6.728</td>\n",
              "      <td>0</td>\n",
              "      <td>0.0419</td>\n",
              "      <td>0.040</td>\n",
              "      <td>0.000000</td>\n",
              "      <td>0.106</td>\n",
              "      <td>0.524</td>\n",
              "      <td>94.061</td>\n",
              "      <td>61</td>\n",
              "      <td>'la pop','pop'</td>\n",
              "    </tr>\n",
              "    <tr>\n",
              "      <th>5601</th>\n",
              "      <td>ph</td>\n",
              "      <td>33</td>\n",
              "      <td>10</td>\n",
              "      <td>5</td>\n",
              "      <td>2018</td>\n",
              "      <td>ph</td>\n",
              "      <td>74172</td>\n",
              "      <td>LANY</td>\n",
              "      <td>Let Me Know</td>\n",
              "      <td>7DMPq3XndRJaj6NTINsLOz</td>\n",
              "      <td>276197</td>\n",
              "      <td>4</td>\n",
              "      <td>0.696</td>\n",
              "      <td>0.391</td>\n",
              "      <td>11</td>\n",
              "      <td>-8.306</td>\n",
              "      <td>0</td>\n",
              "      <td>0.0825</td>\n",
              "      <td>0.264</td>\n",
              "      <td>0.000003</td>\n",
              "      <td>0.127</td>\n",
              "      <td>0.650</td>\n",
              "      <td>94.971</td>\n",
              "      <td>61</td>\n",
              "      <td>'la pop','pop'</td>\n",
              "    </tr>\n",
              "    <tr>\n",
              "      <th>5602</th>\n",
              "      <td>ph</td>\n",
              "      <td>35</td>\n",
              "      <td>10</td>\n",
              "      <td>5</td>\n",
              "      <td>2018</td>\n",
              "      <td>ph</td>\n",
              "      <td>72932</td>\n",
              "      <td>LANY</td>\n",
              "      <td>Valentine's Day</td>\n",
              "      <td>2juRA8DhQePry4eb2LMUMM</td>\n",
              "      <td>217949</td>\n",
              "      <td>4</td>\n",
              "      <td>0.545</td>\n",
              "      <td>0.498</td>\n",
              "      <td>8</td>\n",
              "      <td>-8.764</td>\n",
              "      <td>1</td>\n",
              "      <td>0.0335</td>\n",
              "      <td>0.130</td>\n",
              "      <td>0.000000</td>\n",
              "      <td>0.104</td>\n",
              "      <td>0.063</td>\n",
              "      <td>148.055</td>\n",
              "      <td>61</td>\n",
              "      <td>'la pop','pop'</td>\n",
              "    </tr>\n",
              "  </tbody>\n",
              "</table>\n",
              "<p>5603 rows × 25 columns</p>\n",
              "</div>"
            ],
            "text/plain": [
              "      region  ...                                     Genres_cleaned\n",
              "0     global  ...   'canadian contemporary r&b','canadian pop','pop'\n",
              "1     global  ...   'canadian contemporary r&b','canadian pop','pop'\n",
              "2     global  ...  'dance pop','edm','electropop','pop','tropical...\n",
              "3         lt  ...  'dance pop','edm','electropop','pop','tropical...\n",
              "4         nz  ...  'dance pop','edm','electropop','pop','tropical...\n",
              "...      ...  ...                                                ...\n",
              "5598      ph  ...           'indie pop','indietronica','pinoy indie'\n",
              "5599      ph  ...                                              'opm'\n",
              "5600      ph  ...                                     'la pop','pop'\n",
              "5601      ph  ...                                     'la pop','pop'\n",
              "5602      ph  ...                                     'la pop','pop'\n",
              "\n",
              "[5603 rows x 25 columns]"
            ]
          },
          "metadata": {
            "tags": []
          },
          "execution_count": 237
        }
      ]
    },
    {
      "cell_type": "code",
      "metadata": {
        "id": "AmSlOxVW_Dg2",
        "colab_type": "code",
        "colab": {}
      },
      "source": [
        "# TOP LINE SET UP DATASETS TO USEONLY DFNODUPLICATES AND COMPLETED_CSV#"
      ],
      "execution_count": null,
      "outputs": []
    },
    {
      "cell_type": "code",
      "metadata": {
        "id": "vPbPBiXaDIsu",
        "colab_type": "code",
        "colab": {
          "base_uri": "https://localhost:8080/",
          "height": 415
        },
        "outputId": "c7f18c4e-0321-4990-874b-39e777372efb"
      },
      "source": [
        "completed_csv[['danceability','energy','key', 'loudness','mode', 'speechiness', 'acousticness','instrumentalness',\t'liveness' , 'valence','tempo',\t'duration_ms','time_signature']]\n"
      ],
      "execution_count": 238,
      "outputs": [
        {
          "output_type": "execute_result",
          "data": {
            "text/html": [
              "<div>\n",
              "<style scoped>\n",
              "    .dataframe tbody tr th:only-of-type {\n",
              "        vertical-align: middle;\n",
              "    }\n",
              "\n",
              "    .dataframe tbody tr th {\n",
              "        vertical-align: top;\n",
              "    }\n",
              "\n",
              "    .dataframe thead th {\n",
              "        text-align: right;\n",
              "    }\n",
              "</style>\n",
              "<table border=\"1\" class=\"dataframe\">\n",
              "  <thead>\n",
              "    <tr style=\"text-align: right;\">\n",
              "      <th></th>\n",
              "      <th>danceability</th>\n",
              "      <th>energy</th>\n",
              "      <th>key</th>\n",
              "      <th>loudness</th>\n",
              "      <th>mode</th>\n",
              "      <th>speechiness</th>\n",
              "      <th>acousticness</th>\n",
              "      <th>instrumentalness</th>\n",
              "      <th>liveness</th>\n",
              "      <th>valence</th>\n",
              "      <th>tempo</th>\n",
              "      <th>duration_ms</th>\n",
              "      <th>time_signature</th>\n",
              "    </tr>\n",
              "  </thead>\n",
              "  <tbody>\n",
              "    <tr>\n",
              "      <th>0</th>\n",
              "      <td>0.681</td>\n",
              "      <td>0.594</td>\n",
              "      <td>7</td>\n",
              "      <td>-7.028</td>\n",
              "      <td>1</td>\n",
              "      <td>0.2820</td>\n",
              "      <td>0.16500</td>\n",
              "      <td>0.000003</td>\n",
              "      <td>0.1340</td>\n",
              "      <td>0.535</td>\n",
              "      <td>186.054</td>\n",
              "      <td>230453</td>\n",
              "      <td>4</td>\n",
              "    </tr>\n",
              "    <tr>\n",
              "      <th>1</th>\n",
              "      <td>0.748</td>\n",
              "      <td>0.524</td>\n",
              "      <td>8</td>\n",
              "      <td>-5.599</td>\n",
              "      <td>1</td>\n",
              "      <td>0.0338</td>\n",
              "      <td>0.41400</td>\n",
              "      <td>0.000000</td>\n",
              "      <td>0.1110</td>\n",
              "      <td>0.661</td>\n",
              "      <td>95.010</td>\n",
              "      <td>244960</td>\n",
              "      <td>4</td>\n",
              "    </tr>\n",
              "    <tr>\n",
              "      <th>2</th>\n",
              "      <td>0.476</td>\n",
              "      <td>0.718</td>\n",
              "      <td>8</td>\n",
              "      <td>-5.309</td>\n",
              "      <td>1</td>\n",
              "      <td>0.0576</td>\n",
              "      <td>0.07840</td>\n",
              "      <td>0.000010</td>\n",
              "      <td>0.1220</td>\n",
              "      <td>0.142</td>\n",
              "      <td>199.864</td>\n",
              "      <td>205947</td>\n",
              "      <td>4</td>\n",
              "    </tr>\n",
              "    <tr>\n",
              "      <th>3</th>\n",
              "      <td>0.720</td>\n",
              "      <td>0.763</td>\n",
              "      <td>9</td>\n",
              "      <td>-4.068</td>\n",
              "      <td>0</td>\n",
              "      <td>0.0523</td>\n",
              "      <td>0.40600</td>\n",
              "      <td>0.000000</td>\n",
              "      <td>0.1800</td>\n",
              "      <td>0.742</td>\n",
              "      <td>101.965</td>\n",
              "      <td>251088</td>\n",
              "      <td>4</td>\n",
              "    </tr>\n",
              "    <tr>\n",
              "      <th>4</th>\n",
              "      <td>0.791</td>\n",
              "      <td>0.619</td>\n",
              "      <td>1</td>\n",
              "      <td>-5.886</td>\n",
              "      <td>1</td>\n",
              "      <td>0.0532</td>\n",
              "      <td>0.00784</td>\n",
              "      <td>0.004230</td>\n",
              "      <td>0.3510</td>\n",
              "      <td>0.371</td>\n",
              "      <td>103.989</td>\n",
              "      <td>173987</td>\n",
              "      <td>4</td>\n",
              "    </tr>\n",
              "    <tr>\n",
              "      <th>...</th>\n",
              "      <td>...</td>\n",
              "      <td>...</td>\n",
              "      <td>...</td>\n",
              "      <td>...</td>\n",
              "      <td>...</td>\n",
              "      <td>...</td>\n",
              "      <td>...</td>\n",
              "      <td>...</td>\n",
              "      <td>...</td>\n",
              "      <td>...</td>\n",
              "      <td>...</td>\n",
              "      <td>...</td>\n",
              "      <td>...</td>\n",
              "    </tr>\n",
              "    <tr>\n",
              "      <th>20111</th>\n",
              "      <td>0.604</td>\n",
              "      <td>0.598</td>\n",
              "      <td>5</td>\n",
              "      <td>-6.334</td>\n",
              "      <td>1</td>\n",
              "      <td>0.0468</td>\n",
              "      <td>0.45900</td>\n",
              "      <td>0.000000</td>\n",
              "      <td>0.1070</td>\n",
              "      <td>0.493</td>\n",
              "      <td>135.747</td>\n",
              "      <td>274158</td>\n",
              "      <td>4</td>\n",
              "    </tr>\n",
              "    <tr>\n",
              "      <th>20112</th>\n",
              "      <td>0.722</td>\n",
              "      <td>0.874</td>\n",
              "      <td>0</td>\n",
              "      <td>-4.282</td>\n",
              "      <td>0</td>\n",
              "      <td>0.0523</td>\n",
              "      <td>0.12500</td>\n",
              "      <td>0.060700</td>\n",
              "      <td>0.1890</td>\n",
              "      <td>0.682</td>\n",
              "      <td>98.022</td>\n",
              "      <td>284107</td>\n",
              "      <td>4</td>\n",
              "    </tr>\n",
              "    <tr>\n",
              "      <th>20113</th>\n",
              "      <td>0.738</td>\n",
              "      <td>0.794</td>\n",
              "      <td>11</td>\n",
              "      <td>-4.118</td>\n",
              "      <td>0</td>\n",
              "      <td>0.0416</td>\n",
              "      <td>0.10100</td>\n",
              "      <td>0.000000</td>\n",
              "      <td>0.0533</td>\n",
              "      <td>0.566</td>\n",
              "      <td>104.014</td>\n",
              "      <td>184134</td>\n",
              "      <td>4</td>\n",
              "    </tr>\n",
              "    <tr>\n",
              "      <th>20114</th>\n",
              "      <td>0.494</td>\n",
              "      <td>0.767</td>\n",
              "      <td>10</td>\n",
              "      <td>-4.101</td>\n",
              "      <td>1</td>\n",
              "      <td>0.0510</td>\n",
              "      <td>0.12000</td>\n",
              "      <td>0.000000</td>\n",
              "      <td>0.3740</td>\n",
              "      <td>0.112</td>\n",
              "      <td>125.506</td>\n",
              "      <td>219451</td>\n",
              "      <td>3</td>\n",
              "    </tr>\n",
              "    <tr>\n",
              "      <th>20115</th>\n",
              "      <td>0.709</td>\n",
              "      <td>0.687</td>\n",
              "      <td>6</td>\n",
              "      <td>-5.695</td>\n",
              "      <td>1</td>\n",
              "      <td>0.1730</td>\n",
              "      <td>0.01260</td>\n",
              "      <td>0.000007</td>\n",
              "      <td>0.1700</td>\n",
              "      <td>0.620</td>\n",
              "      <td>104.876</td>\n",
              "      <td>166857</td>\n",
              "      <td>4</td>\n",
              "    </tr>\n",
              "  </tbody>\n",
              "</table>\n",
              "<p>20116 rows × 13 columns</p>\n",
              "</div>"
            ],
            "text/plain": [
              "       danceability  energy  key  ...    tempo  duration_ms  time_signature\n",
              "0             0.681   0.594    7  ...  186.054       230453               4\n",
              "1             0.748   0.524    8  ...   95.010       244960               4\n",
              "2             0.476   0.718    8  ...  199.864       205947               4\n",
              "3             0.720   0.763    9  ...  101.965       251088               4\n",
              "4             0.791   0.619    1  ...  103.989       173987               4\n",
              "...             ...     ...  ...  ...      ...          ...             ...\n",
              "20111         0.604   0.598    5  ...  135.747       274158               4\n",
              "20112         0.722   0.874    0  ...   98.022       284107               4\n",
              "20113         0.738   0.794   11  ...  104.014       184134               4\n",
              "20114         0.494   0.767   10  ...  125.506       219451               3\n",
              "20115         0.709   0.687    6  ...  104.876       166857               4\n",
              "\n",
              "[20116 rows x 13 columns]"
            ]
          },
          "metadata": {
            "tags": []
          },
          "execution_count": 238
        }
      ]
    },
    {
      "cell_type": "markdown",
      "metadata": {
        "id": "a6P1cdpR_TwG",
        "colab_type": "text"
      },
      "source": [
        "# Functions to get features from track ID"
      ]
    },
    {
      "cell_type": "code",
      "metadata": {
        "id": "axuwzJc9C7H2",
        "colab_type": "code",
        "colab": {}
      },
      "source": [
        "def getfeatures(id,df):\n",
        "  \"\"\"Gets Features From track for Neural Network Model\"\"\"\n",
        "  features = df.copy()\n",
        "  if id in (features['track_id'].values):\n",
        "    features = features[features['track_id']==id]\n",
        "    features = features[['danceability','energy','key','loudness','mode', \n",
        "                         'speechiness', 'acousticness','instrumentalness',\n",
        "                         'liveness' , 'valence','tempo']]\n",
        "    return features\n",
        "  else:\n",
        "    raise Exception('Track ID Not Found')"
      ],
      "execution_count": 239,
      "outputs": []
    },
    {
      "cell_type": "code",
      "metadata": {
        "id": "qdxDvf6NDJR5",
        "colab_type": "code",
        "colab": {}
      },
      "source": [
        "song_feats = getfeatures('6G3tTLzjROxw2KpZjUvICy',completed_csv)"
      ],
      "execution_count": 240,
      "outputs": []
    },
    {
      "cell_type": "code",
      "metadata": {
        "id": "Z9L7KPRjsmn-",
        "colab_type": "code",
        "colab": {
          "base_uri": "https://localhost:8080/",
          "height": 79
        },
        "outputId": "6e1ec536-6b98-4432-b14e-333325dca516"
      },
      "source": [
        "song_feats"
      ],
      "execution_count": 241,
      "outputs": [
        {
          "output_type": "execute_result",
          "data": {
            "text/html": [
              "<div>\n",
              "<style scoped>\n",
              "    .dataframe tbody tr th:only-of-type {\n",
              "        vertical-align: middle;\n",
              "    }\n",
              "\n",
              "    .dataframe tbody tr th {\n",
              "        vertical-align: top;\n",
              "    }\n",
              "\n",
              "    .dataframe thead th {\n",
              "        text-align: right;\n",
              "    }\n",
              "</style>\n",
              "<table border=\"1\" class=\"dataframe\">\n",
              "  <thead>\n",
              "    <tr style=\"text-align: right;\">\n",
              "      <th></th>\n",
              "      <th>danceability</th>\n",
              "      <th>energy</th>\n",
              "      <th>key</th>\n",
              "      <th>loudness</th>\n",
              "      <th>mode</th>\n",
              "      <th>speechiness</th>\n",
              "      <th>acousticness</th>\n",
              "      <th>instrumentalness</th>\n",
              "      <th>liveness</th>\n",
              "      <th>valence</th>\n",
              "      <th>tempo</th>\n",
              "    </tr>\n",
              "  </thead>\n",
              "  <tbody>\n",
              "    <tr>\n",
              "      <th>20115</th>\n",
              "      <td>0.709</td>\n",
              "      <td>0.687</td>\n",
              "      <td>6</td>\n",
              "      <td>-5.695</td>\n",
              "      <td>1</td>\n",
              "      <td>0.173</td>\n",
              "      <td>0.0126</td>\n",
              "      <td>0.000007</td>\n",
              "      <td>0.17</td>\n",
              "      <td>0.62</td>\n",
              "      <td>104.876</td>\n",
              "    </tr>\n",
              "  </tbody>\n",
              "</table>\n",
              "</div>"
            ],
            "text/plain": [
              "       danceability  energy  key  ...  liveness  valence    tempo\n",
              "20115         0.709   0.687    6  ...      0.17     0.62  104.876\n",
              "\n",
              "[1 rows x 11 columns]"
            ]
          },
          "metadata": {
            "tags": []
          },
          "execution_count": 241
        }
      ]
    },
    {
      "cell_type": "code",
      "metadata": {
        "id": "1wtl15HkssXK",
        "colab_type": "code",
        "colab": {}
      },
      "source": [
        ""
      ],
      "execution_count": null,
      "outputs": []
    },
    {
      "cell_type": "markdown",
      "metadata": {
        "id": "9tzZ3X_gFep3",
        "colab_type": "text"
      },
      "source": [
        "# NLP Processing model"
      ]
    },
    {
      "cell_type": "code",
      "metadata": {
        "id": "jjzSzkvCFqwD",
        "colab_type": "code",
        "colab": {}
      },
      "source": [
        "## Following Code by Santiago "
      ],
      "execution_count": null,
      "outputs": []
    },
    {
      "cell_type": "code",
      "metadata": {
        "id": "aNnk8Pd5F-gi",
        "colab_type": "code",
        "colab": {}
      },
      "source": [
        "#Tokenizing Function \n",
        "def tokenize(document):\n",
        "    \n",
        "    doc = nlp(document)\n",
        "    \n",
        "    return [token.lemma_.lower().strip() for token in doc if (token.is_stop != True) and (token.is_punct != True)]"
      ],
      "execution_count": 242,
      "outputs": []
    },
    {
      "cell_type": "code",
      "metadata": {
        "id": "tdS2uNlgGt-h",
        "colab_type": "code",
        "colab": {}
      },
      "source": [
        "df_noduplicates.head()"
      ],
      "execution_count": null,
      "outputs": []
    },
    {
      "cell_type": "code",
      "metadata": {
        "id": "8eAEeewJGVhh",
        "colab_type": "code",
        "colab": {}
      },
      "source": [
        "df_noduplicates"
      ],
      "execution_count": null,
      "outputs": []
    },
    {
      "cell_type": "code",
      "metadata": {
        "id": "pp6IqTm4GktW",
        "colab_type": "code",
        "colab": {}
      },
      "source": [
        "#Function to create Data string given the columns/features \n",
        "def create_data(df,feature_col):\n",
        "  data = ''\n",
        "  for i in feature_col:\n",
        "    data += df[i]+' '\n",
        "  return data"
      ],
      "execution_count": 245,
      "outputs": []
    },
    {
      "cell_type": "code",
      "metadata": {
        "id": "npezSksRHErw",
        "colab_type": "code",
        "colab": {}
      },
      "source": [
        "#Gives Features and create data string\n",
        "feature_col = ['track_name','artist','Genres_cleaned']\n",
        "data = create_data(df_noduplicates,feature_col)"
      ],
      "execution_count": 246,
      "outputs": []
    },
    {
      "cell_type": "code",
      "metadata": {
        "id": "3UIOj6DUGENC",
        "colab_type": "code",
        "colab": {}
      },
      "source": [
        "#TFIDF Term Frequency Document Inverse frequency Document term matrix\n",
        "tfidf = TfidfVectorizer(ngram_range=(1,2),\n",
        "                        max_df=.97,\n",
        "                        min_df=.02,\n",
        "                        tokenizer=tokenize)\n",
        "\n",
        "# Create a vocabulary and get word counts per document\n",
        "dtm1 = tfidf.fit_transform(data) # "
      ],
      "execution_count": null,
      "outputs": []
    },
    {
      "cell_type": "code",
      "metadata": {
        "id": "tPGkXouiLF5J",
        "colab_type": "code",
        "colab": {
          "base_uri": "https://localhost:8080/",
          "height": 104
        },
        "outputId": "a4e9aa64-b255-43ec-967c-ee7812204e0b"
      },
      "source": [
        "#Get Nearest Neighbor\n",
        "# Fit on DTM\n",
        "near_neighbor = NearestNeighbors(n_neighbors=5, algorithm='kd_tree')\n",
        "near_neighbor.fit(dtm1)"
      ],
      "execution_count": 83,
      "outputs": [
        {
          "output_type": "stream",
          "text": [
            "/usr/local/lib/python3.6/dist-packages/sklearn/neighbors/_base.py:414: UserWarning: cannot use tree with sparse input: using brute force\n",
            "  warnings.warn(\"cannot use tree with sparse input: \"\n"
          ],
          "name": "stderr"
        },
        {
          "output_type": "execute_result",
          "data": {
            "text/plain": [
              "NearestNeighbors(algorithm='kd_tree', leaf_size=30, metric='minkowski',\n",
              "                 metric_params=None, n_jobs=None, n_neighbors=5, p=2,\n",
              "                 radius=1.0)"
            ]
          },
          "metadata": {
            "tags": []
          },
          "execution_count": 83
        }
      ]
    },
    {
      "cell_type": "code",
      "metadata": {
        "id": "V3jqbdMwVYia",
        "colab_type": "code",
        "colab": {}
      },
      "source": [
        "#Test Song \n",
        "song= [ \"\"\"Billie Eilish Bad Guy\"\"\"]"
      ],
      "execution_count": 84,
      "outputs": []
    },
    {
      "cell_type": "code",
      "metadata": {
        "id": "CDG1uJLgUx_j",
        "colab_type": "code",
        "colab": {}
      },
      "source": [
        "def findsimilar(song):\n",
        "  transform = tfidf.transform(song)\n",
        "  similar = near_neighbor.kneighbors(transform.todense())\n",
        "  return similar\n",
        "  "
      ],
      "execution_count": 85,
      "outputs": []
    },
    {
      "cell_type": "code",
      "metadata": {
        "id": "DnZyxOwyVzIC",
        "colab_type": "code",
        "colab": {}
      },
      "source": [
        "def print_similar(similar):\n",
        "  arr = similar[1][0]\n",
        "  for i, song in enumerate(arr):\n",
        "    print(\"Similar Song: \",data[arr[i]])"
      ],
      "execution_count": 86,
      "outputs": []
    },
    {
      "cell_type": "code",
      "metadata": {
        "id": "_i8usG5IeSTb",
        "colab_type": "code",
        "colab": {}
      },
      "source": [
        "similarsong = findsimilar(song)"
      ],
      "execution_count": 87,
      "outputs": []
    },
    {
      "cell_type": "code",
      "metadata": {
        "id": "4BdkVdB8eVpt",
        "colab_type": "code",
        "colab": {
          "base_uri": "https://localhost:8080/",
          "height": 124
        },
        "outputId": "b11c5a9f-ab69-4e70-cf6d-dbd1fbb1781e"
      },
      "source": [
        "print_similar(similarsong)"
      ],
      "execution_count": 88,
      "outputs": [
        {
          "output_type": "stream",
          "text": [
            "Similar Song:  Winter Wonderland / Don't Worry Be Happy Pentatonix 'a cappella' \n",
            "Similar Song:  You're The One That I Want - From “Grease” John Travolta 'hollywood' \n",
            "Similar Song:  Veneno Anitta 'baile pop','funk carioca','funk das antigas','pagode baiano' \n",
            "Similar Song:  Off to See the World Lukas Graham 'danish pop','pop','scandipop' \n",
            "Similar Song:  Must Be Santa Bob Dylan 'album rock','classic rock','country rock','folk','folk rock','mellow gold','rock','roots rock','singer-songwriter' \n"
          ],
          "name": "stdout"
        }
      ]
    },
    {
      "cell_type": "code",
      "metadata": {
        "id": "Mpsj66GWeZwY",
        "colab_type": "code",
        "colab": {}
      },
      "source": [
        "similarsong"
      ],
      "execution_count": null,
      "outputs": []
    },
    {
      "cell_type": "markdown",
      "metadata": {
        "id": "0gvGJrAPDkjy",
        "colab_type": "text"
      },
      "source": [
        "# Target Setups For NN Models"
      ]
    },
    {
      "cell_type": "code",
      "metadata": {
        "id": "bbT5ISvZJQ11",
        "colab_type": "code",
        "colab": {}
      },
      "source": [
        "completed_csv = completed_csv.reset_index()"
      ],
      "execution_count": 248,
      "outputs": []
    },
    {
      "cell_type": "code",
      "metadata": {
        "id": "vN2arNsSJmKy",
        "colab_type": "code",
        "colab": {}
      },
      "source": [
        "completed_csv.drop('index',axis=1,inplace=True)"
      ],
      "execution_count": 249,
      "outputs": []
    },
    {
      "cell_type": "code",
      "metadata": {
        "id": "8zZjIalChFu_",
        "colab_type": "code",
        "colab": {}
      },
      "source": [
        "completed_csv.head()"
      ],
      "execution_count": null,
      "outputs": []
    },
    {
      "cell_type": "code",
      "metadata": {
        "id": "o_1JWvh1Doxp",
        "colab_type": "code",
        "colab": {}
      },
      "source": [
        "#Label Encoders\n",
        "le = LabelEncoder()\n",
        "#Features \n",
        "X_features = completed_csv[['danceability','energy','key','loudness','mode', 'speechiness', 'acousticness','instrumentalness',\t'liveness' , 'valence','tempo']]\n",
        "target = completed_csv['track_id']\n",
        "#Encoded target\n",
        "encoded_target = le.fit_transform(target)"
      ],
      "execution_count": 251,
      "outputs": []
    },
    {
      "cell_type": "code",
      "metadata": {
        "id": "bbcV-X5CEEdk",
        "colab_type": "code",
        "colab": {
          "base_uri": "https://localhost:8080/",
          "height": 69
        },
        "outputId": "49fdd655-90d2-4844-a06a-517aeae95b7d"
      },
      "source": [
        "#TEst Encodign\n",
        "le.inverse_transform(encoded_target)"
      ],
      "execution_count": 252,
      "outputs": [
        {
          "output_type": "execute_result",
          "data": {
            "text/plain": [
              "array(['5aAx2yezTd8zXrkmtKl66Z', '7BKLCZ1jbUBVqRi2FVlTVw',\n",
              "       '4pdPtRcBmOSQDlJ3Fk945m', ..., '4UYYgQufzw5Ep8Vm4wMC61',\n",
              "       '1gdMKFGWrI34ZTO8k7Hfg6', '6G3tTLzjROxw2KpZjUvICy'], dtype=object)"
            ]
          },
          "metadata": {
            "tags": []
          },
          "execution_count": 252
        }
      ]
    },
    {
      "cell_type": "code",
      "metadata": {
        "id": "7EICE3w2EQ_C",
        "colab_type": "code",
        "colab": {
          "base_uri": "https://localhost:8080/",
          "height": 35
        },
        "outputId": "bf063931-05d7-4123-f325-22644391f02b"
      },
      "source": [
        "#Reshaping for CNN and model SPlit\n",
        "#Regular Shape  Model Splite\n",
        "X_train_feat,X_val_feat,y_train_feat,y_val_feat = train_test_split(X_features,encoded_target,test_size=0.2)\n",
        "X_train_feat.shape,y_train_feat.shape,X_val_feat.shape,y_val_feat.shape\n"
      ],
      "execution_count": 253,
      "outputs": [
        {
          "output_type": "execute_result",
          "data": {
            "text/plain": [
              "((16092, 11), (16092,), (4024, 11), (4024,))"
            ]
          },
          "metadata": {
            "tags": []
          },
          "execution_count": 253
        }
      ]
    },
    {
      "cell_type": "code",
      "metadata": {
        "id": "pBvBIv3gEyH3",
        "colab_type": "code",
        "colab": {
          "base_uri": "https://localhost:8080/",
          "height": 35
        },
        "outputId": "80633be4-f49b-4ed1-a3f8-29c359c57ef9"
      },
      "source": [
        "#Split with Reshape\n",
        "X_feat_reshaped = X_features.values.reshape(X_features.shape[0],X_features.shape[1],1)\n",
        "X_train_reshaped,X_val_reshaped,y_train_reshaped,y_val_reshaped = train_test_split(X_feat_reshaped,encoded_target,test_size=0.2)\n",
        "X_train_reshaped.shape,y_train_reshaped.shape,X_val_reshaped.shape,y_val_reshaped.shape"
      ],
      "execution_count": 254,
      "outputs": [
        {
          "output_type": "execute_result",
          "data": {
            "text/plain": [
              "((16092, 11, 1), (16092,), (4024, 11, 1), (4024,))"
            ]
          },
          "metadata": {
            "tags": []
          },
          "execution_count": 254
        }
      ]
    },
    {
      "cell_type": "markdown",
      "metadata": {
        "id": "-xYI9Ss9H2OU",
        "colab_type": "text"
      },
      "source": [
        "# Features KNN "
      ]
    },
    {
      "cell_type": "code",
      "metadata": {
        "id": "OkJwiXsrH4RL",
        "colab_type": "code",
        "colab": {
          "base_uri": "https://localhost:8080/",
          "height": 69
        },
        "outputId": "fe9a65c3-b4f3-407d-ec44-a8a4dbc46b62"
      },
      "source": [
        "nn = NearestNeighbors(n_neighbors=10,algorithm='kd_tree')\n",
        "nn.fit(X_features,encoded_target)"
      ],
      "execution_count": 255,
      "outputs": [
        {
          "output_type": "execute_result",
          "data": {
            "text/plain": [
              "NearestNeighbors(algorithm='kd_tree', leaf_size=30, metric='minkowski',\n",
              "                 metric_params=None, n_jobs=None, n_neighbors=10, p=2,\n",
              "                 radius=1.0)"
            ]
          },
          "metadata": {
            "tags": []
          },
          "execution_count": 255
        }
      ]
    },
    {
      "cell_type": "code",
      "metadata": {
        "id": "u8x6FPYsIL9M",
        "colab_type": "code",
        "colab": {}
      },
      "source": [
        "#Test Song\n",
        "#Find songs similar features\n",
        "sim_feat = nn.kneighbors(song_feats)"
      ],
      "execution_count": 256,
      "outputs": []
    },
    {
      "cell_type": "code",
      "metadata": {
        "id": "qESdq-rSJDj3",
        "colab_type": "code",
        "colab": {
          "base_uri": "https://localhost:8080/",
          "height": 87
        },
        "outputId": "8ac6f789-0058-47b4-c668-ec4820f7731c"
      },
      "source": [
        "sim_feat"
      ],
      "execution_count": 144,
      "outputs": [
        {
          "output_type": "execute_result",
          "data": {
            "text/plain": [
              "(array([[0.        , 0.60651431, 0.65143259, 0.66617708, 0.86648304,\n",
              "         0.95041417, 0.96578942, 1.02931938, 1.03985101, 1.04725312]]),\n",
              " array([[20115, 17715, 15616, 15618,  8140,   363, 19718, 15961,  9615,\n",
              "         18621]]))"
            ]
          },
          "metadata": {
            "tags": []
          },
          "execution_count": 144
        }
      ]
    },
    {
      "cell_type": "code",
      "metadata": {
        "id": "LLMz_vXgIu26",
        "colab_type": "code",
        "colab": {}
      },
      "source": [
        "preddf = pd.DataFrame()\n",
        "arr = sim_feat[1][0]\n",
        "for i,_ in enumerate(arr):\n",
        "  preddf = preddf.append(X_features[X_features.index == arr[i]])\n",
        "preddf"
      ],
      "execution_count": null,
      "outputs": []
    },
    {
      "cell_type": "code",
      "metadata": {
        "id": "U3OVuHXgudNx",
        "colab_type": "code",
        "colab": {}
      },
      "source": [
        "# Function for Unit 3 to get the track id's from the dataset\n",
        "data = np.array([])\n",
        "for i,_ in enumerate(arr):\n",
        "  data = np.append(data,completed_csv['track_id'][completed_csv.index==arr[i]])"
      ],
      "execution_count": 319,
      "outputs": []
    },
    {
      "cell_type": "code",
      "metadata": {
        "id": "C9PUojcSh0jH",
        "colab_type": "code",
        "colab": {
          "base_uri": "https://localhost:8080/",
          "height": 35
        },
        "outputId": "5ba0ac75-074c-40ae-afd6-95de323089be"
      },
      "source": [
        "data[0]"
      ],
      "execution_count": 321,
      "outputs": [
        {
          "output_type": "execute_result",
          "data": {
            "application/vnd.google.colaboratory.intrinsic+json": {
              "type": "string"
            },
            "text/plain": [
              "'6G3tTLzjROxw2KpZjUvICy'"
            ]
          },
          "metadata": {
            "tags": []
          },
          "execution_count": 321
        }
      ]
    },
    {
      "cell_type": "code",
      "metadata": {
        "id": "8pHgViXFh_k8",
        "colab_type": "code",
        "colab": {}
      },
      "source": [
        "import joblib"
      ],
      "execution_count": 266,
      "outputs": []
    },
    {
      "cell_type": "code",
      "metadata": {
        "id": "dprZhKI_iCNi",
        "colab_type": "code",
        "colab": {
          "base_uri": "https://localhost:8080/",
          "height": 35
        },
        "outputId": "b8b1710c-6d03-453c-a5fb-ab6d3639120d"
      },
      "source": [
        "joblib.dump(nn, 'knn.joblib', compress=True) # KNN Drop"
      ],
      "execution_count": 268,
      "outputs": [
        {
          "output_type": "execute_result",
          "data": {
            "text/plain": [
              "['knn.joblib']"
            ]
          },
          "metadata": {
            "tags": []
          },
          "execution_count": 268
        }
      ]
    },
    {
      "cell_type": "code",
      "metadata": {
        "id": "4dhEVegBku4g",
        "colab_type": "code",
        "colab": {}
      },
      "source": [
        "completed_csv.to_csv('herokuspotify.csv',index=False)"
      ],
      "execution_count": 270,
      "outputs": []
    },
    {
      "cell_type": "markdown",
      "metadata": {
        "id": "Za3Y0ITWMQL5",
        "colab_type": "text"
      },
      "source": [
        "#Simple NeuralNetwork"
      ]
    },
    {
      "cell_type": "code",
      "metadata": {
        "id": "y_G7L9CPPCcB",
        "colab_type": "code",
        "colab": {}
      },
      "source": [
        "from sklearn.preprocessing import StandardScaler"
      ],
      "execution_count": 177,
      "outputs": []
    },
    {
      "cell_type": "code",
      "metadata": {
        "id": "mDj75bpdPD-M",
        "colab_type": "code",
        "colab": {}
      },
      "source": [
        "ss = StandardScaler()"
      ],
      "execution_count": 178,
      "outputs": []
    },
    {
      "cell_type": "code",
      "metadata": {
        "id": "MwhaaJjZPm21",
        "colab_type": "code",
        "colab": {
          "base_uri": "https://localhost:8080/",
          "height": 35
        },
        "outputId": "8871f889-5373-4d97-b748-f088859fbf20"
      },
      "source": [
        "\n",
        "encoded_target.astype('float32')"
      ],
      "execution_count": 322,
      "outputs": [
        {
          "output_type": "execute_result",
          "data": {
            "text/plain": [
              "array([14375., 18477., 12479., ..., 11601.,  4394., 16201.], dtype=float32)"
            ]
          },
          "metadata": {
            "tags": []
          },
          "execution_count": 322
        }
      ]
    },
    {
      "cell_type": "code",
      "metadata": {
        "id": "6Jn_S9mz3Y2f",
        "colab_type": "code",
        "colab": {}
      },
      "source": [
        "dense = Dense(10, activation='relu', kernel_initializer='he_normal')\n",
        "output = Dense(1, activation='sigmoid')(dense)\n",
        "model2 = Model(inputs=in_layers, outputs=output)"
      ],
      "execution_count": null,
      "outputs": []
    },
    {
      "cell_type": "code",
      "metadata": {
        "id": "g17Jc5v6NeoM",
        "colab_type": "code",
        "colab": {}
      },
      "source": [
        "\n",
        "model = Sequential(\n",
        "      [\n",
        "       Dense(32, activation='relu', input_dim=11),\n",
        "       Dense(32, activation='relu'),\n",
        "       Dense(1, activation='softmax')\n",
        "\n",
        "      ]\n",
        "  )\n",
        "model.compile(optimizer='adam', loss='sparse_crossentropy', metrics=['accuracy'])"
      ],
      "execution_count": 331,
      "outputs": []
    },
    {
      "cell_type": "code",
      "metadata": {
        "id": "-T3VyJebN8GF",
        "colab_type": "code",
        "colab": {
          "base_uri": "https://localhost:8080/",
          "height": 52
        },
        "outputId": "6d29e1bc-df9c-4b43-909f-263c3c54531d"
      },
      "source": [
        "model.fit(X_train_feat,y_train_feat,epochs=1,validation_data=(X_val_feat,y_val_feat))"
      ],
      "execution_count": 332,
      "outputs": [
        {
          "output_type": "stream",
          "text": [
            "503/503 [==============================] - 2s 3ms/step - loss: -153947.7188 - accuracy: 0.0000e+00 - val_loss: -150979.5156 - val_accuracy: 2.4851e-04\n"
          ],
          "name": "stdout"
        },
        {
          "output_type": "execute_result",
          "data": {
            "text/plain": [
              "<tensorflow.python.keras.callbacks.History at 0x7fcad328a518>"
            ]
          },
          "metadata": {
            "tags": []
          },
          "execution_count": 332
        }
      ]
    },
    {
      "cell_type": "code",
      "metadata": {
        "id": "tcyN8_h8WM8r",
        "colab_type": "code",
        "colab": {
          "base_uri": "https://localhost:8080/",
          "height": 35
        },
        "outputId": "ffa95ef4-f115-4888-8b59-675e80128db3"
      },
      "source": [
        "encoded_target[1]"
      ],
      "execution_count": 333,
      "outputs": [
        {
          "output_type": "execute_result",
          "data": {
            "text/plain": [
              "18477"
            ]
          },
          "metadata": {
            "tags": []
          },
          "execution_count": 333
        }
      ]
    },
    {
      "cell_type": "code",
      "metadata": {
        "id": "GGzMRTtiOe07",
        "colab_type": "code",
        "colab": {}
      },
      "source": [
        "predt = model.predict(X_train_feat)"
      ],
      "execution_count": 334,
      "outputs": []
    },
    {
      "cell_type": "code",
      "metadata": {
        "id": "gqwxdOyCU_cR",
        "colab_type": "code",
        "colab": {
          "base_uri": "https://localhost:8080/",
          "height": 139
        },
        "outputId": "7e7d50f8-f456-408f-b3c8-0a25fe86a221"
      },
      "source": [
        "predt.astype('int')"
      ],
      "execution_count": 335,
      "outputs": [
        {
          "output_type": "execute_result",
          "data": {
            "text/plain": [
              "array([[1],\n",
              "       [1],\n",
              "       [1],\n",
              "       ...,\n",
              "       [1],\n",
              "       [1],\n",
              "       [1]])"
            ]
          },
          "metadata": {
            "tags": []
          },
          "execution_count": 335
        }
      ]
    },
    {
      "cell_type": "code",
      "metadata": {
        "id": "FG_xq_cyOjTE",
        "colab_type": "code",
        "colab": {
          "base_uri": "https://localhost:8080/",
          "height": 35
        },
        "outputId": "f061d4d5-a653-4443-bb53-4c06a338d6c9"
      },
      "source": [
        "le.inverse_transform([int(test)])"
      ],
      "execution_count": 336,
      "outputs": [
        {
          "output_type": "execute_result",
          "data": {
            "text/plain": [
              "array(['3OJq3VFyNrU0INcTwPyjbD'], dtype=object)"
            ]
          },
          "metadata": {
            "tags": []
          },
          "execution_count": 336
        }
      ]
    },
    {
      "cell_type": "markdown",
      "metadata": {
        "id": "oiUvmzutMSKv",
        "colab_type": "text"
      },
      "source": [
        ""
      ]
    },
    {
      "cell_type": "markdown",
      "metadata": {
        "id": "ymmMF41BEsGs",
        "colab_type": "text"
      },
      "source": [
        "# LSTM Model"
      ]
    },
    {
      "cell_type": "code",
      "metadata": {
        "id": "BnrCyggshYry",
        "colab_type": "code",
        "colab": {
          "base_uri": "https://localhost:8080/",
          "height": 35
        },
        "outputId": "06d4c78f-1f91-4df6-ce28-5b93d8016c82"
      },
      "source": [
        "X_features.shape"
      ],
      "execution_count": 72,
      "outputs": [
        {
          "output_type": "execute_result",
          "data": {
            "text/plain": [
              "(20116, 11)"
            ]
          },
          "metadata": {
            "tags": []
          },
          "execution_count": 72
        }
      ]
    },
    {
      "cell_type": "code",
      "metadata": {
        "id": "Wwm_82xcjB8j",
        "colab_type": "code",
        "colab": {}
      },
      "source": [
        "#LSTM Model\n",
        "model_play = Sequential()\n",
        "model_play.add(LSTM(128, input_shape=(encoded_target))))\n",
        "model_play.add(Dense(len(chars),activation='softmax'))\n",
        "model_play.compile(loss='sparse_categorical_crossentropy',optimizer='adam', metrics=['accuracy'])"
      ],
      "execution_count": null,
      "outputs": []
    },
    {
      "cell_type": "code",
      "metadata": {
        "id": "NpjO_nAFhpAq",
        "colab_type": "code",
        "colab": {
          "base_uri": "https://localhost:8080/",
          "height": 35
        },
        "outputId": "ee17002d-f9b3-4783-d92d-7ce28befca01"
      },
      "source": [
        "X_feat_reshaped.shape"
      ],
      "execution_count": 165,
      "outputs": [
        {
          "output_type": "execute_result",
          "data": {
            "text/plain": [
              "(20116, 11, 1)"
            ]
          },
          "metadata": {
            "tags": []
          },
          "execution_count": 165
        }
      ]
    },
    {
      "cell_type": "code",
      "metadata": {
        "id": "JEF4O6nzH17d",
        "colab_type": "code",
        "colab": {}
      },
      "source": [
        ""
      ],
      "execution_count": null,
      "outputs": []
    },
    {
      "cell_type": "markdown",
      "metadata": {
        "id": "LTZdPRnEsS8u",
        "colab_type": "text"
      },
      "source": [
        "# CNN Model"
      ]
    },
    {
      "cell_type": "code",
      "metadata": {
        "id": "49yVeuJ7Lq9V",
        "colab_type": "code",
        "colab": {
          "base_uri": "https://localhost:8080/",
          "height": 35
        },
        "outputId": "c60162be-114f-4244-c4b1-fe08705fd1ee"
      },
      "source": [
        "len(encoded_target)"
      ],
      "execution_count": 160,
      "outputs": [
        {
          "output_type": "execute_result",
          "data": {
            "text/plain": [
              "20116"
            ]
          },
          "metadata": {
            "tags": []
          },
          "execution_count": 160
        }
      ]
    },
    {
      "cell_type": "code",
      "metadata": {
        "id": "aMIb1uqaEvhz",
        "colab_type": "code",
        "colab": {
          "base_uri": "https://localhost:8080/",
          "height": 295
        },
        "outputId": "df47eec3-0a4e-47c0-ef36-c32f6755d523"
      },
      "source": [
        "model = Sequential()\n",
        "model.add(Conv1D(32, 2, activation=\"relu\", input_shape=(11, len(encoded_target))))\n",
        "model.add(Flatten())\n",
        "model.add(Dense(64, activation=\"relu\"))\n",
        "model.add(Dense(1,activation='softmax'))\n",
        "model.compile(loss=\"sparse_categorical_crossentropy\", optimizer=\"adam\",metrics=['accuracy'])\n",
        "model.summary()"
      ],
      "execution_count": 162,
      "outputs": [
        {
          "output_type": "stream",
          "text": [
            "Model: \"sequential_4\"\n",
            "_________________________________________________________________\n",
            "Layer (type)                 Output Shape              Param #   \n",
            "=================================================================\n",
            "conv1d_4 (Conv1D)            (None, 10, 32)            1287456   \n",
            "_________________________________________________________________\n",
            "flatten_4 (Flatten)          (None, 320)               0         \n",
            "_________________________________________________________________\n",
            "dense_8 (Dense)              (None, 64)                20544     \n",
            "_________________________________________________________________\n",
            "dense_9 (Dense)              (None, 1)                 65        \n",
            "=================================================================\n",
            "Total params: 1,308,065\n",
            "Trainable params: 1,308,065\n",
            "Non-trainable params: 0\n",
            "_________________________________________________________________\n"
          ],
          "name": "stdout"
        }
      ]
    },
    {
      "cell_type": "code",
      "metadata": {
        "id": "SobwzK6pbJHj",
        "colab_type": "code",
        "colab": {
          "base_uri": "https://localhost:8080/",
          "height": 745
        },
        "outputId": "1012033d-52bf-4af2-af29-945a3737a7e1"
      },
      "source": [
        "model.fit(X_features,encoded_target)"
      ],
      "execution_count": 164,
      "outputs": [
        {
          "output_type": "error",
          "ename": "ValueError",
          "evalue": "ignored",
          "traceback": [
            "\u001b[0;31m---------------------------------------------------------------------------\u001b[0m",
            "\u001b[0;31mValueError\u001b[0m                                Traceback (most recent call last)",
            "\u001b[0;32m<ipython-input-164-5b90584857a5>\u001b[0m in \u001b[0;36m<module>\u001b[0;34m()\u001b[0m\n\u001b[0;32m----> 1\u001b[0;31m \u001b[0mmodel\u001b[0m\u001b[0;34m.\u001b[0m\u001b[0mfit\u001b[0m\u001b[0;34m(\u001b[0m\u001b[0mX_features\u001b[0m\u001b[0;34m,\u001b[0m\u001b[0mencoded_target\u001b[0m\u001b[0;34m)\u001b[0m\u001b[0;34m\u001b[0m\u001b[0;34m\u001b[0m\u001b[0m\n\u001b[0m",
            "\u001b[0;32m/usr/local/lib/python3.6/dist-packages/tensorflow/python/keras/engine/training.py\u001b[0m in \u001b[0;36m_method_wrapper\u001b[0;34m(self, *args, **kwargs)\u001b[0m\n\u001b[1;32m    106\u001b[0m   \u001b[0;32mdef\u001b[0m \u001b[0m_method_wrapper\u001b[0m\u001b[0;34m(\u001b[0m\u001b[0mself\u001b[0m\u001b[0;34m,\u001b[0m \u001b[0;34m*\u001b[0m\u001b[0margs\u001b[0m\u001b[0;34m,\u001b[0m \u001b[0;34m**\u001b[0m\u001b[0mkwargs\u001b[0m\u001b[0;34m)\u001b[0m\u001b[0;34m:\u001b[0m\u001b[0;34m\u001b[0m\u001b[0;34m\u001b[0m\u001b[0m\n\u001b[1;32m    107\u001b[0m     \u001b[0;32mif\u001b[0m \u001b[0;32mnot\u001b[0m \u001b[0mself\u001b[0m\u001b[0;34m.\u001b[0m\u001b[0m_in_multi_worker_mode\u001b[0m\u001b[0;34m(\u001b[0m\u001b[0;34m)\u001b[0m\u001b[0;34m:\u001b[0m  \u001b[0;31m# pylint: disable=protected-access\u001b[0m\u001b[0;34m\u001b[0m\u001b[0;34m\u001b[0m\u001b[0m\n\u001b[0;32m--> 108\u001b[0;31m       \u001b[0;32mreturn\u001b[0m \u001b[0mmethod\u001b[0m\u001b[0;34m(\u001b[0m\u001b[0mself\u001b[0m\u001b[0;34m,\u001b[0m \u001b[0;34m*\u001b[0m\u001b[0margs\u001b[0m\u001b[0;34m,\u001b[0m \u001b[0;34m**\u001b[0m\u001b[0mkwargs\u001b[0m\u001b[0;34m)\u001b[0m\u001b[0;34m\u001b[0m\u001b[0;34m\u001b[0m\u001b[0m\n\u001b[0m\u001b[1;32m    109\u001b[0m \u001b[0;34m\u001b[0m\u001b[0m\n\u001b[1;32m    110\u001b[0m     \u001b[0;31m# Running inside `run_distribute_coordinator` already.\u001b[0m\u001b[0;34m\u001b[0m\u001b[0;34m\u001b[0m\u001b[0;34m\u001b[0m\u001b[0m\n",
            "\u001b[0;32m/usr/local/lib/python3.6/dist-packages/tensorflow/python/keras/engine/training.py\u001b[0m in \u001b[0;36mfit\u001b[0;34m(self, x, y, batch_size, epochs, verbose, callbacks, validation_split, validation_data, shuffle, class_weight, sample_weight, initial_epoch, steps_per_epoch, validation_steps, validation_batch_size, validation_freq, max_queue_size, workers, use_multiprocessing)\u001b[0m\n\u001b[1;32m   1096\u001b[0m                 batch_size=batch_size):\n\u001b[1;32m   1097\u001b[0m               \u001b[0mcallbacks\u001b[0m\u001b[0;34m.\u001b[0m\u001b[0mon_train_batch_begin\u001b[0m\u001b[0;34m(\u001b[0m\u001b[0mstep\u001b[0m\u001b[0;34m)\u001b[0m\u001b[0;34m\u001b[0m\u001b[0;34m\u001b[0m\u001b[0m\n\u001b[0;32m-> 1098\u001b[0;31m               \u001b[0mtmp_logs\u001b[0m \u001b[0;34m=\u001b[0m \u001b[0mtrain_function\u001b[0m\u001b[0;34m(\u001b[0m\u001b[0miterator\u001b[0m\u001b[0;34m)\u001b[0m\u001b[0;34m\u001b[0m\u001b[0;34m\u001b[0m\u001b[0m\n\u001b[0m\u001b[1;32m   1099\u001b[0m               \u001b[0;32mif\u001b[0m \u001b[0mdata_handler\u001b[0m\u001b[0;34m.\u001b[0m\u001b[0mshould_sync\u001b[0m\u001b[0;34m:\u001b[0m\u001b[0;34m\u001b[0m\u001b[0;34m\u001b[0m\u001b[0m\n\u001b[1;32m   1100\u001b[0m                 \u001b[0mcontext\u001b[0m\u001b[0;34m.\u001b[0m\u001b[0masync_wait\u001b[0m\u001b[0;34m(\u001b[0m\u001b[0;34m)\u001b[0m\u001b[0;34m\u001b[0m\u001b[0;34m\u001b[0m\u001b[0m\n",
            "\u001b[0;32m/usr/local/lib/python3.6/dist-packages/tensorflow/python/eager/def_function.py\u001b[0m in \u001b[0;36m__call__\u001b[0;34m(self, *args, **kwds)\u001b[0m\n\u001b[1;32m    778\u001b[0m       \u001b[0;32melse\u001b[0m\u001b[0;34m:\u001b[0m\u001b[0;34m\u001b[0m\u001b[0;34m\u001b[0m\u001b[0m\n\u001b[1;32m    779\u001b[0m         \u001b[0mcompiler\u001b[0m \u001b[0;34m=\u001b[0m \u001b[0;34m\"nonXla\"\u001b[0m\u001b[0;34m\u001b[0m\u001b[0;34m\u001b[0m\u001b[0m\n\u001b[0;32m--> 780\u001b[0;31m         \u001b[0mresult\u001b[0m \u001b[0;34m=\u001b[0m \u001b[0mself\u001b[0m\u001b[0;34m.\u001b[0m\u001b[0m_call\u001b[0m\u001b[0;34m(\u001b[0m\u001b[0;34m*\u001b[0m\u001b[0margs\u001b[0m\u001b[0;34m,\u001b[0m \u001b[0;34m**\u001b[0m\u001b[0mkwds\u001b[0m\u001b[0;34m)\u001b[0m\u001b[0;34m\u001b[0m\u001b[0;34m\u001b[0m\u001b[0m\n\u001b[0m\u001b[1;32m    781\u001b[0m \u001b[0;34m\u001b[0m\u001b[0m\n\u001b[1;32m    782\u001b[0m       \u001b[0mnew_tracing_count\u001b[0m \u001b[0;34m=\u001b[0m \u001b[0mself\u001b[0m\u001b[0;34m.\u001b[0m\u001b[0m_get_tracing_count\u001b[0m\u001b[0;34m(\u001b[0m\u001b[0;34m)\u001b[0m\u001b[0;34m\u001b[0m\u001b[0;34m\u001b[0m\u001b[0m\n",
            "\u001b[0;32m/usr/local/lib/python3.6/dist-packages/tensorflow/python/eager/def_function.py\u001b[0m in \u001b[0;36m_call\u001b[0;34m(self, *args, **kwds)\u001b[0m\n\u001b[1;32m    812\u001b[0m       \u001b[0;31m# In this case we have not created variables on the first call. So we can\u001b[0m\u001b[0;34m\u001b[0m\u001b[0;34m\u001b[0m\u001b[0;34m\u001b[0m\u001b[0m\n\u001b[1;32m    813\u001b[0m       \u001b[0;31m# run the first trace but we should fail if variables are created.\u001b[0m\u001b[0;34m\u001b[0m\u001b[0;34m\u001b[0m\u001b[0;34m\u001b[0m\u001b[0m\n\u001b[0;32m--> 814\u001b[0;31m       \u001b[0mresults\u001b[0m \u001b[0;34m=\u001b[0m \u001b[0mself\u001b[0m\u001b[0;34m.\u001b[0m\u001b[0m_stateful_fn\u001b[0m\u001b[0;34m(\u001b[0m\u001b[0;34m*\u001b[0m\u001b[0margs\u001b[0m\u001b[0;34m,\u001b[0m \u001b[0;34m**\u001b[0m\u001b[0mkwds\u001b[0m\u001b[0;34m)\u001b[0m\u001b[0;34m\u001b[0m\u001b[0;34m\u001b[0m\u001b[0m\n\u001b[0m\u001b[1;32m    815\u001b[0m       \u001b[0;32mif\u001b[0m \u001b[0mself\u001b[0m\u001b[0;34m.\u001b[0m\u001b[0m_created_variables\u001b[0m\u001b[0;34m:\u001b[0m\u001b[0;34m\u001b[0m\u001b[0;34m\u001b[0m\u001b[0m\n\u001b[1;32m    816\u001b[0m         raise ValueError(\"Creating variables on a non-first call to a function\"\n",
            "\u001b[0;32m/usr/local/lib/python3.6/dist-packages/tensorflow/python/eager/function.py\u001b[0m in \u001b[0;36m__call__\u001b[0;34m(self, *args, **kwargs)\u001b[0m\n\u001b[1;32m   2826\u001b[0m     \u001b[0;34m\"\"\"Calls a graph function specialized to the inputs.\"\"\"\u001b[0m\u001b[0;34m\u001b[0m\u001b[0;34m\u001b[0m\u001b[0m\n\u001b[1;32m   2827\u001b[0m     \u001b[0;32mwith\u001b[0m \u001b[0mself\u001b[0m\u001b[0;34m.\u001b[0m\u001b[0m_lock\u001b[0m\u001b[0;34m:\u001b[0m\u001b[0;34m\u001b[0m\u001b[0;34m\u001b[0m\u001b[0m\n\u001b[0;32m-> 2828\u001b[0;31m       \u001b[0mgraph_function\u001b[0m\u001b[0;34m,\u001b[0m \u001b[0margs\u001b[0m\u001b[0;34m,\u001b[0m \u001b[0mkwargs\u001b[0m \u001b[0;34m=\u001b[0m \u001b[0mself\u001b[0m\u001b[0;34m.\u001b[0m\u001b[0m_maybe_define_function\u001b[0m\u001b[0;34m(\u001b[0m\u001b[0margs\u001b[0m\u001b[0;34m,\u001b[0m \u001b[0mkwargs\u001b[0m\u001b[0;34m)\u001b[0m\u001b[0;34m\u001b[0m\u001b[0;34m\u001b[0m\u001b[0m\n\u001b[0m\u001b[1;32m   2829\u001b[0m     \u001b[0;32mreturn\u001b[0m \u001b[0mgraph_function\u001b[0m\u001b[0;34m.\u001b[0m\u001b[0m_filtered_call\u001b[0m\u001b[0;34m(\u001b[0m\u001b[0margs\u001b[0m\u001b[0;34m,\u001b[0m \u001b[0mkwargs\u001b[0m\u001b[0;34m)\u001b[0m  \u001b[0;31m# pylint: disable=protected-access\u001b[0m\u001b[0;34m\u001b[0m\u001b[0;34m\u001b[0m\u001b[0m\n\u001b[1;32m   2830\u001b[0m \u001b[0;34m\u001b[0m\u001b[0m\n",
            "\u001b[0;32m/usr/local/lib/python3.6/dist-packages/tensorflow/python/eager/function.py\u001b[0m in \u001b[0;36m_maybe_define_function\u001b[0;34m(self, args, kwargs)\u001b[0m\n\u001b[1;32m   3208\u001b[0m           \u001b[0;32mand\u001b[0m \u001b[0mself\u001b[0m\u001b[0;34m.\u001b[0m\u001b[0minput_signature\u001b[0m \u001b[0;32mis\u001b[0m \u001b[0;32mNone\u001b[0m\u001b[0;34m\u001b[0m\u001b[0;34m\u001b[0m\u001b[0m\n\u001b[1;32m   3209\u001b[0m           and call_context_key in self._function_cache.missed):\n\u001b[0;32m-> 3210\u001b[0;31m         \u001b[0;32mreturn\u001b[0m \u001b[0mself\u001b[0m\u001b[0;34m.\u001b[0m\u001b[0m_define_function_with_shape_relaxation\u001b[0m\u001b[0;34m(\u001b[0m\u001b[0margs\u001b[0m\u001b[0;34m,\u001b[0m \u001b[0mkwargs\u001b[0m\u001b[0;34m)\u001b[0m\u001b[0;34m\u001b[0m\u001b[0;34m\u001b[0m\u001b[0m\n\u001b[0m\u001b[1;32m   3211\u001b[0m \u001b[0;34m\u001b[0m\u001b[0m\n\u001b[1;32m   3212\u001b[0m       \u001b[0mself\u001b[0m\u001b[0;34m.\u001b[0m\u001b[0m_function_cache\u001b[0m\u001b[0;34m.\u001b[0m\u001b[0mmissed\u001b[0m\u001b[0;34m.\u001b[0m\u001b[0madd\u001b[0m\u001b[0;34m(\u001b[0m\u001b[0mcall_context_key\u001b[0m\u001b[0;34m)\u001b[0m\u001b[0;34m\u001b[0m\u001b[0;34m\u001b[0m\u001b[0m\n",
            "\u001b[0;32m/usr/local/lib/python3.6/dist-packages/tensorflow/python/eager/function.py\u001b[0m in \u001b[0;36m_define_function_with_shape_relaxation\u001b[0;34m(self, args, kwargs)\u001b[0m\n\u001b[1;32m   3140\u001b[0m \u001b[0;34m\u001b[0m\u001b[0m\n\u001b[1;32m   3141\u001b[0m     graph_function = self._create_graph_function(\n\u001b[0;32m-> 3142\u001b[0;31m         args, kwargs, override_flat_arg_shapes=relaxed_arg_shapes)\n\u001b[0m\u001b[1;32m   3143\u001b[0m     \u001b[0mself\u001b[0m\u001b[0;34m.\u001b[0m\u001b[0m_function_cache\u001b[0m\u001b[0;34m.\u001b[0m\u001b[0marg_relaxed\u001b[0m\u001b[0;34m[\u001b[0m\u001b[0mrank_only_cache_key\u001b[0m\u001b[0;34m]\u001b[0m \u001b[0;34m=\u001b[0m \u001b[0mgraph_function\u001b[0m\u001b[0;34m\u001b[0m\u001b[0;34m\u001b[0m\u001b[0m\n\u001b[1;32m   3144\u001b[0m \u001b[0;34m\u001b[0m\u001b[0m\n",
            "\u001b[0;32m/usr/local/lib/python3.6/dist-packages/tensorflow/python/eager/function.py\u001b[0m in \u001b[0;36m_create_graph_function\u001b[0;34m(self, args, kwargs, override_flat_arg_shapes)\u001b[0m\n\u001b[1;32m   3073\u001b[0m             \u001b[0marg_names\u001b[0m\u001b[0;34m=\u001b[0m\u001b[0marg_names\u001b[0m\u001b[0;34m,\u001b[0m\u001b[0;34m\u001b[0m\u001b[0;34m\u001b[0m\u001b[0m\n\u001b[1;32m   3074\u001b[0m             \u001b[0moverride_flat_arg_shapes\u001b[0m\u001b[0;34m=\u001b[0m\u001b[0moverride_flat_arg_shapes\u001b[0m\u001b[0;34m,\u001b[0m\u001b[0;34m\u001b[0m\u001b[0;34m\u001b[0m\u001b[0m\n\u001b[0;32m-> 3075\u001b[0;31m             capture_by_value=self._capture_by_value),\n\u001b[0m\u001b[1;32m   3076\u001b[0m         \u001b[0mself\u001b[0m\u001b[0;34m.\u001b[0m\u001b[0m_function_attributes\u001b[0m\u001b[0;34m,\u001b[0m\u001b[0;34m\u001b[0m\u001b[0;34m\u001b[0m\u001b[0m\n\u001b[1;32m   3077\u001b[0m         \u001b[0mfunction_spec\u001b[0m\u001b[0;34m=\u001b[0m\u001b[0mself\u001b[0m\u001b[0;34m.\u001b[0m\u001b[0mfunction_spec\u001b[0m\u001b[0;34m,\u001b[0m\u001b[0;34m\u001b[0m\u001b[0;34m\u001b[0m\u001b[0m\n",
            "\u001b[0;32m/usr/local/lib/python3.6/dist-packages/tensorflow/python/framework/func_graph.py\u001b[0m in \u001b[0;36mfunc_graph_from_py_func\u001b[0;34m(name, python_func, args, kwargs, signature, func_graph, autograph, autograph_options, add_control_dependencies, arg_names, op_return_value, collections, capture_by_value, override_flat_arg_shapes)\u001b[0m\n\u001b[1;32m    984\u001b[0m         \u001b[0m_\u001b[0m\u001b[0;34m,\u001b[0m \u001b[0moriginal_func\u001b[0m \u001b[0;34m=\u001b[0m \u001b[0mtf_decorator\u001b[0m\u001b[0;34m.\u001b[0m\u001b[0munwrap\u001b[0m\u001b[0;34m(\u001b[0m\u001b[0mpython_func\u001b[0m\u001b[0;34m)\u001b[0m\u001b[0;34m\u001b[0m\u001b[0;34m\u001b[0m\u001b[0m\n\u001b[1;32m    985\u001b[0m \u001b[0;34m\u001b[0m\u001b[0m\n\u001b[0;32m--> 986\u001b[0;31m       \u001b[0mfunc_outputs\u001b[0m \u001b[0;34m=\u001b[0m \u001b[0mpython_func\u001b[0m\u001b[0;34m(\u001b[0m\u001b[0;34m*\u001b[0m\u001b[0mfunc_args\u001b[0m\u001b[0;34m,\u001b[0m \u001b[0;34m**\u001b[0m\u001b[0mfunc_kwargs\u001b[0m\u001b[0;34m)\u001b[0m\u001b[0;34m\u001b[0m\u001b[0;34m\u001b[0m\u001b[0m\n\u001b[0m\u001b[1;32m    987\u001b[0m \u001b[0;34m\u001b[0m\u001b[0m\n\u001b[1;32m    988\u001b[0m       \u001b[0;31m# invariant: `func_outputs` contains only Tensors, CompositeTensors,\u001b[0m\u001b[0;34m\u001b[0m\u001b[0;34m\u001b[0m\u001b[0;34m\u001b[0m\u001b[0m\n",
            "\u001b[0;32m/usr/local/lib/python3.6/dist-packages/tensorflow/python/eager/def_function.py\u001b[0m in \u001b[0;36mwrapped_fn\u001b[0;34m(*args, **kwds)\u001b[0m\n\u001b[1;32m    598\u001b[0m         \u001b[0;31m# __wrapped__ allows AutoGraph to swap in a converted function. We give\u001b[0m\u001b[0;34m\u001b[0m\u001b[0;34m\u001b[0m\u001b[0;34m\u001b[0m\u001b[0m\n\u001b[1;32m    599\u001b[0m         \u001b[0;31m# the function a weak reference to itself to avoid a reference cycle.\u001b[0m\u001b[0;34m\u001b[0m\u001b[0;34m\u001b[0m\u001b[0;34m\u001b[0m\u001b[0m\n\u001b[0;32m--> 600\u001b[0;31m         \u001b[0;32mreturn\u001b[0m \u001b[0mweak_wrapped_fn\u001b[0m\u001b[0;34m(\u001b[0m\u001b[0;34m)\u001b[0m\u001b[0;34m.\u001b[0m\u001b[0m__wrapped__\u001b[0m\u001b[0;34m(\u001b[0m\u001b[0;34m*\u001b[0m\u001b[0margs\u001b[0m\u001b[0;34m,\u001b[0m \u001b[0;34m**\u001b[0m\u001b[0mkwds\u001b[0m\u001b[0;34m)\u001b[0m\u001b[0;34m\u001b[0m\u001b[0;34m\u001b[0m\u001b[0m\n\u001b[0m\u001b[1;32m    601\u001b[0m     \u001b[0mweak_wrapped_fn\u001b[0m \u001b[0;34m=\u001b[0m \u001b[0mweakref\u001b[0m\u001b[0;34m.\u001b[0m\u001b[0mref\u001b[0m\u001b[0;34m(\u001b[0m\u001b[0mwrapped_fn\u001b[0m\u001b[0;34m)\u001b[0m\u001b[0;34m\u001b[0m\u001b[0;34m\u001b[0m\u001b[0m\n\u001b[1;32m    602\u001b[0m \u001b[0;34m\u001b[0m\u001b[0m\n",
            "\u001b[0;32m/usr/local/lib/python3.6/dist-packages/tensorflow/python/framework/func_graph.py\u001b[0m in \u001b[0;36mwrapper\u001b[0;34m(*args, **kwargs)\u001b[0m\n\u001b[1;32m    971\u001b[0m           \u001b[0;32mexcept\u001b[0m \u001b[0mException\u001b[0m \u001b[0;32mas\u001b[0m \u001b[0me\u001b[0m\u001b[0;34m:\u001b[0m  \u001b[0;31m# pylint:disable=broad-except\u001b[0m\u001b[0;34m\u001b[0m\u001b[0;34m\u001b[0m\u001b[0m\n\u001b[1;32m    972\u001b[0m             \u001b[0;32mif\u001b[0m \u001b[0mhasattr\u001b[0m\u001b[0;34m(\u001b[0m\u001b[0me\u001b[0m\u001b[0;34m,\u001b[0m \u001b[0;34m\"ag_error_metadata\"\u001b[0m\u001b[0;34m)\u001b[0m\u001b[0;34m:\u001b[0m\u001b[0;34m\u001b[0m\u001b[0;34m\u001b[0m\u001b[0m\n\u001b[0;32m--> 973\u001b[0;31m               \u001b[0;32mraise\u001b[0m \u001b[0me\u001b[0m\u001b[0;34m.\u001b[0m\u001b[0mag_error_metadata\u001b[0m\u001b[0;34m.\u001b[0m\u001b[0mto_exception\u001b[0m\u001b[0;34m(\u001b[0m\u001b[0me\u001b[0m\u001b[0;34m)\u001b[0m\u001b[0;34m\u001b[0m\u001b[0;34m\u001b[0m\u001b[0m\n\u001b[0m\u001b[1;32m    974\u001b[0m             \u001b[0;32melse\u001b[0m\u001b[0;34m:\u001b[0m\u001b[0;34m\u001b[0m\u001b[0;34m\u001b[0m\u001b[0m\n\u001b[1;32m    975\u001b[0m               \u001b[0;32mraise\u001b[0m\u001b[0;34m\u001b[0m\u001b[0;34m\u001b[0m\u001b[0m\n",
            "\u001b[0;31mValueError\u001b[0m: in user code:\n\n    /usr/local/lib/python3.6/dist-packages/tensorflow/python/keras/engine/training.py:806 train_function  *\n        return step_function(self, iterator)\n    /usr/local/lib/python3.6/dist-packages/tensorflow/python/keras/engine/training.py:796 step_function  **\n        outputs = model.distribute_strategy.run(run_step, args=(data,))\n    /usr/local/lib/python3.6/dist-packages/tensorflow/python/distribute/distribute_lib.py:1211 run\n        return self._extended.call_for_each_replica(fn, args=args, kwargs=kwargs)\n    /usr/local/lib/python3.6/dist-packages/tensorflow/python/distribute/distribute_lib.py:2585 call_for_each_replica\n        return self._call_for_each_replica(fn, args, kwargs)\n    /usr/local/lib/python3.6/dist-packages/tensorflow/python/distribute/distribute_lib.py:2945 _call_for_each_replica\n        return fn(*args, **kwargs)\n    /usr/local/lib/python3.6/dist-packages/tensorflow/python/keras/engine/training.py:789 run_step  **\n        outputs = model.train_step(data)\n    /usr/local/lib/python3.6/dist-packages/tensorflow/python/keras/engine/training.py:747 train_step\n        y_pred = self(x, training=True)\n    /usr/local/lib/python3.6/dist-packages/tensorflow/python/keras/engine/base_layer.py:976 __call__\n        self.name)\n    /usr/local/lib/python3.6/dist-packages/tensorflow/python/keras/engine/input_spec.py:196 assert_input_compatibility\n        str(x.shape.as_list()))\n\n    ValueError: Input 0 of layer sequential_4 is incompatible with the layer: : expected min_ndim=3, found ndim=2. Full shape received: [None, 11]\n"
          ]
        }
      ]
    },
    {
      "cell_type": "code",
      "metadata": {
        "id": "ohsUmbRstGus",
        "colab_type": "code",
        "colab": {}
      },
      "source": [
        "songfeatsreshaped = song_feats.values.reshape(song_feats.shape[0],song_feats.shape[1],1)"
      ],
      "execution_count": 152,
      "outputs": []
    },
    {
      "cell_type": "code",
      "metadata": {
        "id": "3N2mPYkDsuNy",
        "colab_type": "code",
        "colab": {}
      },
      "source": [
        "preds = model.predict(songfeatsreshaped)"
      ],
      "execution_count": 153,
      "outputs": []
    },
    {
      "cell_type": "code",
      "metadata": {
        "id": "HStdjyyKKq3m",
        "colab_type": "code",
        "colab": {
          "base_uri": "https://localhost:8080/",
          "height": 191
        },
        "outputId": "7fecb85b-8866-4f31-852c-2f5a528f9080"
      },
      "source": [
        "predreshape = preddf.values.reshape(preddf.values.shape[0],preddf.values.shape[1],1)\n",
        "model.predict(predreshape)"
      ],
      "execution_count": 151,
      "outputs": [
        {
          "output_type": "execute_result",
          "data": {
            "text/plain": [
              "array([[1.],\n",
              "       [1.],\n",
              "       [1.],\n",
              "       [1.],\n",
              "       [1.],\n",
              "       [1.],\n",
              "       [1.],\n",
              "       [1.],\n",
              "       [1.],\n",
              "       [1.]], dtype=float32)"
            ]
          },
          "metadata": {
            "tags": []
          },
          "execution_count": 151
        }
      ]
    },
    {
      "cell_type": "code",
      "metadata": {
        "id": "I7ylf6P7LTgu",
        "colab_type": "code",
        "colab": {}
      },
      "source": [
        "test = int(preds)"
      ],
      "execution_count": 158,
      "outputs": []
    },
    {
      "cell_type": "code",
      "metadata": {
        "id": "mZimPvUhumfZ",
        "colab_type": "code",
        "colab": {
          "base_uri": "https://localhost:8080/",
          "height": 35
        },
        "outputId": "fc7eb634-5dd6-4fd0-ad9b-9165e0ded82e"
      },
      "source": [
        "le.inverse_transform([test])"
      ],
      "execution_count": 159,
      "outputs": [
        {
          "output_type": "execute_result",
          "data": {
            "text/plain": [
              "array(['000xYdQfIZ4pDmBGzQalKU'], dtype=object)"
            ]
          },
          "metadata": {
            "tags": []
          },
          "execution_count": 159
        }
      ]
    },
    {
      "cell_type": "markdown",
      "metadata": {
        "id": "9gvMitSMIiXU",
        "colab_type": "text"
      },
      "source": [
        "# Experiment Zone"
      ]
    },
    {
      "cell_type": "code",
      "metadata": {
        "id": "6pDVIg_rykN3",
        "colab_type": "code",
        "colab": {}
      },
      "source": [
        "nn = NearestNeighbors(n_neighbors=5,algorithm='auto')"
      ],
      "execution_count": 111,
      "outputs": []
    },
    {
      "cell_type": "code",
      "metadata": {
        "id": "aAYFmPQAyr6v",
        "colab_type": "code",
        "colab": {
          "base_uri": "https://localhost:8080/",
          "height": 69
        },
        "outputId": "e4d9813f-4383-483e-cd6e-f26ee0dde414"
      },
      "source": [
        "nn.fit(X_features,X_features)"
      ],
      "execution_count": 112,
      "outputs": [
        {
          "output_type": "execute_result",
          "data": {
            "text/plain": [
              "NearestNeighbors(algorithm='auto', leaf_size=30, metric='minkowski',\n",
              "                 metric_params=None, n_jobs=None, n_neighbors=5, p=2,\n",
              "                 radius=1.0)"
            ]
          },
          "metadata": {
            "tags": []
          },
          "execution_count": 112
        }
      ]
    },
    {
      "cell_type": "code",
      "metadata": {
        "id": "qdGkQUS70sXm",
        "colab_type": "code",
        "colab": {
          "base_uri": "https://localhost:8080/",
          "height": 99
        },
        "outputId": "aeed4408-c99b-4664-e153-13423d63db46"
      },
      "source": [
        "song_feats"
      ],
      "execution_count": 113,
      "outputs": [
        {
          "output_type": "execute_result",
          "data": {
            "text/html": [
              "<div>\n",
              "<style scoped>\n",
              "    .dataframe tbody tr th:only-of-type {\n",
              "        vertical-align: middle;\n",
              "    }\n",
              "\n",
              "    .dataframe tbody tr th {\n",
              "        vertical-align: top;\n",
              "    }\n",
              "\n",
              "    .dataframe thead th {\n",
              "        text-align: right;\n",
              "    }\n",
              "</style>\n",
              "<table border=\"1\" class=\"dataframe\">\n",
              "  <thead>\n",
              "    <tr style=\"text-align: right;\">\n",
              "      <th></th>\n",
              "      <th>danceability</th>\n",
              "      <th>energy</th>\n",
              "      <th>key</th>\n",
              "      <th>loudness</th>\n",
              "      <th>mode</th>\n",
              "      <th>speechiness</th>\n",
              "      <th>acousticness</th>\n",
              "      <th>instrumentalness</th>\n",
              "      <th>liveness</th>\n",
              "      <th>valence</th>\n",
              "      <th>tempo</th>\n",
              "    </tr>\n",
              "  </thead>\n",
              "  <tbody>\n",
              "    <tr>\n",
              "      <th>20115</th>\n",
              "      <td>0.709</td>\n",
              "      <td>0.687</td>\n",
              "      <td>6</td>\n",
              "      <td>-5.695</td>\n",
              "      <td>1</td>\n",
              "      <td>0.173</td>\n",
              "      <td>0.0126</td>\n",
              "      <td>0.000007</td>\n",
              "      <td>0.17</td>\n",
              "      <td>0.62</td>\n",
              "      <td>104.876</td>\n",
              "    </tr>\n",
              "  </tbody>\n",
              "</table>\n",
              "</div>"
            ],
            "text/plain": [
              "       danceability  energy  key  ...  liveness  valence    tempo\n",
              "20115         0.709   0.687    6  ...      0.17     0.62  104.876\n",
              "\n",
              "[1 rows x 11 columns]"
            ]
          },
          "metadata": {
            "tags": []
          },
          "execution_count": 113
        }
      ]
    },
    {
      "cell_type": "code",
      "metadata": {
        "id": "UMzkQwC71YyQ",
        "colab_type": "code",
        "colab": {}
      },
      "source": [
        "most_similar = nn.kneighbors(song_feats)"
      ],
      "execution_count": 115,
      "outputs": []
    },
    {
      "cell_type": "code",
      "metadata": {
        "id": "t3WOM-RAHf2M",
        "colab_type": "code",
        "colab": {
          "base_uri": "https://localhost:8080/",
          "height": 52
        },
        "outputId": "99ab80f3-f079-42c7-f446-d6a0ed7fb986"
      },
      "source": [
        "most_similar"
      ],
      "execution_count": 116,
      "outputs": [
        {
          "output_type": "execute_result",
          "data": {
            "text/plain": [
              "(array([[0.        , 0.60651431, 0.65143259, 0.66617708, 0.86648304]]),\n",
              " array([[20115, 17715, 15616, 15618,  8140]]))"
            ]
          },
          "metadata": {
            "tags": []
          },
          "execution_count": 116
        }
      ]
    },
    {
      "cell_type": "code",
      "metadata": {
        "id": "xQtmwqub13sr",
        "colab_type": "code",
        "colab": {}
      },
      "source": [
        "X_features[553]"
      ],
      "execution_count": null,
      "outputs": []
    },
    {
      "cell_type": "code",
      "metadata": {
        "id": "KhPjw4xUyvXP",
        "colab_type": "code",
        "colab": {}
      },
      "source": [
        "most_similar = nn.kneighbors(song_feats)"
      ],
      "execution_count": null,
      "outputs": []
    },
    {
      "cell_type": "code",
      "metadata": {
        "id": "LxHQcApe1O3M",
        "colab_type": "code",
        "colab": {
          "base_uri": "https://localhost:8080/",
          "height": 35
        },
        "outputId": "947520b0-cf4f-4460-d01b-ebe7b47618f2"
      },
      "source": [
        "le.inverse_transform(encoded_target[[most_similar[1][0][1]]])"
      ],
      "execution_count": null,
      "outputs": [
        {
          "output_type": "execute_result",
          "data": {
            "text/plain": [
              "array(['Pasado y Presente'], dtype=object)"
            ]
          },
          "metadata": {
            "tags": []
          },
          "execution_count": 177
        }
      ]
    }
  ]
}