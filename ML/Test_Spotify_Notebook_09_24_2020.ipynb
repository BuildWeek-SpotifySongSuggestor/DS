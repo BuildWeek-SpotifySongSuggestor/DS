{
  "nbformat": 4,
  "nbformat_minor": 0,
  "metadata": {
    "colab": {
      "name": "Test_Spotify_Notebook_09/24/2020.ipynb",
      "provenance": [],
      "collapsed_sections": [],
      "toc_visible": true,
      "machine_shape": "hm"
    },
    "kernelspec": {
      "name": "python3",
      "display_name": "Python 3"
    },
    "accelerator": "GPU"
  },
  "cells": [
    {
      "cell_type": "markdown",
      "metadata": {
        "id": "tpr2b8S4l5yi",
        "colab_type": "text"
      },
      "source": [
        "#Imports"
      ]
    },
    {
      "cell_type": "code",
      "metadata": {
        "id": "MuNkxt0coTWQ",
        "colab_type": "code",
        "colab": {
          "base_uri": "https://localhost:8080/",
          "height": 156
        },
        "outputId": "d2861351-fd90-434e-c8c2-4e4434bbf203"
      },
      "source": [
        "!pip install spotipy"
      ],
      "execution_count": null,
      "outputs": [
        {
          "output_type": "stream",
          "text": [
            "Requirement already satisfied: spotipy in /usr/local/lib/python3.6/dist-packages (2.16.0)\n",
            "Requirement already satisfied: six>=1.10.0 in /usr/local/lib/python3.6/dist-packages (from spotipy) (1.15.0)\n",
            "Requirement already satisfied: requests>=2.20.0 in /usr/local/lib/python3.6/dist-packages (from spotipy) (2.23.0)\n",
            "Requirement already satisfied: chardet<4,>=3.0.2 in /usr/local/lib/python3.6/dist-packages (from requests>=2.20.0->spotipy) (3.0.4)\n",
            "Requirement already satisfied: certifi>=2017.4.17 in /usr/local/lib/python3.6/dist-packages (from requests>=2.20.0->spotipy) (2020.6.20)\n",
            "Requirement already satisfied: idna<3,>=2.5 in /usr/local/lib/python3.6/dist-packages (from requests>=2.20.0->spotipy) (2.10)\n",
            "Requirement already satisfied: urllib3!=1.25.0,!=1.25.1,<1.26,>=1.21.1 in /usr/local/lib/python3.6/dist-packages (from requests>=2.20.0->spotipy) (1.24.3)\n"
          ],
          "name": "stdout"
        }
      ]
    },
    {
      "cell_type": "code",
      "metadata": {
        "id": "XFPyrEmHeiGl",
        "colab_type": "code",
        "colab": {
          "base_uri": "https://localhost:8080/",
          "height": 153
        },
        "outputId": "381103e0-35a9-4614-86c8-50eb91fe88dc"
      },
      "source": [
        "%load_ext tensorboard\n",
        "%tensorflow_version 2.X\n",
        "\n",
        "import numpy as np\n",
        "import pandas as pd\n",
        "\n",
        "import matplotlib.pyplot as plt\n",
        "import plotly.express as px\n",
        "import seaborn as sns\n",
        "\n",
        "# from sklearn.feature_extraction.text import CountVectorizer, TfidfVectorizer\n",
        "from sklearn.model_selection import train_test_split\n",
        "from sklearn.neighbors import NearestNeighbors\n",
        "from sklearn.preprocessing import LabelEncoder\n",
        "from sklearn.utils import shuffle\n",
        "import spacy\n",
        "import tensorflow as tf\n",
        "from tensorflow.keras.layers import Input, Dense,Conv2D,Conv1D, GlobalAveragePooling2D, MaxPooling2D,Flatten\n",
        "from tensorflow.keras.models import Model, Sequential\n",
        "# from tensorflow.keras.callbacks import EarlyStopping, TensorBoard\n",
        "\n",
        "import re\n",
        "import string\n",
        "import requests\n",
        "from bs4 import BeautifulSoup\n",
        "import os\n",
        "import spotipy\n",
        "from spotipy.oauth2 import SpotifyClientCredentials\n",
        "import requests\n",
        "\n",
        "nlp = spacy.load(\"en_core_web_sm\")\n",
        "\n",
        "# Spotipy API Login\n",
        "cid = 'b7bbbca585dc427badc487828339c228'\n",
        "secret = '2ab78372f5d44d1ebb30df994100c245'\n",
        "client_credentials_manager = SpotifyClientCredentials(client_id=cid, client_secret=secret)\n",
        "sp = spotipy.Spotify(client_credentials_manager=client_credentials_manager)\n",
        "\n",
        "from google.colab import drive\n",
        "drive.mount('/content/drive')"
      ],
      "execution_count": null,
      "outputs": [
        {
          "output_type": "stream",
          "text": [
            "The tensorboard extension is already loaded. To reload it, use:\n",
            "  %reload_ext tensorboard\n",
            "`%tensorflow_version` only switches the major version: 1.x or 2.x.\n",
            "You set: `2.X`. This will be interpreted as: `2.x`.\n",
            "\n",
            "\n",
            "TensorFlow is already loaded. Please restart the runtime to change versions.\n",
            "Drive already mounted at /content/drive; to attempt to forcibly remount, call drive.mount(\"/content/drive\", force_remount=True).\n"
          ],
          "name": "stdout"
        }
      ]
    },
    {
      "cell_type": "markdown",
      "metadata": {
        "id": "R-YDoSsoZ3in",
        "colab_type": "text"
      },
      "source": [
        "#Import Data"
      ]
    },
    {
      "cell_type": "code",
      "metadata": {
        "id": "uT3Gpqh7OrGD",
        "colab_type": "code",
        "colab": {
          "base_uri": "https://localhost:8080/",
          "height": 527
        },
        "outputId": "b38429af-8506-4fcb-c38f-b5793d7858e7"
      },
      "source": [
        "# LOAD DATA\n",
        "filepath='SpotifyFeatures.csv'\n",
        "SpotifyFeatures_dataset = pd.read_csv(f'/content/drive/My Drive/{filepath}').drop_duplicates(subset=['track_id'])  # All Catergories including genres\n",
        "df = SpotifyFeatures_dataset.copy()  # Duplicate orginial file for modifications\n",
        "print(\"Shape:\")\n",
        "print(df.shape) \n",
        "print(\"\\nColumn Headers:\")\n",
        "print(df.columns)\n",
        "print(\"\\nNaNs present?:\")\n",
        "print(df.isnull().sum())\n",
        "\n",
        "# PREPROCESS\n",
        "#Data Cleaning\n",
        "numberValue = [0,1,2,3,4,5,6,7,8,9,10,11]\n",
        "df['key'].unique()\n",
        "df.replace(to_replace=['C#', 'F#', 'C', 'F', 'G', 'E', 'D#', 'G#', 'D', 'A#', 'A', 'B'], value=numberValue, inplace=True)\n",
        "df.replace(to_replace=['Major','Minor'], value=[0,1], inplace=True)\n",
        "df.replace(to_replace=['4/4', '5/4', '3/4', '1/4', '0/4'], value=[0,1,2,3,4], inplace=True)\n",
        "df.dropna(inplace=True)\n",
        "# df.drop_duplicates(subset=['track_id'], inplace=True)  # duplicates are actually dropped during read_csv process\n",
        "#Dropping Data\n",
        "# df.drop(['artist_name','track_id','track_name'],axis=1,inplace=True)  #If Need Be"
      ],
      "execution_count": null,
      "outputs": [
        {
          "output_type": "stream",
          "text": [
            "Shape:\n",
            "(176774, 18)\n",
            "\n",
            "Column Headers:\n",
            "Index(['genre', 'artist_name', 'track_name', 'track_id', 'popularity',\n",
            "       'acousticness', 'danceability', 'duration_ms', 'energy',\n",
            "       'instrumentalness', 'key', 'liveness', 'loudness', 'mode',\n",
            "       'speechiness', 'tempo', 'time_signature', 'valence'],\n",
            "      dtype='object')\n",
            "\n",
            "NaNs present?:\n",
            "genre               0\n",
            "artist_name         0\n",
            "track_name          0\n",
            "track_id            0\n",
            "popularity          0\n",
            "acousticness        0\n",
            "danceability        0\n",
            "duration_ms         0\n",
            "energy              0\n",
            "instrumentalness    0\n",
            "key                 0\n",
            "liveness            0\n",
            "loudness            0\n",
            "mode                0\n",
            "speechiness         0\n",
            "tempo               0\n",
            "time_signature      0\n",
            "valence             0\n",
            "dtype: int64\n"
          ],
          "name": "stdout"
        }
      ]
    },
    {
      "cell_type": "code",
      "metadata": {
        "id": "a8nBxUX6prbj",
        "colab_type": "code",
        "colab": {}
      },
      "source": [
        "# Export SpotifyFeatures df to .csv file\n",
        "# SpotifyFeatures.to_csv('SpotifyFeatures_DF_Cleaned.csv')"
      ],
      "execution_count": null,
      "outputs": []
    },
    {
      "cell_type": "markdown",
      "metadata": {
        "id": "PN_2q5R2o2b9",
        "colab_type": "text"
      },
      "source": [
        "# Data Exploration \n",
        "\n",
        "**put fancy graphs here**"
      ]
    },
    {
      "cell_type": "code",
      "metadata": {
        "id": "rz8ysYYLo0Ll",
        "colab_type": "code",
        "colab": {
          "base_uri": "https://localhost:8080/",
          "height": 717
        },
        "outputId": "fd316539-1cd8-4322-dc16-ac403f2c31e1"
      },
      "source": [
        "def top_artists_by_popularity(dataframe, lower_bound, upper_bound):\n",
        "    \n",
        "\n",
        "    reindex_order =  dataframe.groupby(['artist_name']).sum()['popularity'].sort_values(ascending = False)[lower_bound:upper_bound].index[::-1]     \n",
        "    # order of index to make right values in right places\n",
        "        \n",
        "    total_value_of_popularity =  dataframe.groupby(['artist_name']).sum()['popularity'].sort_values(ascending = False)[\n",
        "        lower_bound:upper_bound].reindex(reindex_order)\n",
        "    \n",
        "    total_songs = dataframe['artist_name'].value_counts().round(0).reindex(reindex_order)   \n",
        "    \n",
        "    df = pd.DataFrame({('Artist ') :total_value_of_popularity.index, \n",
        "                        ('Total Artist Popularity '): total_value_of_popularity.values,\n",
        "                        ('Total Song Count '): total_songs.values}) \n",
        "  \n",
        "    fig = px.bar(df, x = ('Total Artist Popularity ') , y = ('Artist '),\n",
        "                    \n",
        "                     hover_data = [('Total Artist Popularity '), ('Total Song Count ')],\n",
        "                                       \n",
        "                     color = ('Total Artist Popularity ') , title= f'Artists Popularity Ranked ({lower_bound +1},{upper_bound})',\n",
        "               \n",
        "                     height = 700  )\n",
        "\n",
        "    return fig.show()\n",
        "\n",
        "top_artists_by_popularity(df, 0, 20)"
      ],
      "execution_count": null,
      "outputs": [
        {
          "output_type": "display_data",
          "data": {
            "text/html": [
              "<html>\n",
              "<head><meta charset=\"utf-8\" /></head>\n",
              "<body>\n",
              "    <div>\n",
              "            <script src=\"https://cdnjs.cloudflare.com/ajax/libs/mathjax/2.7.5/MathJax.js?config=TeX-AMS-MML_SVG\"></script><script type=\"text/javascript\">if (window.MathJax) {MathJax.Hub.Config({SVG: {font: \"STIX-Web\"}});}</script>\n",
              "                <script type=\"text/javascript\">window.PlotlyConfig = {MathJaxConfig: 'local'};</script>\n",
              "        <script src=\"https://cdn.plot.ly/plotly-latest.min.js\"></script>    \n",
              "            <div id=\"58dac5de-1d09-4cc4-b1f0-8f8ae728271f\" class=\"plotly-graph-div\" style=\"height:700px; width:100%;\"></div>\n",
              "            <script type=\"text/javascript\">\n",
              "                \n",
              "                    window.PLOTLYENV=window.PLOTLYENV || {};\n",
              "                    \n",
              "                if (document.getElementById(\"58dac5de-1d09-4cc4-b1f0-8f8ae728271f\")) {\n",
              "                    Plotly.newPlot(\n",
              "                        '58dac5de-1d09-4cc4-b1f0-8f8ae728271f',\n",
              "                        [{\"alignmentgroup\": \"True\", \"customdata\": [[8965, 145], [9495, 778], [9701, 677], [9730, 667], [9774, 259], [9787, 281], [9883, 289], [10692, 172], [11048, 167], [13353, 365], [14520, 380], [14597, 596], [14758, 1095], [15193, 436], [15585, 450], [16508, 632], [17495, 1312], [17714, 773], [17785, 800], [19439, 559]], \"hoverlabel\": {\"namelength\": 0}, \"hovertemplate\": \"Total Artist Popularity =%{marker.color}<br>Artist =%{y}<br>Total Song Count =%{customdata[1]}\", \"legendgroup\": \"\", \"marker\": {\"color\": [8965, 9495, 9701, 9730, 9774, 9787, 9883, 10692, 11048, 13353, 14520, 14597, 14758, 15193, 15585, 16508, 17495, 17714, 17785, 19439], \"coloraxis\": \"coloraxis\"}, \"name\": \"\", \"offsetgroup\": \"\", \"orientation\": \"v\", \"showlegend\": false, \"textposition\": \"auto\", \"type\": \"bar\", \"x\": [8965, 9495, 9701, 9730, 9774, 9787, 9883, 10692, 11048, 13353, 14520, 14597, 14758, 15193, 15585, 16508, 17495, 17714, 17785, 19439], \"xaxis\": \"x\", \"y\": [\"The Beatles\", \"Richard Wagner\", \"Georges Bizet\", \"Randy Newman\", \"Ramin Djawadi\", \"Howard Shore\", \"Hillsong Worship\", \"Eminem\", \"Drake\", \"Max Richter\", \"Bob Marley & The Wailers\", \"Ludwig van Beethoven\", \"Giacomo Puccini\", \"Fr\\u00e9d\\u00e9ric Chopin\", \"John Williams\", \"Johann Sebastian Bach\", \"Giuseppe Verdi\", \"Nobuo Uematsu\", \"Wolfgang Amadeus Mozart\", \"Hans Zimmer\"], \"yaxis\": \"y\"}],\n",
              "                        {\"barmode\": \"relative\", \"coloraxis\": {\"colorbar\": {\"title\": {\"text\": \"Total Artist Popularity \"}}, \"colorscale\": [[0.0, \"#0d0887\"], [0.1111111111111111, \"#46039f\"], [0.2222222222222222, \"#7201a8\"], [0.3333333333333333, \"#9c179e\"], [0.4444444444444444, \"#bd3786\"], [0.5555555555555556, \"#d8576b\"], [0.6666666666666666, \"#ed7953\"], [0.7777777777777778, \"#fb9f3a\"], [0.8888888888888888, \"#fdca26\"], [1.0, \"#f0f921\"]]}, \"height\": 700, \"legend\": {\"tracegroupgap\": 0}, \"template\": {\"data\": {\"bar\": [{\"error_x\": {\"color\": \"#2a3f5f\"}, \"error_y\": {\"color\": \"#2a3f5f\"}, \"marker\": {\"line\": {\"color\": \"#E5ECF6\", \"width\": 0.5}}, \"type\": \"bar\"}], \"barpolar\": [{\"marker\": {\"line\": {\"color\": \"#E5ECF6\", \"width\": 0.5}}, \"type\": \"barpolar\"}], \"carpet\": [{\"aaxis\": {\"endlinecolor\": \"#2a3f5f\", \"gridcolor\": \"white\", \"linecolor\": \"white\", \"minorgridcolor\": \"white\", \"startlinecolor\": \"#2a3f5f\"}, \"baxis\": {\"endlinecolor\": \"#2a3f5f\", \"gridcolor\": \"white\", \"linecolor\": \"white\", \"minorgridcolor\": \"white\", \"startlinecolor\": \"#2a3f5f\"}, \"type\": \"carpet\"}], \"choropleth\": [{\"colorbar\": {\"outlinewidth\": 0, \"ticks\": \"\"}, \"type\": \"choropleth\"}], \"contour\": [{\"colorbar\": {\"outlinewidth\": 0, \"ticks\": \"\"}, \"colorscale\": [[0.0, \"#0d0887\"], [0.1111111111111111, \"#46039f\"], [0.2222222222222222, \"#7201a8\"], [0.3333333333333333, \"#9c179e\"], [0.4444444444444444, \"#bd3786\"], [0.5555555555555556, \"#d8576b\"], [0.6666666666666666, \"#ed7953\"], [0.7777777777777778, \"#fb9f3a\"], [0.8888888888888888, \"#fdca26\"], [1.0, \"#f0f921\"]], \"type\": \"contour\"}], \"contourcarpet\": [{\"colorbar\": {\"outlinewidth\": 0, \"ticks\": \"\"}, \"type\": \"contourcarpet\"}], \"heatmap\": [{\"colorbar\": {\"outlinewidth\": 0, \"ticks\": \"\"}, \"colorscale\": [[0.0, \"#0d0887\"], [0.1111111111111111, \"#46039f\"], [0.2222222222222222, \"#7201a8\"], [0.3333333333333333, \"#9c179e\"], [0.4444444444444444, \"#bd3786\"], [0.5555555555555556, \"#d8576b\"], [0.6666666666666666, \"#ed7953\"], [0.7777777777777778, \"#fb9f3a\"], [0.8888888888888888, \"#fdca26\"], [1.0, \"#f0f921\"]], \"type\": \"heatmap\"}], \"heatmapgl\": [{\"colorbar\": {\"outlinewidth\": 0, \"ticks\": \"\"}, \"colorscale\": [[0.0, \"#0d0887\"], [0.1111111111111111, \"#46039f\"], [0.2222222222222222, \"#7201a8\"], [0.3333333333333333, \"#9c179e\"], [0.4444444444444444, \"#bd3786\"], [0.5555555555555556, \"#d8576b\"], [0.6666666666666666, \"#ed7953\"], [0.7777777777777778, \"#fb9f3a\"], [0.8888888888888888, \"#fdca26\"], [1.0, \"#f0f921\"]], \"type\": \"heatmapgl\"}], \"histogram\": [{\"marker\": {\"colorbar\": {\"outlinewidth\": 0, \"ticks\": \"\"}}, \"type\": \"histogram\"}], \"histogram2d\": [{\"colorbar\": {\"outlinewidth\": 0, \"ticks\": \"\"}, \"colorscale\": [[0.0, \"#0d0887\"], [0.1111111111111111, \"#46039f\"], [0.2222222222222222, \"#7201a8\"], [0.3333333333333333, \"#9c179e\"], [0.4444444444444444, \"#bd3786\"], [0.5555555555555556, \"#d8576b\"], [0.6666666666666666, \"#ed7953\"], [0.7777777777777778, \"#fb9f3a\"], [0.8888888888888888, \"#fdca26\"], [1.0, \"#f0f921\"]], \"type\": \"histogram2d\"}], \"histogram2dcontour\": [{\"colorbar\": {\"outlinewidth\": 0, \"ticks\": \"\"}, \"colorscale\": [[0.0, \"#0d0887\"], [0.1111111111111111, \"#46039f\"], [0.2222222222222222, \"#7201a8\"], [0.3333333333333333, \"#9c179e\"], [0.4444444444444444, \"#bd3786\"], [0.5555555555555556, \"#d8576b\"], [0.6666666666666666, \"#ed7953\"], [0.7777777777777778, \"#fb9f3a\"], [0.8888888888888888, \"#fdca26\"], [1.0, \"#f0f921\"]], \"type\": \"histogram2dcontour\"}], \"mesh3d\": [{\"colorbar\": {\"outlinewidth\": 0, \"ticks\": \"\"}, \"type\": \"mesh3d\"}], \"parcoords\": [{\"line\": {\"colorbar\": {\"outlinewidth\": 0, \"ticks\": \"\"}}, \"type\": \"parcoords\"}], \"pie\": [{\"automargin\": true, \"type\": \"pie\"}], \"scatter\": [{\"marker\": {\"colorbar\": {\"outlinewidth\": 0, \"ticks\": \"\"}}, \"type\": \"scatter\"}], \"scatter3d\": [{\"line\": {\"colorbar\": {\"outlinewidth\": 0, \"ticks\": \"\"}}, \"marker\": {\"colorbar\": {\"outlinewidth\": 0, \"ticks\": \"\"}}, \"type\": \"scatter3d\"}], \"scattercarpet\": [{\"marker\": {\"colorbar\": {\"outlinewidth\": 0, \"ticks\": \"\"}}, \"type\": \"scattercarpet\"}], \"scattergeo\": [{\"marker\": {\"colorbar\": {\"outlinewidth\": 0, \"ticks\": \"\"}}, \"type\": \"scattergeo\"}], \"scattergl\": [{\"marker\": {\"colorbar\": {\"outlinewidth\": 0, \"ticks\": \"\"}}, \"type\": \"scattergl\"}], \"scattermapbox\": [{\"marker\": {\"colorbar\": {\"outlinewidth\": 0, \"ticks\": \"\"}}, \"type\": \"scattermapbox\"}], \"scatterpolar\": [{\"marker\": {\"colorbar\": {\"outlinewidth\": 0, \"ticks\": \"\"}}, \"type\": \"scatterpolar\"}], \"scatterpolargl\": [{\"marker\": {\"colorbar\": {\"outlinewidth\": 0, \"ticks\": \"\"}}, \"type\": \"scatterpolargl\"}], \"scatterternary\": [{\"marker\": {\"colorbar\": {\"outlinewidth\": 0, \"ticks\": \"\"}}, \"type\": \"scatterternary\"}], \"surface\": [{\"colorbar\": {\"outlinewidth\": 0, \"ticks\": \"\"}, \"colorscale\": [[0.0, \"#0d0887\"], [0.1111111111111111, \"#46039f\"], [0.2222222222222222, \"#7201a8\"], [0.3333333333333333, \"#9c179e\"], [0.4444444444444444, \"#bd3786\"], [0.5555555555555556, \"#d8576b\"], [0.6666666666666666, \"#ed7953\"], [0.7777777777777778, \"#fb9f3a\"], [0.8888888888888888, \"#fdca26\"], [1.0, \"#f0f921\"]], \"type\": \"surface\"}], \"table\": [{\"cells\": {\"fill\": {\"color\": \"#EBF0F8\"}, \"line\": {\"color\": \"white\"}}, \"header\": {\"fill\": {\"color\": \"#C8D4E3\"}, \"line\": {\"color\": \"white\"}}, \"type\": \"table\"}]}, \"layout\": {\"annotationdefaults\": {\"arrowcolor\": \"#2a3f5f\", \"arrowhead\": 0, \"arrowwidth\": 1}, \"coloraxis\": {\"colorbar\": {\"outlinewidth\": 0, \"ticks\": \"\"}}, \"colorscale\": {\"diverging\": [[0, \"#8e0152\"], [0.1, \"#c51b7d\"], [0.2, \"#de77ae\"], [0.3, \"#f1b6da\"], [0.4, \"#fde0ef\"], [0.5, \"#f7f7f7\"], [0.6, \"#e6f5d0\"], [0.7, \"#b8e186\"], [0.8, \"#7fbc41\"], [0.9, \"#4d9221\"], [1, \"#276419\"]], \"sequential\": [[0.0, \"#0d0887\"], [0.1111111111111111, \"#46039f\"], [0.2222222222222222, \"#7201a8\"], [0.3333333333333333, \"#9c179e\"], [0.4444444444444444, \"#bd3786\"], [0.5555555555555556, \"#d8576b\"], [0.6666666666666666, \"#ed7953\"], [0.7777777777777778, \"#fb9f3a\"], [0.8888888888888888, \"#fdca26\"], [1.0, \"#f0f921\"]], \"sequentialminus\": [[0.0, \"#0d0887\"], [0.1111111111111111, \"#46039f\"], [0.2222222222222222, \"#7201a8\"], [0.3333333333333333, \"#9c179e\"], [0.4444444444444444, \"#bd3786\"], [0.5555555555555556, \"#d8576b\"], [0.6666666666666666, \"#ed7953\"], [0.7777777777777778, \"#fb9f3a\"], [0.8888888888888888, \"#fdca26\"], [1.0, \"#f0f921\"]]}, \"colorway\": [\"#636efa\", \"#EF553B\", \"#00cc96\", \"#ab63fa\", \"#FFA15A\", \"#19d3f3\", \"#FF6692\", \"#B6E880\", \"#FF97FF\", \"#FECB52\"], \"font\": {\"color\": \"#2a3f5f\"}, \"geo\": {\"bgcolor\": \"white\", \"lakecolor\": \"white\", \"landcolor\": \"#E5ECF6\", \"showlakes\": true, \"showland\": true, \"subunitcolor\": \"white\"}, \"hoverlabel\": {\"align\": \"left\"}, \"hovermode\": \"closest\", \"mapbox\": {\"style\": \"light\"}, \"paper_bgcolor\": \"white\", \"plot_bgcolor\": \"#E5ECF6\", \"polar\": {\"angularaxis\": {\"gridcolor\": \"white\", \"linecolor\": \"white\", \"ticks\": \"\"}, \"bgcolor\": \"#E5ECF6\", \"radialaxis\": {\"gridcolor\": \"white\", \"linecolor\": \"white\", \"ticks\": \"\"}}, \"scene\": {\"xaxis\": {\"backgroundcolor\": \"#E5ECF6\", \"gridcolor\": \"white\", \"gridwidth\": 2, \"linecolor\": \"white\", \"showbackground\": true, \"ticks\": \"\", \"zerolinecolor\": \"white\"}, \"yaxis\": {\"backgroundcolor\": \"#E5ECF6\", \"gridcolor\": \"white\", \"gridwidth\": 2, \"linecolor\": \"white\", \"showbackground\": true, \"ticks\": \"\", \"zerolinecolor\": \"white\"}, \"zaxis\": {\"backgroundcolor\": \"#E5ECF6\", \"gridcolor\": \"white\", \"gridwidth\": 2, \"linecolor\": \"white\", \"showbackground\": true, \"ticks\": \"\", \"zerolinecolor\": \"white\"}}, \"shapedefaults\": {\"line\": {\"color\": \"#2a3f5f\"}}, \"ternary\": {\"aaxis\": {\"gridcolor\": \"white\", \"linecolor\": \"white\", \"ticks\": \"\"}, \"baxis\": {\"gridcolor\": \"white\", \"linecolor\": \"white\", \"ticks\": \"\"}, \"bgcolor\": \"#E5ECF6\", \"caxis\": {\"gridcolor\": \"white\", \"linecolor\": \"white\", \"ticks\": \"\"}}, \"title\": {\"x\": 0.05}, \"xaxis\": {\"automargin\": true, \"gridcolor\": \"white\", \"linecolor\": \"white\", \"ticks\": \"\", \"title\": {\"standoff\": 15}, \"zerolinecolor\": \"white\", \"zerolinewidth\": 2}, \"yaxis\": {\"automargin\": true, \"gridcolor\": \"white\", \"linecolor\": \"white\", \"ticks\": \"\", \"title\": {\"standoff\": 15}, \"zerolinecolor\": \"white\", \"zerolinewidth\": 2}}}, \"title\": {\"text\": \"Artists Popularity Ranked (1,20)\"}, \"xaxis\": {\"anchor\": \"y\", \"domain\": [0.0, 1.0], \"title\": {\"text\": \"Total Artist Popularity \"}}, \"yaxis\": {\"anchor\": \"x\", \"domain\": [0.0, 1.0], \"title\": {\"text\": \"Artist \"}}},\n",
              "                        {\"responsive\": true}\n",
              "                    ).then(function(){\n",
              "                            \n",
              "var gd = document.getElementById('58dac5de-1d09-4cc4-b1f0-8f8ae728271f');\n",
              "var x = new MutationObserver(function (mutations, observer) {{\n",
              "        var display = window.getComputedStyle(gd).display;\n",
              "        if (!display || display === 'none') {{\n",
              "            console.log([gd, 'removed!']);\n",
              "            Plotly.purge(gd);\n",
              "            observer.disconnect();\n",
              "        }}\n",
              "}});\n",
              "\n",
              "// Listen for the removal of the full notebook cells\n",
              "var notebookContainer = gd.closest('#notebook-container');\n",
              "if (notebookContainer) {{\n",
              "    x.observe(notebookContainer, {childList: true});\n",
              "}}\n",
              "\n",
              "// Listen for the clearing of the current output cell\n",
              "var outputEl = gd.closest('.output');\n",
              "if (outputEl) {{\n",
              "    x.observe(outputEl, {childList: true});\n",
              "}}\n",
              "\n",
              "                        })\n",
              "                };\n",
              "                \n",
              "            </script>\n",
              "        </div>\n",
              "</body>\n",
              "</html>"
            ]
          },
          "metadata": {
            "tags": []
          }
        }
      ]
    },
    {
      "cell_type": "code",
      "metadata": {
        "id": "oFlCgal9ylWC",
        "colab_type": "code",
        "colab": {
          "base_uri": "https://localhost:8080/",
          "height": 391
        },
        "outputId": "813d35fc-5d8f-43a2-ec9e-8fd1e06bd199"
      },
      "source": [
        "#top artist by popularity\n",
        "df.groupby(\"artist_name\")[\"popularity\"].sum().sort_values(ascending=False).head(20)"
      ],
      "execution_count": null,
      "outputs": [
        {
          "output_type": "execute_result",
          "data": {
            "text/plain": [
              "artist_name\n",
              "Hans Zimmer                 19439\n",
              "Wolfgang Amadeus Mozart     17785\n",
              "Nobuo Uematsu               17714\n",
              "Giuseppe Verdi              17495\n",
              "Johann Sebastian Bach       16508\n",
              "John Williams               15585\n",
              "Frédéric Chopin             15193\n",
              "Giacomo Puccini             14758\n",
              "Ludwig van Beethoven        14597\n",
              "Bob Marley & The Wailers    14520\n",
              "Max Richter                 13353\n",
              "Drake                       11048\n",
              "Eminem                      10692\n",
              "Hillsong Worship             9883\n",
              "Howard Shore                 9787\n",
              "Ramin Djawadi                9774\n",
              "Randy Newman                 9730\n",
              "Georges Bizet                9701\n",
              "Richard Wagner               9495\n",
              "The Beatles                  8965\n",
              "Name: popularity, dtype: int64"
            ]
          },
          "metadata": {
            "tags": []
          },
          "execution_count": 6
        }
      ]
    },
    {
      "cell_type": "code",
      "metadata": {
        "id": "w07nCCrLo1oe",
        "colab_type": "code",
        "colab": {
          "base_uri": "https://localhost:8080/",
          "height": 717
        },
        "outputId": "69ad11b8-642b-4165-968e-2c1e50cbaa77"
      },
      "source": [
        "def top_n_artists_by_song_count(dataframe, lower_bound, upper_bound):\n",
        "    \n",
        "    reindex_order = dataframe['artist_name'].value_counts()[lower_bound:upper_bound].index[::-1]     \n",
        "    # order of index to make right values in right places\n",
        "        \n",
        "    total_value_of_songs = dataframe['artist_name'].value_counts()[lower_bound:upper_bound].reindex(reindex_order)\n",
        "    \n",
        "    total_value_of_popularity =  dataframe.groupby(['artist_name']).sum()['popularity'].reindex(reindex_order)   # so we can see their popularity too\n",
        "    \n",
        "    df = pd.DataFrame({('Artist ') :total_value_of_songs.index, \n",
        "                        ('Total Song Count '): total_value_of_songs.values,\n",
        "                        ('Total Artist Popularity '): total_value_of_popularity.values}) \n",
        "  \n",
        "    fig = px.bar(df, x = ('Total Song Count ') , y = ('Artist '),\n",
        "                    \n",
        "                     hover_data = [('Total Song Count '), ('Total Artist Popularity ')],\n",
        "                                       \n",
        "                     color = ('Total Song Count ') , title= f'Artists Song Count Ranked ({lower_bound+1},{upper_bound}) ',\n",
        "               \n",
        "                     height = 700  )\n",
        "\n",
        "    return fig.show()\n",
        "\n",
        "top_n_artists_by_song_count(df,0,20)"
      ],
      "execution_count": null,
      "outputs": [
        {
          "output_type": "display_data",
          "data": {
            "text/html": [
              "<html>\n",
              "<head><meta charset=\"utf-8\" /></head>\n",
              "<body>\n",
              "    <div>\n",
              "            <script src=\"https://cdnjs.cloudflare.com/ajax/libs/mathjax/2.7.5/MathJax.js?config=TeX-AMS-MML_SVG\"></script><script type=\"text/javascript\">if (window.MathJax) {MathJax.Hub.Config({SVG: {font: \"STIX-Web\"}});}</script>\n",
              "                <script type=\"text/javascript\">window.PlotlyConfig = {MathJaxConfig: 'local'};</script>\n",
              "        <script src=\"https://cdn.plot.ly/plotly-latest.min.js\"></script>    \n",
              "            <div id=\"43c0a24e-1e27-4328-84c3-6f93832d2a7e\" class=\"plotly-graph-div\" style=\"height:700px; width:100%;\"></div>\n",
              "            <script type=\"text/javascript\">\n",
              "                \n",
              "                    window.PLOTLYENV=window.PLOTLYENV || {};\n",
              "                    \n",
              "                if (document.getElementById(\"43c0a24e-1e27-4328-84c3-6f93832d2a7e\")) {\n",
              "                    Plotly.newPlot(\n",
              "                        '43c0a24e-1e27-4328-84c3-6f93832d2a7e',\n",
              "                        [{\"alignmentgroup\": \"True\", \"customdata\": [[377, 3772], [378, 996], [380, 14520], [436, 15193], [450, 15585], [456, 5600], [474, 2205], [480, 266], [559, 19439], [596, 14597], [632, 16508], [667, 9730], [677, 9701], [684, 3151], [773, 17714], [778, 9495], [800, 17785], [971, 736], [1095, 14758], [1312, 17495]], \"hoverlabel\": {\"namelength\": 0}, \"hovertemplate\": \"Total Song Count =%{marker.color}<br>Artist =%{y}<br>Total Artist Popularity =%{customdata[1]}\", \"legendgroup\": \"\", \"marker\": {\"color\": [377, 378, 380, 436, 450, 456, 474, 480, 559, 596, 632, 667, 677, 684, 773, 778, 800, 971, 1095, 1312], \"coloraxis\": \"coloraxis\"}, \"name\": \"\", \"offsetgroup\": \"\", \"orientation\": \"v\", \"showlegend\": false, \"textposition\": \"auto\", \"type\": \"bar\", \"x\": [377, 378, 380, 436, 450, 456, 474, 480, 559, 596, 632, 667, 677, 684, 773, 778, 800, 971, 1095, 1312], \"xaxis\": \"x\", \"y\": [\"Gaetano Donizetti\", \"Doroth\\u00e9e\", \"Bob Marley & The Wailers\", \"Fr\\u00e9d\\u00e9ric Chopin\", \"John Williams\", \"Gioachino Rossini\", \"Henri Salvador\", \"Chorus\", \"Hans Zimmer\", \"Ludwig van Beethoven\", \"Johann Sebastian Bach\", \"Randy Newman\", \"Georges Bizet\", \"Juice Music\", \"Nobuo Uematsu\", \"Richard Wagner\", \"Wolfgang Amadeus Mozart\", \"Kimbo Children's Music\", \"Giacomo Puccini\", \"Giuseppe Verdi\"], \"yaxis\": \"y\"}],\n",
              "                        {\"barmode\": \"relative\", \"coloraxis\": {\"colorbar\": {\"title\": {\"text\": \"Total Song Count \"}}, \"colorscale\": [[0.0, \"#0d0887\"], [0.1111111111111111, \"#46039f\"], [0.2222222222222222, \"#7201a8\"], [0.3333333333333333, \"#9c179e\"], [0.4444444444444444, \"#bd3786\"], [0.5555555555555556, \"#d8576b\"], [0.6666666666666666, \"#ed7953\"], [0.7777777777777778, \"#fb9f3a\"], [0.8888888888888888, \"#fdca26\"], [1.0, \"#f0f921\"]]}, \"height\": 700, \"legend\": {\"tracegroupgap\": 0}, \"template\": {\"data\": {\"bar\": [{\"error_x\": {\"color\": \"#2a3f5f\"}, \"error_y\": {\"color\": \"#2a3f5f\"}, \"marker\": {\"line\": {\"color\": \"#E5ECF6\", \"width\": 0.5}}, \"type\": \"bar\"}], \"barpolar\": [{\"marker\": {\"line\": {\"color\": \"#E5ECF6\", \"width\": 0.5}}, \"type\": \"barpolar\"}], \"carpet\": [{\"aaxis\": {\"endlinecolor\": \"#2a3f5f\", \"gridcolor\": \"white\", \"linecolor\": \"white\", \"minorgridcolor\": \"white\", \"startlinecolor\": \"#2a3f5f\"}, \"baxis\": {\"endlinecolor\": \"#2a3f5f\", \"gridcolor\": \"white\", \"linecolor\": \"white\", \"minorgridcolor\": \"white\", \"startlinecolor\": \"#2a3f5f\"}, \"type\": \"carpet\"}], \"choropleth\": [{\"colorbar\": {\"outlinewidth\": 0, \"ticks\": \"\"}, \"type\": \"choropleth\"}], \"contour\": [{\"colorbar\": {\"outlinewidth\": 0, \"ticks\": \"\"}, \"colorscale\": [[0.0, \"#0d0887\"], [0.1111111111111111, \"#46039f\"], [0.2222222222222222, \"#7201a8\"], [0.3333333333333333, \"#9c179e\"], [0.4444444444444444, \"#bd3786\"], [0.5555555555555556, \"#d8576b\"], [0.6666666666666666, \"#ed7953\"], [0.7777777777777778, \"#fb9f3a\"], [0.8888888888888888, \"#fdca26\"], [1.0, \"#f0f921\"]], \"type\": \"contour\"}], \"contourcarpet\": [{\"colorbar\": {\"outlinewidth\": 0, \"ticks\": \"\"}, \"type\": \"contourcarpet\"}], \"heatmap\": [{\"colorbar\": {\"outlinewidth\": 0, \"ticks\": \"\"}, \"colorscale\": [[0.0, \"#0d0887\"], [0.1111111111111111, \"#46039f\"], [0.2222222222222222, \"#7201a8\"], [0.3333333333333333, \"#9c179e\"], [0.4444444444444444, \"#bd3786\"], [0.5555555555555556, \"#d8576b\"], [0.6666666666666666, \"#ed7953\"], [0.7777777777777778, \"#fb9f3a\"], [0.8888888888888888, \"#fdca26\"], [1.0, \"#f0f921\"]], \"type\": \"heatmap\"}], \"heatmapgl\": [{\"colorbar\": {\"outlinewidth\": 0, \"ticks\": \"\"}, \"colorscale\": [[0.0, \"#0d0887\"], [0.1111111111111111, \"#46039f\"], [0.2222222222222222, \"#7201a8\"], [0.3333333333333333, \"#9c179e\"], [0.4444444444444444, \"#bd3786\"], [0.5555555555555556, \"#d8576b\"], [0.6666666666666666, \"#ed7953\"], [0.7777777777777778, \"#fb9f3a\"], [0.8888888888888888, \"#fdca26\"], [1.0, \"#f0f921\"]], \"type\": \"heatmapgl\"}], \"histogram\": [{\"marker\": {\"colorbar\": {\"outlinewidth\": 0, \"ticks\": \"\"}}, \"type\": \"histogram\"}], \"histogram2d\": [{\"colorbar\": {\"outlinewidth\": 0, \"ticks\": \"\"}, \"colorscale\": [[0.0, \"#0d0887\"], [0.1111111111111111, \"#46039f\"], [0.2222222222222222, \"#7201a8\"], [0.3333333333333333, \"#9c179e\"], [0.4444444444444444, \"#bd3786\"], [0.5555555555555556, \"#d8576b\"], [0.6666666666666666, \"#ed7953\"], [0.7777777777777778, \"#fb9f3a\"], [0.8888888888888888, \"#fdca26\"], [1.0, \"#f0f921\"]], \"type\": \"histogram2d\"}], \"histogram2dcontour\": [{\"colorbar\": {\"outlinewidth\": 0, \"ticks\": \"\"}, \"colorscale\": [[0.0, \"#0d0887\"], [0.1111111111111111, \"#46039f\"], [0.2222222222222222, \"#7201a8\"], [0.3333333333333333, \"#9c179e\"], [0.4444444444444444, \"#bd3786\"], [0.5555555555555556, \"#d8576b\"], [0.6666666666666666, \"#ed7953\"], [0.7777777777777778, \"#fb9f3a\"], [0.8888888888888888, \"#fdca26\"], [1.0, \"#f0f921\"]], \"type\": \"histogram2dcontour\"}], \"mesh3d\": [{\"colorbar\": {\"outlinewidth\": 0, \"ticks\": \"\"}, \"type\": \"mesh3d\"}], \"parcoords\": [{\"line\": {\"colorbar\": {\"outlinewidth\": 0, \"ticks\": \"\"}}, \"type\": \"parcoords\"}], \"pie\": [{\"automargin\": true, \"type\": \"pie\"}], \"scatter\": [{\"marker\": {\"colorbar\": {\"outlinewidth\": 0, \"ticks\": \"\"}}, \"type\": \"scatter\"}], \"scatter3d\": [{\"line\": {\"colorbar\": {\"outlinewidth\": 0, \"ticks\": \"\"}}, \"marker\": {\"colorbar\": {\"outlinewidth\": 0, \"ticks\": \"\"}}, \"type\": \"scatter3d\"}], \"scattercarpet\": [{\"marker\": {\"colorbar\": {\"outlinewidth\": 0, \"ticks\": \"\"}}, \"type\": \"scattercarpet\"}], \"scattergeo\": [{\"marker\": {\"colorbar\": {\"outlinewidth\": 0, \"ticks\": \"\"}}, \"type\": \"scattergeo\"}], \"scattergl\": [{\"marker\": {\"colorbar\": {\"outlinewidth\": 0, \"ticks\": \"\"}}, \"type\": \"scattergl\"}], \"scattermapbox\": [{\"marker\": {\"colorbar\": {\"outlinewidth\": 0, \"ticks\": \"\"}}, \"type\": \"scattermapbox\"}], \"scatterpolar\": [{\"marker\": {\"colorbar\": {\"outlinewidth\": 0, \"ticks\": \"\"}}, \"type\": \"scatterpolar\"}], \"scatterpolargl\": [{\"marker\": {\"colorbar\": {\"outlinewidth\": 0, \"ticks\": \"\"}}, \"type\": \"scatterpolargl\"}], \"scatterternary\": [{\"marker\": {\"colorbar\": {\"outlinewidth\": 0, \"ticks\": \"\"}}, \"type\": \"scatterternary\"}], \"surface\": [{\"colorbar\": {\"outlinewidth\": 0, \"ticks\": \"\"}, \"colorscale\": [[0.0, \"#0d0887\"], [0.1111111111111111, \"#46039f\"], [0.2222222222222222, \"#7201a8\"], [0.3333333333333333, \"#9c179e\"], [0.4444444444444444, \"#bd3786\"], [0.5555555555555556, \"#d8576b\"], [0.6666666666666666, \"#ed7953\"], [0.7777777777777778, \"#fb9f3a\"], [0.8888888888888888, \"#fdca26\"], [1.0, \"#f0f921\"]], \"type\": \"surface\"}], \"table\": [{\"cells\": {\"fill\": {\"color\": \"#EBF0F8\"}, \"line\": {\"color\": \"white\"}}, \"header\": {\"fill\": {\"color\": \"#C8D4E3\"}, \"line\": {\"color\": \"white\"}}, \"type\": \"table\"}]}, \"layout\": {\"annotationdefaults\": {\"arrowcolor\": \"#2a3f5f\", \"arrowhead\": 0, \"arrowwidth\": 1}, \"coloraxis\": {\"colorbar\": {\"outlinewidth\": 0, \"ticks\": \"\"}}, \"colorscale\": {\"diverging\": [[0, \"#8e0152\"], [0.1, \"#c51b7d\"], [0.2, \"#de77ae\"], [0.3, \"#f1b6da\"], [0.4, \"#fde0ef\"], [0.5, \"#f7f7f7\"], [0.6, \"#e6f5d0\"], [0.7, \"#b8e186\"], [0.8, \"#7fbc41\"], [0.9, \"#4d9221\"], [1, \"#276419\"]], \"sequential\": [[0.0, \"#0d0887\"], [0.1111111111111111, \"#46039f\"], [0.2222222222222222, \"#7201a8\"], [0.3333333333333333, \"#9c179e\"], [0.4444444444444444, \"#bd3786\"], [0.5555555555555556, \"#d8576b\"], [0.6666666666666666, \"#ed7953\"], [0.7777777777777778, \"#fb9f3a\"], [0.8888888888888888, \"#fdca26\"], [1.0, \"#f0f921\"]], \"sequentialminus\": [[0.0, \"#0d0887\"], [0.1111111111111111, \"#46039f\"], [0.2222222222222222, \"#7201a8\"], [0.3333333333333333, \"#9c179e\"], [0.4444444444444444, \"#bd3786\"], [0.5555555555555556, \"#d8576b\"], [0.6666666666666666, \"#ed7953\"], [0.7777777777777778, \"#fb9f3a\"], [0.8888888888888888, \"#fdca26\"], [1.0, \"#f0f921\"]]}, \"colorway\": [\"#636efa\", \"#EF553B\", \"#00cc96\", \"#ab63fa\", \"#FFA15A\", \"#19d3f3\", \"#FF6692\", \"#B6E880\", \"#FF97FF\", \"#FECB52\"], \"font\": {\"color\": \"#2a3f5f\"}, \"geo\": {\"bgcolor\": \"white\", \"lakecolor\": \"white\", \"landcolor\": \"#E5ECF6\", \"showlakes\": true, \"showland\": true, \"subunitcolor\": \"white\"}, \"hoverlabel\": {\"align\": \"left\"}, \"hovermode\": \"closest\", \"mapbox\": {\"style\": \"light\"}, \"paper_bgcolor\": \"white\", \"plot_bgcolor\": \"#E5ECF6\", \"polar\": {\"angularaxis\": {\"gridcolor\": \"white\", \"linecolor\": \"white\", \"ticks\": \"\"}, \"bgcolor\": \"#E5ECF6\", \"radialaxis\": {\"gridcolor\": \"white\", \"linecolor\": \"white\", \"ticks\": \"\"}}, \"scene\": {\"xaxis\": {\"backgroundcolor\": \"#E5ECF6\", \"gridcolor\": \"white\", \"gridwidth\": 2, \"linecolor\": \"white\", \"showbackground\": true, \"ticks\": \"\", \"zerolinecolor\": \"white\"}, \"yaxis\": {\"backgroundcolor\": \"#E5ECF6\", \"gridcolor\": \"white\", \"gridwidth\": 2, \"linecolor\": \"white\", \"showbackground\": true, \"ticks\": \"\", \"zerolinecolor\": \"white\"}, \"zaxis\": {\"backgroundcolor\": \"#E5ECF6\", \"gridcolor\": \"white\", \"gridwidth\": 2, \"linecolor\": \"white\", \"showbackground\": true, \"ticks\": \"\", \"zerolinecolor\": \"white\"}}, \"shapedefaults\": {\"line\": {\"color\": \"#2a3f5f\"}}, \"ternary\": {\"aaxis\": {\"gridcolor\": \"white\", \"linecolor\": \"white\", \"ticks\": \"\"}, \"baxis\": {\"gridcolor\": \"white\", \"linecolor\": \"white\", \"ticks\": \"\"}, \"bgcolor\": \"#E5ECF6\", \"caxis\": {\"gridcolor\": \"white\", \"linecolor\": \"white\", \"ticks\": \"\"}}, \"title\": {\"x\": 0.05}, \"xaxis\": {\"automargin\": true, \"gridcolor\": \"white\", \"linecolor\": \"white\", \"ticks\": \"\", \"title\": {\"standoff\": 15}, \"zerolinecolor\": \"white\", \"zerolinewidth\": 2}, \"yaxis\": {\"automargin\": true, \"gridcolor\": \"white\", \"linecolor\": \"white\", \"ticks\": \"\", \"title\": {\"standoff\": 15}, \"zerolinecolor\": \"white\", \"zerolinewidth\": 2}}}, \"title\": {\"text\": \"Artists Song Count Ranked (1,20) \"}, \"xaxis\": {\"anchor\": \"y\", \"domain\": [0.0, 1.0], \"title\": {\"text\": \"Total Song Count \"}}, \"yaxis\": {\"anchor\": \"x\", \"domain\": [0.0, 1.0], \"title\": {\"text\": \"Artist \"}}},\n",
              "                        {\"responsive\": true}\n",
              "                    ).then(function(){\n",
              "                            \n",
              "var gd = document.getElementById('43c0a24e-1e27-4328-84c3-6f93832d2a7e');\n",
              "var x = new MutationObserver(function (mutations, observer) {{\n",
              "        var display = window.getComputedStyle(gd).display;\n",
              "        if (!display || display === 'none') {{\n",
              "            console.log([gd, 'removed!']);\n",
              "            Plotly.purge(gd);\n",
              "            observer.disconnect();\n",
              "        }}\n",
              "}});\n",
              "\n",
              "// Listen for the removal of the full notebook cells\n",
              "var notebookContainer = gd.closest('#notebook-container');\n",
              "if (notebookContainer) {{\n",
              "    x.observe(notebookContainer, {childList: true});\n",
              "}}\n",
              "\n",
              "// Listen for the clearing of the current output cell\n",
              "var outputEl = gd.closest('.output');\n",
              "if (outputEl) {{\n",
              "    x.observe(outputEl, {childList: true});\n",
              "}}\n",
              "\n",
              "                        })\n",
              "                };\n",
              "                \n",
              "            </script>\n",
              "        </div>\n",
              "</body>\n",
              "</html>"
            ]
          },
          "metadata": {
            "tags": []
          }
        }
      ]
    },
    {
      "cell_type": "code",
      "metadata": {
        "id": "pSRQfqWQo18Y",
        "colab_type": "code",
        "colab": {
          "base_uri": "https://localhost:8080/",
          "height": 154
        },
        "outputId": "569ed3dd-8dfe-4c72-c58c-38aaa7a97b6c"
      },
      "source": [
        "def rank_artist_similarity(data, artist, genre_parameter):\n",
        "\n",
        "    artist_data = data[data.artist_name == artist]\n",
        "    artist_genres = artist_data.genre#set(artist_data.genre)\n",
        "    similarity_data = data.drop(artist_data.index)\n",
        "    similarity_data.genres = similarity_data.genre.apply(lambda genres: list(set(genres).intersection(artist_genres)))\n",
        "    similarity_lengths = similarity_data.genres.str.len()\n",
        "    similarity_data = similarity_data.reindex(similarity_lengths[similarity_lengths >= genre_parameter].sort_values(ascending=False).index)\n",
        "    similarity_data.rename(columns={'artists': f'Similar Artists to {artist}', 'genres': 'Similar Genres', 'popularity': 'Artist Popularity'}, inplace=True)\n",
        "    \n",
        "    return similarity_data\n",
        "\n",
        "rank_artist_similarity(df, 'Eminem', 3)\n",
        "\n",
        "# FIX ISSUE!!!!!!!!!!!!!!!!!!!!!!!!!!!!!!!!!!!!!!!"
      ],
      "execution_count": null,
      "outputs": [
        {
          "output_type": "stream",
          "text": [
            "/usr/local/lib/python3.6/dist-packages/ipykernel_launcher.py:6: UserWarning:\n",
            "\n",
            "Pandas doesn't allow columns to be created via a new attribute name - see https://pandas.pydata.org/pandas-docs/stable/indexing.html#attribute-access\n",
            "\n"
          ],
          "name": "stderr"
        },
        {
          "output_type": "execute_result",
          "data": {
            "text/html": [
              "<div>\n",
              "<style scoped>\n",
              "    .dataframe tbody tr th:only-of-type {\n",
              "        vertical-align: middle;\n",
              "    }\n",
              "\n",
              "    .dataframe tbody tr th {\n",
              "        vertical-align: top;\n",
              "    }\n",
              "\n",
              "    .dataframe thead th {\n",
              "        text-align: right;\n",
              "    }\n",
              "</style>\n",
              "<table border=\"1\" class=\"dataframe\">\n",
              "  <thead>\n",
              "    <tr style=\"text-align: right;\">\n",
              "      <th></th>\n",
              "      <th>genre</th>\n",
              "      <th>artist_name</th>\n",
              "      <th>track_name</th>\n",
              "      <th>track_id</th>\n",
              "      <th>Artist Popularity</th>\n",
              "      <th>acousticness</th>\n",
              "      <th>danceability</th>\n",
              "      <th>duration_ms</th>\n",
              "      <th>energy</th>\n",
              "      <th>instrumentalness</th>\n",
              "      <th>key</th>\n",
              "      <th>liveness</th>\n",
              "      <th>loudness</th>\n",
              "      <th>mode</th>\n",
              "      <th>speechiness</th>\n",
              "      <th>tempo</th>\n",
              "      <th>time_signature</th>\n",
              "      <th>valence</th>\n",
              "    </tr>\n",
              "  </thead>\n",
              "  <tbody>\n",
              "  </tbody>\n",
              "</table>\n",
              "</div>"
            ],
            "text/plain": [
              "Empty DataFrame\n",
              "Columns: [genre, artist_name, track_name, track_id, Artist Popularity, acousticness, danceability, duration_ms, energy, instrumentalness, key, liveness, loudness, mode, speechiness, tempo, time_signature, valence]\n",
              "Index: []"
            ]
          },
          "metadata": {
            "tags": []
          },
          "execution_count": 8
        }
      ]
    },
    {
      "cell_type": "markdown",
      "metadata": {
        "id": "p9QVv6cS35x8",
        "colab_type": "text"
      },
      "source": [
        "#Encode Categorical Columns (new df)"
      ]
    },
    {
      "cell_type": "code",
      "metadata": {
        "id": "YdWo2qMfo2Al",
        "colab_type": "code",
        "colab": {
          "base_uri": "https://localhost:8080/",
          "height": 439
        },
        "outputId": "7b0b0d5b-e379-4dc3-fd1d-57833d2d1951"
      },
      "source": [
        "from sklearn.preprocessing import LabelEncoder\n",
        "\n",
        "encoded_df = df. copy()\n",
        "\n",
        "\n",
        "genre_encoder = LabelEncoder()\n",
        "encoded_df['genre'] = genre_encoder.fit_transform(encoded_df['genre'])\n",
        "\n",
        "artist_encoder = LabelEncoder()\n",
        "encoded_df['artist_name'] = artist_encoder.fit_transform(encoded_df['artist_name'])\n",
        "\n",
        "song_encoder = LabelEncoder()\n",
        "encoded_df['track_name'] = encoded_df['track_name'].astype(str)\n",
        "encoded_df['track_name'] = song_encoder.fit_transform(encoded_df['track_name'])  #Raised Error: Needs to be str or int\n",
        "encoded_df"
      ],
      "execution_count": null,
      "outputs": [
        {
          "output_type": "execute_result",
          "data": {
            "text/html": [
              "<div>\n",
              "<style scoped>\n",
              "    .dataframe tbody tr th:only-of-type {\n",
              "        vertical-align: middle;\n",
              "    }\n",
              "\n",
              "    .dataframe tbody tr th {\n",
              "        vertical-align: top;\n",
              "    }\n",
              "\n",
              "    .dataframe thead th {\n",
              "        text-align: right;\n",
              "    }\n",
              "</style>\n",
              "<table border=\"1\" class=\"dataframe\">\n",
              "  <thead>\n",
              "    <tr style=\"text-align: right;\">\n",
              "      <th></th>\n",
              "      <th>genre</th>\n",
              "      <th>artist_name</th>\n",
              "      <th>track_name</th>\n",
              "      <th>track_id</th>\n",
              "      <th>popularity</th>\n",
              "      <th>acousticness</th>\n",
              "      <th>danceability</th>\n",
              "      <th>duration_ms</th>\n",
              "      <th>energy</th>\n",
              "      <th>instrumentalness</th>\n",
              "      <th>key</th>\n",
              "      <th>liveness</th>\n",
              "      <th>loudness</th>\n",
              "      <th>mode</th>\n",
              "      <th>speechiness</th>\n",
              "      <th>tempo</th>\n",
              "      <th>time_signature</th>\n",
              "      <th>valence</th>\n",
              "    </tr>\n",
              "  </thead>\n",
              "  <tbody>\n",
              "    <tr>\n",
              "      <th>0</th>\n",
              "      <td>15</td>\n",
              "      <td>5181</td>\n",
              "      <td>18317</td>\n",
              "      <td>0BRjO6ga9RKCKjfDqeFgWV</td>\n",
              "      <td>0</td>\n",
              "      <td>0.6110</td>\n",
              "      <td>0.389</td>\n",
              "      <td>99373</td>\n",
              "      <td>0.910</td>\n",
              "      <td>0.000000</td>\n",
              "      <td>0</td>\n",
              "      <td>0.3460</td>\n",
              "      <td>-1.828</td>\n",
              "      <td>0</td>\n",
              "      <td>0.0525</td>\n",
              "      <td>166.969</td>\n",
              "      <td>0</td>\n",
              "      <td>0.814</td>\n",
              "    </tr>\n",
              "    <tr>\n",
              "      <th>1</th>\n",
              "      <td>15</td>\n",
              "      <td>8254</td>\n",
              "      <td>92822</td>\n",
              "      <td>0BjC1NfoEOOusryehmNudP</td>\n",
              "      <td>1</td>\n",
              "      <td>0.2460</td>\n",
              "      <td>0.590</td>\n",
              "      <td>137373</td>\n",
              "      <td>0.737</td>\n",
              "      <td>0.000000</td>\n",
              "      <td>1</td>\n",
              "      <td>0.1510</td>\n",
              "      <td>-5.559</td>\n",
              "      <td>1</td>\n",
              "      <td>0.0868</td>\n",
              "      <td>174.003</td>\n",
              "      <td>0</td>\n",
              "      <td>0.816</td>\n",
              "    </tr>\n",
              "    <tr>\n",
              "      <th>2</th>\n",
              "      <td>15</td>\n",
              "      <td>6451</td>\n",
              "      <td>32139</td>\n",
              "      <td>0CoSDzoNIKCRs124s9uTVy</td>\n",
              "      <td>3</td>\n",
              "      <td>0.9520</td>\n",
              "      <td>0.663</td>\n",
              "      <td>170267</td>\n",
              "      <td>0.131</td>\n",
              "      <td>0.000000</td>\n",
              "      <td>2</td>\n",
              "      <td>0.1030</td>\n",
              "      <td>-13.879</td>\n",
              "      <td>1</td>\n",
              "      <td>0.0362</td>\n",
              "      <td>99.488</td>\n",
              "      <td>1</td>\n",
              "      <td>0.368</td>\n",
              "    </tr>\n",
              "    <tr>\n",
              "      <th>3</th>\n",
              "      <td>15</td>\n",
              "      <td>5181</td>\n",
              "      <td>30946</td>\n",
              "      <td>0Gc6TVm52BwZD07Ki6tIvf</td>\n",
              "      <td>0</td>\n",
              "      <td>0.7030</td>\n",
              "      <td>0.240</td>\n",
              "      <td>152427</td>\n",
              "      <td>0.326</td>\n",
              "      <td>0.000000</td>\n",
              "      <td>0</td>\n",
              "      <td>0.0985</td>\n",
              "      <td>-12.178</td>\n",
              "      <td>0</td>\n",
              "      <td>0.0395</td>\n",
              "      <td>171.758</td>\n",
              "      <td>0</td>\n",
              "      <td>0.227</td>\n",
              "    </tr>\n",
              "    <tr>\n",
              "      <th>4</th>\n",
              "      <td>15</td>\n",
              "      <td>4074</td>\n",
              "      <td>90654</td>\n",
              "      <td>0IuslXpMROHdEPvSl1fTQK</td>\n",
              "      <td>4</td>\n",
              "      <td>0.9500</td>\n",
              "      <td>0.331</td>\n",
              "      <td>82625</td>\n",
              "      <td>0.225</td>\n",
              "      <td>0.123000</td>\n",
              "      <td>3</td>\n",
              "      <td>0.2020</td>\n",
              "      <td>-21.150</td>\n",
              "      <td>0</td>\n",
              "      <td>0.0456</td>\n",
              "      <td>140.576</td>\n",
              "      <td>0</td>\n",
              "      <td>0.390</td>\n",
              "    </tr>\n",
              "    <tr>\n",
              "      <th>...</th>\n",
              "      <td>...</td>\n",
              "      <td>...</td>\n",
              "      <td>...</td>\n",
              "      <td>...</td>\n",
              "      <td>...</td>\n",
              "      <td>...</td>\n",
              "      <td>...</td>\n",
              "      <td>...</td>\n",
              "      <td>...</td>\n",
              "      <td>...</td>\n",
              "      <td>...</td>\n",
              "      <td>...</td>\n",
              "      <td>...</td>\n",
              "      <td>...</td>\n",
              "      <td>...</td>\n",
              "      <td>...</td>\n",
              "      <td>...</td>\n",
              "      <td>...</td>\n",
              "    </tr>\n",
              "    <tr>\n",
              "      <th>232716</th>\n",
              "      <td>24</td>\n",
              "      <td>6276</td>\n",
              "      <td>97939</td>\n",
              "      <td>1U0OMWvR89Cm20vCNar50f</td>\n",
              "      <td>39</td>\n",
              "      <td>0.2310</td>\n",
              "      <td>0.736</td>\n",
              "      <td>222667</td>\n",
              "      <td>0.701</td>\n",
              "      <td>0.000000</td>\n",
              "      <td>9</td>\n",
              "      <td>0.2030</td>\n",
              "      <td>-4.345</td>\n",
              "      <td>1</td>\n",
              "      <td>0.1000</td>\n",
              "      <td>99.991</td>\n",
              "      <td>0</td>\n",
              "      <td>0.770</td>\n",
              "    </tr>\n",
              "    <tr>\n",
              "      <th>232717</th>\n",
              "      <td>24</td>\n",
              "      <td>1259</td>\n",
              "      <td>90986</td>\n",
              "      <td>2gGqKJWfWbToha2YmDxnnj</td>\n",
              "      <td>43</td>\n",
              "      <td>0.1040</td>\n",
              "      <td>0.802</td>\n",
              "      <td>201173</td>\n",
              "      <td>0.516</td>\n",
              "      <td>0.000485</td>\n",
              "      <td>8</td>\n",
              "      <td>0.1050</td>\n",
              "      <td>-9.014</td>\n",
              "      <td>0</td>\n",
              "      <td>0.2130</td>\n",
              "      <td>175.666</td>\n",
              "      <td>0</td>\n",
              "      <td>0.482</td>\n",
              "    </tr>\n",
              "    <tr>\n",
              "      <th>232719</th>\n",
              "      <td>24</td>\n",
              "      <td>1633</td>\n",
              "      <td>56686</td>\n",
              "      <td>2iZf3EUedz9MPqbAvXdpdA</td>\n",
              "      <td>32</td>\n",
              "      <td>0.5660</td>\n",
              "      <td>0.423</td>\n",
              "      <td>144667</td>\n",
              "      <td>0.337</td>\n",
              "      <td>0.000000</td>\n",
              "      <td>9</td>\n",
              "      <td>0.2760</td>\n",
              "      <td>-13.092</td>\n",
              "      <td>1</td>\n",
              "      <td>0.0436</td>\n",
              "      <td>80.023</td>\n",
              "      <td>0</td>\n",
              "      <td>0.497</td>\n",
              "    </tr>\n",
              "    <tr>\n",
              "      <th>232721</th>\n",
              "      <td>24</td>\n",
              "      <td>6508</td>\n",
              "      <td>17928</td>\n",
              "      <td>1qWZdkBl4UVPj9lK6HuuFM</td>\n",
              "      <td>38</td>\n",
              "      <td>0.0329</td>\n",
              "      <td>0.785</td>\n",
              "      <td>282447</td>\n",
              "      <td>0.683</td>\n",
              "      <td>0.000880</td>\n",
              "      <td>5</td>\n",
              "      <td>0.2370</td>\n",
              "      <td>-6.944</td>\n",
              "      <td>1</td>\n",
              "      <td>0.0337</td>\n",
              "      <td>113.830</td>\n",
              "      <td>0</td>\n",
              "      <td>0.969</td>\n",
              "    </tr>\n",
              "    <tr>\n",
              "      <th>232724</th>\n",
              "      <td>24</td>\n",
              "      <td>8701</td>\n",
              "      <td>143186</td>\n",
              "      <td>34XO9RwPMKjbvRry54QzWn</td>\n",
              "      <td>35</td>\n",
              "      <td>0.0973</td>\n",
              "      <td>0.758</td>\n",
              "      <td>323027</td>\n",
              "      <td>0.470</td>\n",
              "      <td>0.000049</td>\n",
              "      <td>7</td>\n",
              "      <td>0.0836</td>\n",
              "      <td>-6.708</td>\n",
              "      <td>1</td>\n",
              "      <td>0.0287</td>\n",
              "      <td>113.897</td>\n",
              "      <td>0</td>\n",
              "      <td>0.479</td>\n",
              "    </tr>\n",
              "  </tbody>\n",
              "</table>\n",
              "<p>176774 rows × 18 columns</p>\n",
              "</div>"
            ],
            "text/plain": [
              "        genre  artist_name  track_name  ...    tempo  time_signature  valence\n",
              "0          15         5181       18317  ...  166.969               0    0.814\n",
              "1          15         8254       92822  ...  174.003               0    0.816\n",
              "2          15         6451       32139  ...   99.488               1    0.368\n",
              "3          15         5181       30946  ...  171.758               0    0.227\n",
              "4          15         4074       90654  ...  140.576               0    0.390\n",
              "...       ...          ...         ...  ...      ...             ...      ...\n",
              "232716     24         6276       97939  ...   99.991               0    0.770\n",
              "232717     24         1259       90986  ...  175.666               0    0.482\n",
              "232719     24         1633       56686  ...   80.023               0    0.497\n",
              "232721     24         6508       17928  ...  113.830               0    0.969\n",
              "232724     24         8701      143186  ...  113.897               0    0.479\n",
              "\n",
              "[176774 rows x 18 columns]"
            ]
          },
          "metadata": {
            "tags": []
          },
          "execution_count": 9
        }
      ]
    },
    {
      "cell_type": "markdown",
      "metadata": {
        "id": "VBNue3eg9S7I",
        "colab_type": "text"
      },
      "source": [
        "Are all of the columns encoded numerically??? (minus the track ID)"
      ]
    },
    {
      "cell_type": "code",
      "metadata": {
        "id": "EBOeuh5Yv6a5",
        "colab_type": "code",
        "colab": {}
      },
      "source": [
        "# encoded_df.info()"
      ],
      "execution_count": null,
      "outputs": []
    },
    {
      "cell_type": "code",
      "metadata": {
        "id": "CURExDF1o2G2",
        "colab_type": "code",
        "colab": {}
      },
      "source": [
        "# I think what is going on here is the 'track_id' col is being moved to the beginning of df\n",
        "# In preparation for the forthcoming knn slicing function...\n",
        "col_name = \"track_id\"\n",
        "first_col = encoded_df.pop(col_name)\n",
        "encoded_df.insert(0, col_name, first_col)\n",
        "\n",
        "col_name = \"track_name\"\n",
        "first_col = encoded_df.pop(col_name)\n",
        "encoded_df.insert(1, col_name, first_col)"
      ],
      "execution_count": null,
      "outputs": []
    },
    {
      "cell_type": "markdown",
      "metadata": {
        "id": "BAVrdp8qpCgG",
        "colab_type": "text"
      },
      "source": [
        "#Train, Test Split w/Target: ID"
      ]
    },
    {
      "cell_type": "code",
      "metadata": {
        "id": "0rxxB8yO-i0Y",
        "colab_type": "code",
        "colab": {}
      },
      "source": [
        "traintest_df = encoded_df.copy()  # Make copy just in case"
      ],
      "execution_count": null,
      "outputs": []
    },
    {
      "cell_type": "code",
      "metadata": {
        "id": "GEhfTJ9FOAon",
        "colab_type": "code",
        "colab": {
          "base_uri": "https://localhost:8080/",
          "height": 439
        },
        "outputId": "dee7d298-021b-444e-e8c1-6c8dc6a9dba2"
      },
      "source": [
        "traintest_df  # Double-Check everything is up to par"
      ],
      "execution_count": null,
      "outputs": [
        {
          "output_type": "execute_result",
          "data": {
            "text/html": [
              "<div>\n",
              "<style scoped>\n",
              "    .dataframe tbody tr th:only-of-type {\n",
              "        vertical-align: middle;\n",
              "    }\n",
              "\n",
              "    .dataframe tbody tr th {\n",
              "        vertical-align: top;\n",
              "    }\n",
              "\n",
              "    .dataframe thead th {\n",
              "        text-align: right;\n",
              "    }\n",
              "</style>\n",
              "<table border=\"1\" class=\"dataframe\">\n",
              "  <thead>\n",
              "    <tr style=\"text-align: right;\">\n",
              "      <th></th>\n",
              "      <th>track_id</th>\n",
              "      <th>track_name</th>\n",
              "      <th>genre</th>\n",
              "      <th>artist_name</th>\n",
              "      <th>popularity</th>\n",
              "      <th>acousticness</th>\n",
              "      <th>danceability</th>\n",
              "      <th>duration_ms</th>\n",
              "      <th>energy</th>\n",
              "      <th>instrumentalness</th>\n",
              "      <th>key</th>\n",
              "      <th>liveness</th>\n",
              "      <th>loudness</th>\n",
              "      <th>mode</th>\n",
              "      <th>speechiness</th>\n",
              "      <th>tempo</th>\n",
              "      <th>time_signature</th>\n",
              "      <th>valence</th>\n",
              "    </tr>\n",
              "  </thead>\n",
              "  <tbody>\n",
              "    <tr>\n",
              "      <th>0</th>\n",
              "      <td>0BRjO6ga9RKCKjfDqeFgWV</td>\n",
              "      <td>18317</td>\n",
              "      <td>15</td>\n",
              "      <td>5181</td>\n",
              "      <td>0</td>\n",
              "      <td>0.6110</td>\n",
              "      <td>0.389</td>\n",
              "      <td>99373</td>\n",
              "      <td>0.910</td>\n",
              "      <td>0.000000</td>\n",
              "      <td>0</td>\n",
              "      <td>0.3460</td>\n",
              "      <td>-1.828</td>\n",
              "      <td>0</td>\n",
              "      <td>0.0525</td>\n",
              "      <td>166.969</td>\n",
              "      <td>0</td>\n",
              "      <td>0.814</td>\n",
              "    </tr>\n",
              "    <tr>\n",
              "      <th>1</th>\n",
              "      <td>0BjC1NfoEOOusryehmNudP</td>\n",
              "      <td>92822</td>\n",
              "      <td>15</td>\n",
              "      <td>8254</td>\n",
              "      <td>1</td>\n",
              "      <td>0.2460</td>\n",
              "      <td>0.590</td>\n",
              "      <td>137373</td>\n",
              "      <td>0.737</td>\n",
              "      <td>0.000000</td>\n",
              "      <td>1</td>\n",
              "      <td>0.1510</td>\n",
              "      <td>-5.559</td>\n",
              "      <td>1</td>\n",
              "      <td>0.0868</td>\n",
              "      <td>174.003</td>\n",
              "      <td>0</td>\n",
              "      <td>0.816</td>\n",
              "    </tr>\n",
              "    <tr>\n",
              "      <th>2</th>\n",
              "      <td>0CoSDzoNIKCRs124s9uTVy</td>\n",
              "      <td>32139</td>\n",
              "      <td>15</td>\n",
              "      <td>6451</td>\n",
              "      <td>3</td>\n",
              "      <td>0.9520</td>\n",
              "      <td>0.663</td>\n",
              "      <td>170267</td>\n",
              "      <td>0.131</td>\n",
              "      <td>0.000000</td>\n",
              "      <td>2</td>\n",
              "      <td>0.1030</td>\n",
              "      <td>-13.879</td>\n",
              "      <td>1</td>\n",
              "      <td>0.0362</td>\n",
              "      <td>99.488</td>\n",
              "      <td>1</td>\n",
              "      <td>0.368</td>\n",
              "    </tr>\n",
              "    <tr>\n",
              "      <th>3</th>\n",
              "      <td>0Gc6TVm52BwZD07Ki6tIvf</td>\n",
              "      <td>30946</td>\n",
              "      <td>15</td>\n",
              "      <td>5181</td>\n",
              "      <td>0</td>\n",
              "      <td>0.7030</td>\n",
              "      <td>0.240</td>\n",
              "      <td>152427</td>\n",
              "      <td>0.326</td>\n",
              "      <td>0.000000</td>\n",
              "      <td>0</td>\n",
              "      <td>0.0985</td>\n",
              "      <td>-12.178</td>\n",
              "      <td>0</td>\n",
              "      <td>0.0395</td>\n",
              "      <td>171.758</td>\n",
              "      <td>0</td>\n",
              "      <td>0.227</td>\n",
              "    </tr>\n",
              "    <tr>\n",
              "      <th>4</th>\n",
              "      <td>0IuslXpMROHdEPvSl1fTQK</td>\n",
              "      <td>90654</td>\n",
              "      <td>15</td>\n",
              "      <td>4074</td>\n",
              "      <td>4</td>\n",
              "      <td>0.9500</td>\n",
              "      <td>0.331</td>\n",
              "      <td>82625</td>\n",
              "      <td>0.225</td>\n",
              "      <td>0.123000</td>\n",
              "      <td>3</td>\n",
              "      <td>0.2020</td>\n",
              "      <td>-21.150</td>\n",
              "      <td>0</td>\n",
              "      <td>0.0456</td>\n",
              "      <td>140.576</td>\n",
              "      <td>0</td>\n",
              "      <td>0.390</td>\n",
              "    </tr>\n",
              "    <tr>\n",
              "      <th>...</th>\n",
              "      <td>...</td>\n",
              "      <td>...</td>\n",
              "      <td>...</td>\n",
              "      <td>...</td>\n",
              "      <td>...</td>\n",
              "      <td>...</td>\n",
              "      <td>...</td>\n",
              "      <td>...</td>\n",
              "      <td>...</td>\n",
              "      <td>...</td>\n",
              "      <td>...</td>\n",
              "      <td>...</td>\n",
              "      <td>...</td>\n",
              "      <td>...</td>\n",
              "      <td>...</td>\n",
              "      <td>...</td>\n",
              "      <td>...</td>\n",
              "      <td>...</td>\n",
              "    </tr>\n",
              "    <tr>\n",
              "      <th>232716</th>\n",
              "      <td>1U0OMWvR89Cm20vCNar50f</td>\n",
              "      <td>97939</td>\n",
              "      <td>24</td>\n",
              "      <td>6276</td>\n",
              "      <td>39</td>\n",
              "      <td>0.2310</td>\n",
              "      <td>0.736</td>\n",
              "      <td>222667</td>\n",
              "      <td>0.701</td>\n",
              "      <td>0.000000</td>\n",
              "      <td>9</td>\n",
              "      <td>0.2030</td>\n",
              "      <td>-4.345</td>\n",
              "      <td>1</td>\n",
              "      <td>0.1000</td>\n",
              "      <td>99.991</td>\n",
              "      <td>0</td>\n",
              "      <td>0.770</td>\n",
              "    </tr>\n",
              "    <tr>\n",
              "      <th>232717</th>\n",
              "      <td>2gGqKJWfWbToha2YmDxnnj</td>\n",
              "      <td>90986</td>\n",
              "      <td>24</td>\n",
              "      <td>1259</td>\n",
              "      <td>43</td>\n",
              "      <td>0.1040</td>\n",
              "      <td>0.802</td>\n",
              "      <td>201173</td>\n",
              "      <td>0.516</td>\n",
              "      <td>0.000485</td>\n",
              "      <td>8</td>\n",
              "      <td>0.1050</td>\n",
              "      <td>-9.014</td>\n",
              "      <td>0</td>\n",
              "      <td>0.2130</td>\n",
              "      <td>175.666</td>\n",
              "      <td>0</td>\n",
              "      <td>0.482</td>\n",
              "    </tr>\n",
              "    <tr>\n",
              "      <th>232719</th>\n",
              "      <td>2iZf3EUedz9MPqbAvXdpdA</td>\n",
              "      <td>56686</td>\n",
              "      <td>24</td>\n",
              "      <td>1633</td>\n",
              "      <td>32</td>\n",
              "      <td>0.5660</td>\n",
              "      <td>0.423</td>\n",
              "      <td>144667</td>\n",
              "      <td>0.337</td>\n",
              "      <td>0.000000</td>\n",
              "      <td>9</td>\n",
              "      <td>0.2760</td>\n",
              "      <td>-13.092</td>\n",
              "      <td>1</td>\n",
              "      <td>0.0436</td>\n",
              "      <td>80.023</td>\n",
              "      <td>0</td>\n",
              "      <td>0.497</td>\n",
              "    </tr>\n",
              "    <tr>\n",
              "      <th>232721</th>\n",
              "      <td>1qWZdkBl4UVPj9lK6HuuFM</td>\n",
              "      <td>17928</td>\n",
              "      <td>24</td>\n",
              "      <td>6508</td>\n",
              "      <td>38</td>\n",
              "      <td>0.0329</td>\n",
              "      <td>0.785</td>\n",
              "      <td>282447</td>\n",
              "      <td>0.683</td>\n",
              "      <td>0.000880</td>\n",
              "      <td>5</td>\n",
              "      <td>0.2370</td>\n",
              "      <td>-6.944</td>\n",
              "      <td>1</td>\n",
              "      <td>0.0337</td>\n",
              "      <td>113.830</td>\n",
              "      <td>0</td>\n",
              "      <td>0.969</td>\n",
              "    </tr>\n",
              "    <tr>\n",
              "      <th>232724</th>\n",
              "      <td>34XO9RwPMKjbvRry54QzWn</td>\n",
              "      <td>143186</td>\n",
              "      <td>24</td>\n",
              "      <td>8701</td>\n",
              "      <td>35</td>\n",
              "      <td>0.0973</td>\n",
              "      <td>0.758</td>\n",
              "      <td>323027</td>\n",
              "      <td>0.470</td>\n",
              "      <td>0.000049</td>\n",
              "      <td>7</td>\n",
              "      <td>0.0836</td>\n",
              "      <td>-6.708</td>\n",
              "      <td>1</td>\n",
              "      <td>0.0287</td>\n",
              "      <td>113.897</td>\n",
              "      <td>0</td>\n",
              "      <td>0.479</td>\n",
              "    </tr>\n",
              "  </tbody>\n",
              "</table>\n",
              "<p>176774 rows × 18 columns</p>\n",
              "</div>"
            ],
            "text/plain": [
              "                      track_id  track_name  ...  time_signature  valence\n",
              "0       0BRjO6ga9RKCKjfDqeFgWV       18317  ...               0    0.814\n",
              "1       0BjC1NfoEOOusryehmNudP       92822  ...               0    0.816\n",
              "2       0CoSDzoNIKCRs124s9uTVy       32139  ...               1    0.368\n",
              "3       0Gc6TVm52BwZD07Ki6tIvf       30946  ...               0    0.227\n",
              "4       0IuslXpMROHdEPvSl1fTQK       90654  ...               0    0.390\n",
              "...                        ...         ...  ...             ...      ...\n",
              "232716  1U0OMWvR89Cm20vCNar50f       97939  ...               0    0.770\n",
              "232717  2gGqKJWfWbToha2YmDxnnj       90986  ...               0    0.482\n",
              "232719  2iZf3EUedz9MPqbAvXdpdA       56686  ...               0    0.497\n",
              "232721  1qWZdkBl4UVPj9lK6HuuFM       17928  ...               0    0.969\n",
              "232724  34XO9RwPMKjbvRry54QzWn      143186  ...               0    0.479\n",
              "\n",
              "[176774 rows x 18 columns]"
            ]
          },
          "metadata": {
            "tags": []
          },
          "execution_count": 13
        }
      ]
    },
    {
      "cell_type": "code",
      "metadata": {
        "id": "JfCIDup_-PBr",
        "colab_type": "code",
        "colab": {
          "base_uri": "https://localhost:8080/",
          "height": 119
        },
        "outputId": "8ad91884-7b50-4a90-b00f-a92fa73c8559"
      },
      "source": [
        "from sklearn.model_selection import train_test_split\n",
        "\n",
        "X = traintest_df[['genre', 'artist_name', 'popularity',\n",
        "       'acousticness', 'danceability', 'duration_ms', 'energy',\n",
        "       'instrumentalness', 'key', 'liveness', 'loudness', 'mode',\n",
        "       'speechiness', 'tempo', 'time_signature', 'valence']]\n",
        "\n",
        "y = traintest_df['track_name']\n",
        "\n",
        "\n",
        "X_train, X_test, y_train, y_test = train_test_split(X, y, train_size=0.85, test_size=0.15)\n",
        "print(\n",
        "    f\"\"\"\n",
        "    X Train: {X_train.shape, type(X_train)}, \n",
        "    y train: {y_train.shape, type(y_train)},\n",
        "    X Test: {X_test.shape, type(X_test)},\n",
        "    y test: {y_test.shape, type(y_test)}\n",
        "    \"\"\"\n",
        ")"
      ],
      "execution_count": null,
      "outputs": [
        {
          "output_type": "stream",
          "text": [
            "\n",
            "    X Train: ((150257, 16), <class 'pandas.core.frame.DataFrame'>), \n",
            "    y train: ((150257,), <class 'pandas.core.series.Series'>),\n",
            "    X Test: ((26517, 16), <class 'pandas.core.frame.DataFrame'>),\n",
            "    y test: ((26517,), <class 'pandas.core.series.Series'>)\n",
            "    \n"
          ],
          "name": "stdout"
        }
      ]
    },
    {
      "cell_type": "code",
      "metadata": {
        "id": "ztssJXpS-PNK",
        "colab_type": "code",
        "colab": {}
      },
      "source": [
        "# unique_class_labels =len(np.unique(y))"
      ],
      "execution_count": null,
      "outputs": []
    },
    {
      "cell_type": "code",
      "metadata": {
        "id": "C4HXgViJ-PJT",
        "colab_type": "code",
        "colab": {}
      },
      "source": [
        "from sklearn.neighbors import KNeighborsClassifier, NeighborhoodComponentsAnalysis, NearestNeighbors\n",
        "from sklearn import metrics\n",
        "from sklearn.pipeline import Pipeline\n",
        "\n",
        "# WARNING\n",
        "nca = NeighborhoodComponentsAnalysis(random_state=42)\n",
        "nn_classifier = NearestNeighbors(n_neighbors=15, n_jobs=-1)\n",
        "nca_pipe = Pipeline([\n",
        "                     ('nca', nca), \n",
        "                     ('nn', nn_classifier)\n",
        "          ])\n",
        "# nca_pipe.fit(X_train, y_train)  # Runtime Crash!??...\n",
        "# print(f'NCA Pipeline Score: {nca_pipe.score(X_test, y_test)}')\n",
        "\n",
        "# knn_nca_y_pred = nca_pipe.predict(X_test)\n",
        "# print(f'{metrics.accuracy_score(\"Actual:\",y_test, \"Predicted:\", knn_nca_y_pred)}')"
      ],
      "execution_count": null,
      "outputs": []
    },
    {
      "cell_type": "code",
      "metadata": {
        "id": "zM5mtc57GDz_",
        "colab_type": "code",
        "colab": {
          "base_uri": "https://localhost:8080/",
          "height": 221
        },
        "outputId": "7198ddb2-f13b-4d4f-932e-b7c570cc103b"
      },
      "source": [
        "nca_pipe"
      ],
      "execution_count": null,
      "outputs": [
        {
          "output_type": "execute_result",
          "data": {
            "text/plain": [
              "Pipeline(memory=None,\n",
              "         steps=[('nca',\n",
              "                 NeighborhoodComponentsAnalysis(callback=None, init='auto',\n",
              "                                                max_iter=50, n_components=None,\n",
              "                                                random_state=42, tol=1e-05,\n",
              "                                                verbose=0, warm_start=False)),\n",
              "                ('nn',\n",
              "                 NearestNeighbors(algorithm='auto', leaf_size=30,\n",
              "                                  metric='minkowski', metric_params=None,\n",
              "                                  n_jobs=-1, n_neighbors=15, p=2,\n",
              "                                  radius=1.0))],\n",
              "         verbose=False)"
            ]
          },
          "metadata": {
            "tags": []
          },
          "execution_count": 17
        }
      ]
    },
    {
      "cell_type": "code",
      "metadata": {
        "id": "_yXKfqZHo2KM",
        "colab_type": "code",
        "colab": {}
      },
      "source": [
        "# Nearest Neighbors fit then predict \n",
        "from flask import jsonify\n",
        "nneighbors = NearestNeighbors(n_neighbors=15, n_jobs=-1)\n",
        "nneighbors.fit(encoded_df[encoded_df.columns[2:]], y)  #fit all columns w/ possible slice that will be used in algorithm. No indeces or track_id\n",
        "\n",
        "\n",
        "def predict_tracks(data, track_id):\n",
        "    id_index = encoded_df.index[encoded_df['track_id'] == track_id]\n",
        "    # print(f\"id: {id}\")\n",
        "    series = encoded_df.iloc[id_index, 2:].to_numpy()\n",
        "    # print(f\"series: {series}\")\n",
        "    nneighbors_ = nneighbors.kneighbors(series)\n",
        "    new_observations = nneighbors_[1][0][6:26]\n",
        "    encoded_predict = [encoded_df.track_id.iloc[i] for i in new_observations]\n",
        "    print(f\"{len(encoded_predict)} unique json Spotify track ids were returned. The converted song titles are the following:\\n\")\n",
        "    json_output = df[df['track_id'].isin(encoded_predict)].track_name.values\n",
        " \n",
        "    # convert dictionary string to dictionary \n",
        "    # return print({'track_id': json_output})\n",
        "    return  json_output, encoded_predict"
      ],
      "execution_count": null,
      "outputs": []
    },
    {
      "cell_type": "code",
      "metadata": {
        "id": "QbpNjdN--PeF",
        "colab_type": "code",
        "colab": {}
      },
      "source": [
        "# # Choose randon track id by .loc[] column\n",
        "# df.iloc[10000]"
      ],
      "execution_count": null,
      "outputs": []
    },
    {
      "cell_type": "code",
      "metadata": {
        "id": "-MEHlAOy0Nq1",
        "colab_type": "code",
        "colab": {
          "base_uri": "https://localhost:8080/",
          "height": 323
        },
        "outputId": "2d29ab2d-9d05-41e9-a34a-dea773546686"
      },
      "source": [
        "test_song='3ipzZgH1766XXRamVwk1Iw'\n",
        "# Call Function\n",
        "predict_tracks(encoded_df, test_song)"
      ],
      "execution_count": null,
      "outputs": [
        {
          "output_type": "stream",
          "text": [
            "9 unique json Spotify track ids were returned. The converted song titles are the following:\n",
            "\n",
            "{'track_id': array(['Young And In Love', 'Amargo Adiós', 'I Am Above', 'Oil and Water',\n",
            "       'SPEED TRAP', 'I Am Above', 'Only Wanna Be with You',\n",
            "       'The King of the Golden Hall', 'Envidia'], dtype=object)}\n"
          ],
          "name": "stdout"
        },
        {
          "output_type": "execute_result",
          "data": {
            "text/plain": [
              "(array(['Young And In Love', 'Amargo Adiós', 'I Am Above', 'Oil and Water',\n",
              "        'SPEED TRAP', 'I Am Above', 'Only Wanna Be with You',\n",
              "        'The King of the Golden Hall', 'Envidia'], dtype=object),\n",
              " ['1OFKUn2VLafrHj7ybnap0Q',\n",
              "  '1rnXgo3fhkivqzp40F3MQG',\n",
              "  '2b69WEj0c5b6oj8MXcWZJS',\n",
              "  '2O8AQadTJzQ3wdhSNRHdYg',\n",
              "  '4bCNuJYfnWglrBsd9s9LDE',\n",
              "  '1V7sPJKrG9BkVsAoezgQuB',\n",
              "  '4mQwxVqjcHdUEfwSWEOopx',\n",
              "  '6qgpBezjMvybos30jStS2Z',\n",
              "  '0Ov4x4mro5sTaBlzlDuXYg'],\n",
              " None)"
            ]
          },
          "metadata": {
            "tags": []
          },
          "execution_count": 41
        }
      ]
    },
    {
      "cell_type": "code",
      "metadata": {
        "id": "I8yLv8lwSF3N",
        "colab_type": "code",
        "colab": {}
      },
      "source": [
        "next_song = df[df['track_id'].isin(encoded_predict)].track_name.values"
      ],
      "execution_count": null,
      "outputs": []
    },
    {
      "cell_type": "code",
      "metadata": {
        "id": "_G1GfkHqSkKN",
        "colab_type": "code",
        "colab": {}
      },
      "source": [
        "next_song"
      ],
      "execution_count": null,
      "outputs": []
    },
    {
      "cell_type": "code",
      "metadata": {
        "id": "OqyXCENpSkOc",
        "colab_type": "code",
        "colab": {
          "base_uri": "https://localhost:8080/",
          "height": 728
        },
        "outputId": "47826bd8-5a9f-4998-c7f6-a56f9a82a20c"
      },
      "source": [
        "df"
      ],
      "execution_count": null,
      "outputs": [
        {
          "output_type": "execute_result",
          "data": {
            "text/html": [
              "<div>\n",
              "<style scoped>\n",
              "    .dataframe tbody tr th:only-of-type {\n",
              "        vertical-align: middle;\n",
              "    }\n",
              "\n",
              "    .dataframe tbody tr th {\n",
              "        vertical-align: top;\n",
              "    }\n",
              "\n",
              "    .dataframe thead th {\n",
              "        text-align: right;\n",
              "    }\n",
              "</style>\n",
              "<table border=\"1\" class=\"dataframe\">\n",
              "  <thead>\n",
              "    <tr style=\"text-align: right;\">\n",
              "      <th></th>\n",
              "      <th>genre</th>\n",
              "      <th>artist_name</th>\n",
              "      <th>track_name</th>\n",
              "      <th>track_id</th>\n",
              "      <th>popularity</th>\n",
              "      <th>acousticness</th>\n",
              "      <th>danceability</th>\n",
              "      <th>duration_ms</th>\n",
              "      <th>energy</th>\n",
              "      <th>instrumentalness</th>\n",
              "      <th>key</th>\n",
              "      <th>liveness</th>\n",
              "      <th>loudness</th>\n",
              "      <th>mode</th>\n",
              "      <th>speechiness</th>\n",
              "      <th>tempo</th>\n",
              "      <th>time_signature</th>\n",
              "      <th>valence</th>\n",
              "    </tr>\n",
              "  </thead>\n",
              "  <tbody>\n",
              "    <tr>\n",
              "      <th>0</th>\n",
              "      <td>Movie</td>\n",
              "      <td>Henri Salvador</td>\n",
              "      <td>C'est beau de faire un Show</td>\n",
              "      <td>0BRjO6ga9RKCKjfDqeFgWV</td>\n",
              "      <td>0</td>\n",
              "      <td>0.6110</td>\n",
              "      <td>0.389</td>\n",
              "      <td>99373</td>\n",
              "      <td>0.910</td>\n",
              "      <td>0.000000</td>\n",
              "      <td>0</td>\n",
              "      <td>0.3460</td>\n",
              "      <td>-1.828</td>\n",
              "      <td>0</td>\n",
              "      <td>0.0525</td>\n",
              "      <td>166.969</td>\n",
              "      <td>0</td>\n",
              "      <td>0.814</td>\n",
              "    </tr>\n",
              "    <tr>\n",
              "      <th>1</th>\n",
              "      <td>Movie</td>\n",
              "      <td>Martin &amp; les fées</td>\n",
              "      <td>Perdu d'avance (par Gad Elmaleh)</td>\n",
              "      <td>0BjC1NfoEOOusryehmNudP</td>\n",
              "      <td>1</td>\n",
              "      <td>0.2460</td>\n",
              "      <td>0.590</td>\n",
              "      <td>137373</td>\n",
              "      <td>0.737</td>\n",
              "      <td>0.000000</td>\n",
              "      <td>1</td>\n",
              "      <td>0.1510</td>\n",
              "      <td>-5.559</td>\n",
              "      <td>1</td>\n",
              "      <td>0.0868</td>\n",
              "      <td>174.003</td>\n",
              "      <td>0</td>\n",
              "      <td>0.816</td>\n",
              "    </tr>\n",
              "    <tr>\n",
              "      <th>2</th>\n",
              "      <td>Movie</td>\n",
              "      <td>Joseph Williams</td>\n",
              "      <td>Don't Let Me Be Lonely Tonight</td>\n",
              "      <td>0CoSDzoNIKCRs124s9uTVy</td>\n",
              "      <td>3</td>\n",
              "      <td>0.9520</td>\n",
              "      <td>0.663</td>\n",
              "      <td>170267</td>\n",
              "      <td>0.131</td>\n",
              "      <td>0.000000</td>\n",
              "      <td>2</td>\n",
              "      <td>0.1030</td>\n",
              "      <td>-13.879</td>\n",
              "      <td>1</td>\n",
              "      <td>0.0362</td>\n",
              "      <td>99.488</td>\n",
              "      <td>1</td>\n",
              "      <td>0.368</td>\n",
              "    </tr>\n",
              "    <tr>\n",
              "      <th>3</th>\n",
              "      <td>Movie</td>\n",
              "      <td>Henri Salvador</td>\n",
              "      <td>Dis-moi Monsieur Gordon Cooper</td>\n",
              "      <td>0Gc6TVm52BwZD07Ki6tIvf</td>\n",
              "      <td>0</td>\n",
              "      <td>0.7030</td>\n",
              "      <td>0.240</td>\n",
              "      <td>152427</td>\n",
              "      <td>0.326</td>\n",
              "      <td>0.000000</td>\n",
              "      <td>0</td>\n",
              "      <td>0.0985</td>\n",
              "      <td>-12.178</td>\n",
              "      <td>0</td>\n",
              "      <td>0.0395</td>\n",
              "      <td>171.758</td>\n",
              "      <td>0</td>\n",
              "      <td>0.227</td>\n",
              "    </tr>\n",
              "    <tr>\n",
              "      <th>4</th>\n",
              "      <td>Movie</td>\n",
              "      <td>Fabien Nataf</td>\n",
              "      <td>Ouverture</td>\n",
              "      <td>0IuslXpMROHdEPvSl1fTQK</td>\n",
              "      <td>4</td>\n",
              "      <td>0.9500</td>\n",
              "      <td>0.331</td>\n",
              "      <td>82625</td>\n",
              "      <td>0.225</td>\n",
              "      <td>0.123000</td>\n",
              "      <td>3</td>\n",
              "      <td>0.2020</td>\n",
              "      <td>-21.150</td>\n",
              "      <td>0</td>\n",
              "      <td>0.0456</td>\n",
              "      <td>140.576</td>\n",
              "      <td>0</td>\n",
              "      <td>0.390</td>\n",
              "    </tr>\n",
              "    <tr>\n",
              "      <th>...</th>\n",
              "      <td>...</td>\n",
              "      <td>...</td>\n",
              "      <td>...</td>\n",
              "      <td>...</td>\n",
              "      <td>...</td>\n",
              "      <td>...</td>\n",
              "      <td>...</td>\n",
              "      <td>...</td>\n",
              "      <td>...</td>\n",
              "      <td>...</td>\n",
              "      <td>...</td>\n",
              "      <td>...</td>\n",
              "      <td>...</td>\n",
              "      <td>...</td>\n",
              "      <td>...</td>\n",
              "      <td>...</td>\n",
              "      <td>...</td>\n",
              "      <td>...</td>\n",
              "    </tr>\n",
              "    <tr>\n",
              "      <th>232716</th>\n",
              "      <td>Soul</td>\n",
              "      <td>John Legend</td>\n",
              "      <td>Quickly (feat. Brandy)</td>\n",
              "      <td>1U0OMWvR89Cm20vCNar50f</td>\n",
              "      <td>39</td>\n",
              "      <td>0.2310</td>\n",
              "      <td>0.736</td>\n",
              "      <td>222667</td>\n",
              "      <td>0.701</td>\n",
              "      <td>0.000000</td>\n",
              "      <td>9</td>\n",
              "      <td>0.2030</td>\n",
              "      <td>-4.345</td>\n",
              "      <td>1</td>\n",
              "      <td>0.1000</td>\n",
              "      <td>99.991</td>\n",
              "      <td>0</td>\n",
              "      <td>0.770</td>\n",
              "    </tr>\n",
              "    <tr>\n",
              "      <th>232717</th>\n",
              "      <td>Soul</td>\n",
              "      <td>Belly</td>\n",
              "      <td>P.O.P.</td>\n",
              "      <td>2gGqKJWfWbToha2YmDxnnj</td>\n",
              "      <td>43</td>\n",
              "      <td>0.1040</td>\n",
              "      <td>0.802</td>\n",
              "      <td>201173</td>\n",
              "      <td>0.516</td>\n",
              "      <td>0.000485</td>\n",
              "      <td>8</td>\n",
              "      <td>0.1050</td>\n",
              "      <td>-9.014</td>\n",
              "      <td>0</td>\n",
              "      <td>0.2130</td>\n",
              "      <td>175.666</td>\n",
              "      <td>0</td>\n",
              "      <td>0.482</td>\n",
              "    </tr>\n",
              "    <tr>\n",
              "      <th>232719</th>\n",
              "      <td>Soul</td>\n",
              "      <td>Bobby \"Blue\" Bland</td>\n",
              "      <td>I'll Take Care Of You - Single Version</td>\n",
              "      <td>2iZf3EUedz9MPqbAvXdpdA</td>\n",
              "      <td>32</td>\n",
              "      <td>0.5660</td>\n",
              "      <td>0.423</td>\n",
              "      <td>144667</td>\n",
              "      <td>0.337</td>\n",
              "      <td>0.000000</td>\n",
              "      <td>9</td>\n",
              "      <td>0.2760</td>\n",
              "      <td>-13.092</td>\n",
              "      <td>1</td>\n",
              "      <td>0.0436</td>\n",
              "      <td>80.023</td>\n",
              "      <td>0</td>\n",
              "      <td>0.497</td>\n",
              "    </tr>\n",
              "    <tr>\n",
              "      <th>232721</th>\n",
              "      <td>Soul</td>\n",
              "      <td>Jr Thomas &amp; The Volcanos</td>\n",
              "      <td>Burning Fire</td>\n",
              "      <td>1qWZdkBl4UVPj9lK6HuuFM</td>\n",
              "      <td>38</td>\n",
              "      <td>0.0329</td>\n",
              "      <td>0.785</td>\n",
              "      <td>282447</td>\n",
              "      <td>0.683</td>\n",
              "      <td>0.000880</td>\n",
              "      <td>5</td>\n",
              "      <td>0.2370</td>\n",
              "      <td>-6.944</td>\n",
              "      <td>1</td>\n",
              "      <td>0.0337</td>\n",
              "      <td>113.830</td>\n",
              "      <td>0</td>\n",
              "      <td>0.969</td>\n",
              "    </tr>\n",
              "    <tr>\n",
              "      <th>232724</th>\n",
              "      <td>Soul</td>\n",
              "      <td>Mint Condition</td>\n",
              "      <td>You Don't Have To Hurt No More</td>\n",
              "      <td>34XO9RwPMKjbvRry54QzWn</td>\n",
              "      <td>35</td>\n",
              "      <td>0.0973</td>\n",
              "      <td>0.758</td>\n",
              "      <td>323027</td>\n",
              "      <td>0.470</td>\n",
              "      <td>0.000049</td>\n",
              "      <td>7</td>\n",
              "      <td>0.0836</td>\n",
              "      <td>-6.708</td>\n",
              "      <td>1</td>\n",
              "      <td>0.0287</td>\n",
              "      <td>113.897</td>\n",
              "      <td>0</td>\n",
              "      <td>0.479</td>\n",
              "    </tr>\n",
              "  </tbody>\n",
              "</table>\n",
              "<p>176774 rows × 18 columns</p>\n",
              "</div>"
            ],
            "text/plain": [
              "        genre               artist_name  ... time_signature valence\n",
              "0       Movie            Henri Salvador  ...              0   0.814\n",
              "1       Movie         Martin & les fées  ...              0   0.816\n",
              "2       Movie           Joseph Williams  ...              1   0.368\n",
              "3       Movie            Henri Salvador  ...              0   0.227\n",
              "4       Movie              Fabien Nataf  ...              0   0.390\n",
              "...       ...                       ...  ...            ...     ...\n",
              "232716   Soul               John Legend  ...              0   0.770\n",
              "232717   Soul                     Belly  ...              0   0.482\n",
              "232719   Soul        Bobby \"Blue\" Bland  ...              0   0.497\n",
              "232721   Soul  Jr Thomas & The Volcanos  ...              0   0.969\n",
              "232724   Soul            Mint Condition  ...              0   0.479\n",
              "\n",
              "[176774 rows x 18 columns]"
            ]
          },
          "metadata": {
            "tags": []
          },
          "execution_count": 42
        }
      ]
    },
    {
      "cell_type": "code",
      "metadata": {
        "id": "PzazvbWaSkVR",
        "colab_type": "code",
        "colab": {}
      },
      "source": [
        ""
      ],
      "execution_count": null,
      "outputs": []
    },
    {
      "cell_type": "code",
      "metadata": {
        "id": "j-GRwMBkSkTg",
        "colab_type": "code",
        "colab": {}
      },
      "source": [
        "#Goal: To take the list of recommendations returned and find the best next song choice. \n",
        "# Create a dataframe using list of"
      ],
      "execution_count": null,
      "outputs": []
    },
    {
      "cell_type": "markdown",
      "metadata": {
        "id": "yxZOaiE4SFU_",
        "colab_type": "text"
      },
      "source": [
        ""
      ]
    },
    {
      "cell_type": "code",
      "metadata": {
        "id": "4OoLQ1pqMnke",
        "colab_type": "code",
        "colab": {}
      },
      "source": [
        "# Use a model of your choice to determine the next single song to play"
      ],
      "execution_count": null,
      "outputs": []
    },
    {
      "cell_type": "code",
      "metadata": {
        "id": "QmuZYNY16r1X",
        "colab_type": "code",
        "colab": {
          "base_uri": "https://localhost:8080/",
          "height": 197
        },
        "outputId": "3378709d-147f-4f18-b33c-aa89bc1ec1af"
      },
      "source": [
        "from sklearn.model_selection import StratifiedKFold, RandomizedSearchCV\n",
        "from sklearn.feature_extraction.text import TfidfVectorizer\n",
        "from sklearn.pipeline import Pipeline\n",
        "\n",
        "tfidf = TfidfVectorizer(stop_words='english',\n",
        "        ngram_range=(1, 3),\n",
        "        max_features=5000,\n",
        "    )\n",
        "nn = NearestNeighbors(n_neighbors=15, n_jobs=-1)\n",
        "skf = StratifiedKFold(n_splits=2)\n",
        "pipeline = Pipeline([\n",
        "    ('vect', tfidf),\n",
        "    ('clf', nn)\n",
        "])\n",
        "param_grid = {\n",
        "    'vect__stop_words': [None],\n",
        "    'vect__ngram_range': [(1,2), (1,3)],\n",
        "    'vect__min_df': (0, 0.15),\n",
        "    'vect__max_df': (0.55, 1.0),\n",
        "}\n",
        "rndm_cv = RandomizedSearchCV(\n",
        "                        estimator=pipeline, \n",
        "                        param_distributions=param_grid, \n",
        "                        cv=skf, \n",
        "                        n_jobs=-1, \n",
        "                        verbose=10, \n",
        "                        return_train_score=True\n",
        "    )\n",
        "\n",
        "rndm_cv.fit(listofsongs, final_strains['name'])"
      ],
      "execution_count": null,
      "outputs": [
        {
          "output_type": "error",
          "ename": "NameError",
          "evalue": "ignored",
          "traceback": [
            "\u001b[0;31m---------------------------------------------------------------------------\u001b[0m",
            "\u001b[0;31mNameError\u001b[0m                                 Traceback (most recent call last)",
            "\u001b[0;32m<ipython-input-33-0cbba9049a20>\u001b[0m in \u001b[0;36m<module>\u001b[0;34m()\u001b[0m\n\u001b[1;32m     28\u001b[0m     )\n\u001b[1;32m     29\u001b[0m \u001b[0;34m\u001b[0m\u001b[0m\n\u001b[0;32m---> 30\u001b[0;31m \u001b[0mrndm_cv\u001b[0m\u001b[0;34m.\u001b[0m\u001b[0mfit\u001b[0m\u001b[0;34m(\u001b[0m\u001b[0mjson_output\u001b[0m\u001b[0;34m,\u001b[0m \u001b[0mfinal_strains\u001b[0m\u001b[0;34m[\u001b[0m\u001b[0;34m'name'\u001b[0m\u001b[0;34m]\u001b[0m\u001b[0;34m)\u001b[0m\u001b[0;34m\u001b[0m\u001b[0;34m\u001b[0m\u001b[0m\n\u001b[0m",
            "\u001b[0;31mNameError\u001b[0m: name 'json_output' is not defined"
          ]
        }
      ]
    },
    {
      "cell_type": "code",
      "metadata": {
        "id": "CIIWrDiVMZhv",
        "colab_type": "code",
        "colab": {}
      },
      "source": [
        "test_song = [test_song]\n",
        "rndm_cv.predict(exatest_songmple2)"
      ],
      "execution_count": null,
      "outputs": []
    },
    {
      "cell_type": "markdown",
      "metadata": {
        "id": "kIF8ugfpbDjn",
        "colab_type": "text"
      },
      "source": [
        "#Webscraping"
      ]
    },
    {
      "cell_type": "code",
      "metadata": {
        "id": "qAUuL_dOMZeU",
        "colab_type": "code",
        "colab": {}
      },
      "source": [
        "import bs4 as bs\n",
        "import urllib.request\n",
        "\n",
        "source = urllib.request.urlopen('https://pythonprogramming.net/parsememcparseface/').read()"
      ],
      "execution_count": null,
      "outputs": []
    },
    {
      "cell_type": "code",
      "metadata": {
        "id": "muhtsjW4bmbf",
        "colab_type": "code",
        "colab": {
          "base_uri": "https://localhost:8080/",
          "height": 69
        },
        "outputId": "f44366a9-c8b3-4a56-e523-1f7a9d3b3b8e"
      },
      "source": [
        "df.head(0)"
      ],
      "execution_count": null,
      "outputs": [
        {
          "output_type": "execute_result",
          "data": {
            "text/html": [
              "<div>\n",
              "<style scoped>\n",
              "    .dataframe tbody tr th:only-of-type {\n",
              "        vertical-align: middle;\n",
              "    }\n",
              "\n",
              "    .dataframe tbody tr th {\n",
              "        vertical-align: top;\n",
              "    }\n",
              "\n",
              "    .dataframe thead th {\n",
              "        text-align: right;\n",
              "    }\n",
              "</style>\n",
              "<table border=\"1\" class=\"dataframe\">\n",
              "  <thead>\n",
              "    <tr style=\"text-align: right;\">\n",
              "      <th></th>\n",
              "      <th>genre</th>\n",
              "      <th>artist_name</th>\n",
              "      <th>track_name</th>\n",
              "      <th>track_id</th>\n",
              "      <th>popularity</th>\n",
              "      <th>acousticness</th>\n",
              "      <th>danceability</th>\n",
              "      <th>duration_ms</th>\n",
              "      <th>energy</th>\n",
              "      <th>instrumentalness</th>\n",
              "      <th>key</th>\n",
              "      <th>liveness</th>\n",
              "      <th>loudness</th>\n",
              "      <th>mode</th>\n",
              "      <th>speechiness</th>\n",
              "      <th>tempo</th>\n",
              "      <th>time_signature</th>\n",
              "      <th>valence</th>\n",
              "    </tr>\n",
              "  </thead>\n",
              "  <tbody>\n",
              "  </tbody>\n",
              "</table>\n",
              "</div>"
            ],
            "text/plain": [
              "Empty DataFrame\n",
              "Columns: [genre, artist_name, track_name, track_id, popularity, acousticness, danceability, duration_ms, energy, instrumentalness, key, liveness, loudness, mode, speechiness, tempo, time_signature, valence]\n",
              "Index: []"
            ]
          },
          "metadata": {
            "tags": []
          },
          "execution_count": 57
        }
      ]
    },
    {
      "cell_type": "code",
      "metadata": {
        "id": "yUQGK3G9bBOn",
        "colab_type": "code",
        "colab": {
          "base_uri": "https://localhost:8080/",
          "height": 340
        },
        "outputId": "ebc698e7-13bb-41a9-c706-7bb68520fb25"
      },
      "source": [
        "df.iloc[0]"
      ],
      "execution_count": null,
      "outputs": [
        {
          "output_type": "execute_result",
          "data": {
            "text/plain": [
              "genre                                     Movie\n",
              "artist_name                      Henri Salvador\n",
              "track_name          C'est beau de faire un Show\n",
              "track_id                 0BRjO6ga9RKCKjfDqeFgWV\n",
              "popularity                                    0\n",
              "acousticness                              0.611\n",
              "danceability                              0.389\n",
              "duration_ms                               99373\n",
              "energy                                     0.91\n",
              "instrumentalness                              0\n",
              "key                                           0\n",
              "liveness                                  0.346\n",
              "loudness                                 -1.828\n",
              "mode                                          0\n",
              "speechiness                              0.0525\n",
              "tempo                                   166.969\n",
              "time_signature                                0\n",
              "valence                                   0.814\n",
              "Name: 0, dtype: object"
            ]
          },
          "metadata": {
            "tags": []
          },
          "execution_count": 59
        }
      ]
    },
    {
      "cell_type": "code",
      "metadata": {
        "id": "J4j-BAzDbBUQ",
        "colab_type": "code",
        "colab": {}
      },
      "source": [
        ""
      ],
      "execution_count": null,
      "outputs": []
    },
    {
      "cell_type": "code",
      "metadata": {
        "id": "sh364iyCbBY3",
        "colab_type": "code",
        "colab": {}
      },
      "source": [
        ""
      ],
      "execution_count": null,
      "outputs": []
    },
    {
      "cell_type": "code",
      "metadata": {
        "id": "W7xRmmK3bBjo",
        "colab_type": "code",
        "colab": {}
      },
      "source": [
        ""
      ],
      "execution_count": null,
      "outputs": []
    },
    {
      "cell_type": "code",
      "metadata": {
        "id": "xz6xcFnRbBnj",
        "colab_type": "code",
        "colab": {}
      },
      "source": [
        ""
      ],
      "execution_count": null,
      "outputs": []
    },
    {
      "cell_type": "code",
      "metadata": {
        "id": "d1exgHIobBgO",
        "colab_type": "code",
        "colab": {}
      },
      "source": [
        ""
      ],
      "execution_count": null,
      "outputs": []
    },
    {
      "cell_type": "code",
      "metadata": {
        "id": "nA-gFrDUbBel",
        "colab_type": "code",
        "colab": {}
      },
      "source": [
        ""
      ],
      "execution_count": null,
      "outputs": []
    },
    {
      "cell_type": "code",
      "metadata": {
        "id": "EzZCX3i7bBLn",
        "colab_type": "code",
        "colab": {}
      },
      "source": [
        ""
      ],
      "execution_count": null,
      "outputs": []
    },
    {
      "cell_type": "code",
      "metadata": {
        "id": "_AbVzLo8bBBK",
        "colab_type": "code",
        "colab": {}
      },
      "source": [
        ""
      ],
      "execution_count": null,
      "outputs": []
    },
    {
      "cell_type": "code",
      "metadata": {
        "id": "VowDt7i2bA9Y",
        "colab_type": "code",
        "colab": {}
      },
      "source": [
        ""
      ],
      "execution_count": null,
      "outputs": []
    },
    {
      "cell_type": "code",
      "metadata": {
        "id": "WRDb9KMxbA56",
        "colab_type": "code",
        "colab": {}
      },
      "source": [
        ""
      ],
      "execution_count": null,
      "outputs": []
    },
    {
      "cell_type": "code",
      "metadata": {
        "id": "GIlyjW--MZVE",
        "colab_type": "code",
        "colab": {}
      },
      "source": [
        ""
      ],
      "execution_count": null,
      "outputs": []
    },
    {
      "cell_type": "code",
      "metadata": {
        "id": "PAgitz5y9_7V",
        "colab_type": "code",
        "colab": {}
      },
      "source": [
        "# Pickle Final Model\n",
        "import joblib\n",
        "filename = \"NN_Model_Final.joblib\"\n",
        "item_to_save = nneighbors\n",
        "joblib.dump(item_to_save, filename, compress=2, protocol=None, cache_size=None)"
      ],
      "execution_count": null,
      "outputs": []
    },
    {
      "cell_type": "code",
      "metadata": {
        "id": "WbsgNI_3MZpH",
        "colab_type": "code",
        "colab": {}
      },
      "source": [
        "dump(rndm_cv, 'Next_Single_to_Play_Model.joblib', compress=True)"
      ],
      "execution_count": null,
      "outputs": []
    },
    {
      "cell_type": "code",
      "metadata": {
        "id": "GPHjZY6dQqFC",
        "colab_type": "code",
        "colab": {}
      },
      "source": [
        ""
      ],
      "execution_count": null,
      "outputs": []
    },
    {
      "cell_type": "code",
      "metadata": {
        "id": "7mXgE0yvQqIn",
        "colab_type": "code",
        "colab": {}
      },
      "source": [
        ""
      ],
      "execution_count": null,
      "outputs": []
    },
    {
      "cell_type": "code",
      "metadata": {
        "id": "OdbqRAY3QqMn",
        "colab_type": "code",
        "colab": {}
      },
      "source": [
        ""
      ],
      "execution_count": null,
      "outputs": []
    },
    {
      "cell_type": "markdown",
      "metadata": {
        "id": "BoOaDQQoQrAc",
        "colab_type": "text"
      },
      "source": [
        "# Load Pickle Model"
      ]
    },
    {
      "cell_type": "code",
      "metadata": {
        "id": "W421uZAt6rqg",
        "colab_type": "code",
        "colab": {}
      },
      "source": [
        "filename = 'NN_Model_Final.joblib'\n",
        "NNeighbors_Model = joblib.load(filename)\n",
        "# filename = \"NN_Model_Final.joblib\"\n",
        "# with open(filename, 'rb') as fo:  # doctest: +ELLIPSIS\n",
        "#       NNeighbors_Model = joblib.load(fo)"
      ],
      "execution_count": null,
      "outputs": []
    },
    {
      "cell_type": "code",
      "metadata": {
        "id": "xlL9zQwr6ryC",
        "colab_type": "code",
        "colab": {}
      },
      "source": [
        "# # Call Function\n",
        "# test_song='2iZf3EUedz9MPqbAvXdpdA'\n",
        "# predict_tracks(encoded_df, test_song)"
      ],
      "execution_count": null,
      "outputs": []
    },
    {
      "cell_type": "code",
      "metadata": {
        "id": "0LTd-tE76rvn",
        "colab_type": "code",
        "colab": {}
      },
      "source": [
        ""
      ],
      "execution_count": null,
      "outputs": []
    },
    {
      "cell_type": "code",
      "metadata": {
        "id": "oBC7pttx4O6m",
        "colab_type": "code",
        "colab": {}
      },
      "source": [
        ""
      ],
      "execution_count": null,
      "outputs": []
    },
    {
      "cell_type": "code",
      "metadata": {
        "id": "9-7eeMj54O2U",
        "colab_type": "code",
        "colab": {}
      },
      "source": [
        ""
      ],
      "execution_count": null,
      "outputs": []
    },
    {
      "cell_type": "code",
      "metadata": {
        "id": "vHi9gHBVo2UP",
        "colab_type": "code",
        "colab": {}
      },
      "source": [
        ""
      ],
      "execution_count": null,
      "outputs": []
    },
    {
      "cell_type": "code",
      "metadata": {
        "id": "Z2xXUZ-jaUmz",
        "colab_type": "code",
        "colab": {}
      },
      "source": [
        ""
      ],
      "execution_count": null,
      "outputs": []
    },
    {
      "cell_type": "code",
      "metadata": {
        "id": "dMZBmwuZaUqM",
        "colab_type": "code",
        "colab": {}
      },
      "source": [
        ""
      ],
      "execution_count": null,
      "outputs": []
    },
    {
      "cell_type": "code",
      "metadata": {
        "id": "yv52xw0KaUul",
        "colab_type": "code",
        "colab": {}
      },
      "source": [
        ""
      ],
      "execution_count": null,
      "outputs": []
    },
    {
      "cell_type": "code",
      "metadata": {
        "id": "iaezX2cdnMh_",
        "colab_type": "code",
        "colab": {}
      },
      "source": [
        ""
      ],
      "execution_count": null,
      "outputs": []
    }
  ]
}